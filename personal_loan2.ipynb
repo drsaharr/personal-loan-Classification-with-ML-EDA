{
 "cells": [
  {
   "cell_type": "markdown",
   "id": "9fb98ced",
   "metadata": {},
   "source": [
    "<div style=\"\n",
    "    background: linear-gradient(135deg,rgb(0, 0, 0),rgb(5, 19, 3),rgba(21, 105, 6, 0.83));\n",
    "    width: 50%;\n",
    "    margin: 40px auto;\n",
    "    border-radius: 25px;\n",
    "    text-align: center;\n",
    "    box-shadow: 0px 0px 10px rgb(64, 255, 0);\n",
    "    color: #e3f2fd;\n",
    "    font-size: 28px;\n",
    "    padding: 25px 35px;\n",
    "    font-family: 'Poppins', 'Segoe UI', Tahoma, Geneva, Verdana, sans-serif;\n",
    "    font-weight: 600;\n",
    "    letter-spacing: 1px;\n",
    "    transition: all 0.3s ease;\n",
    "\">\n",
    "    About Dataset\n",
    "</div>\n"
   ]
  },
  {
   "cell_type": "raw",
   "id": "f4d41ead-bc47-4758-bb62-97ab81ad46ce",
   "metadata": {
    "id": "f4d41ead-bc47-4758-bb62-97ab81ad46ce"
   },
   "source": [
    " our dataset contains 5,000 rows and 14 columns. Here’s a brief overview of the features:\n",
    " • Age, Experience, Income, Mortgage: Numerical features related to personal and financial   information.\n",
    " • ZIP Code: Postal code.\n",
    " • Family: Number of family members.\n",
    " • CCAvg: Average credit card spending\n",
    " • Education: Education level (likely values: 1, 2, 3).\n",
    " • Personal Loan: Target variable (whether the person accepted a personal loan: 0 = No, 1 = Yes).\n",
    " • Securities Account, CD Account, Online, CreditCard: Binary indicators for account types or services (0 = No, 1 = Yes)."
   ]
  },
  {
   "cell_type": "markdown",
   "id": "05aa255a",
   "metadata": {},
   "source": [
    "<div style=\"\n",
    "    background: linear-gradient(135deg,rgb(0, 0, 0),rgb(5, 19, 3),rgba(21, 105, 6, 0.83));\n",
    "    width: 30%;\n",
    "    margin: 40px auto;\n",
    "    border-radius: 25px;\n",
    "    text-align: center;\n",
    "    box-shadow: 0px 0px 10px rgb(64, 255, 0);\n",
    "    color: #e3f2fd;\n",
    "    font-size: 24px;\n",
    "    padding: 25px 35px;\n",
    "    font-family: 'Poppins', 'Segoe UI', Tahoma, Geneva, Verdana, sans-serif;\n",
    "    font-weight: 600;\n",
    "    letter-spacing: 1px;\n",
    "    transition: all 0.3s ease;\n",
    "\">\n",
    "    Preprocessing & Visualization\n",
    "</div>\n"
   ]
  },
  {
   "cell_type": "code",
   "execution_count": null,
   "id": "55921e12-f037-4733-8f4c-7925fadb7c9a",
   "metadata": {
    "colab": {
     "base_uri": "https://localhost:8080/"
    },
    "id": "55921e12-f037-4733-8f4c-7925fadb7c9a",
    "outputId": "fa334833-6cf8-4beb-a705-bfa3b3996216"
   },
   "outputs": [],
   "source": [
    "import pandas as pd\n",
    "import numpy as np\n",
    "import seaborn as sns\n",
    "import matplotlib.pyplot as plt\n",
    "#plt.style.use(\"seaborn\")\n",
    "import chardet\n",
    "import csv\n",
    "import itertools\n",
    "import math\n",
    "# Import libraries\n",
    "%matplotlib inline\n",
    "\n",
    "import pgeocode\n",
    "\n",
    "\n",
    "import plotly as py\n",
    "\n",
    "\n",
    "import zipcodes as zcode\n",
    "import plotly.express as px\n",
    "\n",
    "\n",
    "import plotly.graph_objects as go\n",
    "import matplotlib.gridspec as gridspec\n",
    "from plotly.subplots import make_subplots\n",
    "from matplotlib.patches import ConnectionPatch\n",
    "from plotly.offline import init_notebook_mode, iplot, plot\n",
    "import warnings\n",
    "warnings.filterwarnings('ignore')\n",
    "from sklearn import metrics\n",
    "from sklearn import preprocessing\n",
    "from sklearn.naive_bayes import GaussianNB\n",
    "from sklearn.naive_bayes import BernoulliNB\n",
    "from sklearn.naive_bayes import ComplementNB\n",
    "from sklearn.naive_bayes import MultinomialNB\n",
    "from sklearn.neighbors import KNeighborsClassifier\n",
    "from sklearn.linear_model import LogisticRegression\n",
    "from sklearn.model_selection import train_test_split, cross_val_score, StratifiedKFold\n",
    "from sklearn.metrics import classification_report,confusion_matrix,precision_score,jaccard_score,recall_score,f1_score"
   ]
  },
  {
   "cell_type": "code",
   "execution_count": null,
   "id": "bebf8813-e82f-4da0-9445-1d68dadfd038",
   "metadata": {
    "colab": {
     "base_uri": "https://localhost:8080/",
     "height": 461
    },
    "id": "bebf8813-e82f-4da0-9445-1d68dadfd038",
    "outputId": "2b6b3b79-8941-4129-ba48-25129348dca7"
   },
   "outputs": [],
   "source": [
    "data = pd.read_csv(r\"C:\\\\Users\\\\SONY\\\\Downloads\\\\Bank_Personal_Loan_Modelling(1).csv\")\n",
    "data\n",
    "\n"
   ]
  },
  {
   "cell_type": "code",
   "execution_count": null,
   "id": "b863cc14-f6ac-4362-9a20-a6c0e1fe3b22",
   "metadata": {
    "colab": {
     "base_uri": "https://localhost:8080/",
     "height": 461
    },
    "id": "b863cc14-f6ac-4362-9a20-a6c0e1fe3b22",
    "outputId": "d53bff4c-e770-49cc-8c83-e300e08a53cc"
   },
   "outputs": [],
   "source": [
    "df=pd.DataFrame(data)\n",
    "df\n"
   ]
  },
  {
   "cell_type": "markdown",
   "id": "f1a60603-caf6-4957-94da-17095271d345",
   "metadata": {
    "id": "f1a60603-caf6-4957-94da-17095271d345"
   },
   "source": [
    "\n",
    "1. The CCAvg column needs to be converted to a number, as it is formatted incorrectly (0/30 instead of 0.30)\n",
    "2. There are negative values ​​in Experience and they need to be corrected (e.g. with the median of positives)\n",
    "3. The majority of customers have not taken out a personal loan (only 9.6% have) → the data is unbalanced"
   ]
  },
  {
   "cell_type": "code",
   "execution_count": null,
   "id": "32d59cf9-bdee-4fa7-99b6-1b25fae15f4e",
   "metadata": {
    "colab": {
     "base_uri": "https://localhost:8080/",
     "height": 432
    },
    "id": "32d59cf9-bdee-4fa7-99b6-1b25fae15f4e",
    "outputId": "ff1a72ef-d3c1-49ca-946d-950bf8da96fb"
   },
   "outputs": [],
   "source": [
    "df.describe(include=\"all\")"
   ]
  },
  {
   "cell_type": "markdown",
   "id": "4d896647-f4a3-4a56-981a-914a28f6e9cb",
   "metadata": {
    "id": "4d896647-f4a3-4a56-981a-914a28f6e9cb"
   },
   "source": [
    "we can see statistical information on the table above"
   ]
  },
  {
   "cell_type": "code",
   "execution_count": null,
   "id": "c8a70efa-400a-438e-8b32-8ac6225e3ead",
   "metadata": {
    "colab": {
     "base_uri": "https://localhost:8080/",
     "height": 175
    },
    "id": "c8a70efa-400a-438e-8b32-8ac6225e3ead",
    "outputId": "74042806-bcc5-411e-c022-31f9f27f7cdf"
   },
   "outputs": [],
   "source": [
    "df.describe(include=\"object\")"
   ]
  },
  {
   "cell_type": "code",
   "execution_count": null,
   "id": "a9498f9c-7ff6-4501-bea3-49a980ad6ec2",
   "metadata": {
    "colab": {
     "base_uri": "https://localhost:8080/"
    },
    "id": "a9498f9c-7ff6-4501-bea3-49a980ad6ec2",
    "outputId": "9331fe59-7b29-4792-fdac-02441b513e8d"
   },
   "outputs": [],
   "source": [
    "df.info()"
   ]
  },
  {
   "cell_type": "markdown",
   "id": "59630b0e-7d62-4b3f-88a5-05434fc4a661",
   "metadata": {
    "id": "59630b0e-7d62-4b3f-88a5-05434fc4a661"
   },
   "source": [
    "Modify the CCAvg column (average credit card usage) and modify the Experience column (work experience)"
   ]
  },
  {
   "cell_type": "code",
   "execution_count": null,
   "id": "dd430839-74eb-4b33-baa7-cfe58d392ba0",
   "metadata": {
    "colab": {
     "base_uri": "https://localhost:8080/"
    },
    "id": "dd430839-74eb-4b33-baa7-cfe58d392ba0",
    "outputId": "14b0724e-6254-488d-cb74-4a16605f2423"
   },
   "outputs": [],
   "source": [
    "# ✅ 1. Fix the CCAvg column (convert '0/30' to 0.30)\n",
    "df['CCAvg'] = df['CCAvg'].str.replace(\"/\", \".\", regex=False)\n",
    "df['CCAvg'] = pd.to_numeric(df['CCAvg'], errors='coerce')\n",
    "\n",
    "# ✅ 2.positive, negative values in Experience\n",
    "df[\"Experience\"]=abs(df[\"Experience\"])\n",
    "\n",
    "# Check the result\n",
    "print(df[['CCAvg', 'Experience']].describe())"
   ]
  },
  {
   "cell_type": "code",
   "execution_count": null,
   "id": "dfded5eb-ae1a-42bf-9b81-a63179fe2814",
   "metadata": {
    "colab": {
     "base_uri": "https://localhost:8080/"
    },
    "id": "dfded5eb-ae1a-42bf-9b81-a63179fe2814",
    "outputId": "6367ae8a-a334-40ae-e50c-d2853d61640c"
   },
   "outputs": [],
   "source": [
    "print(df[df[\"Experience\"]<0])"
   ]
  },
  {
   "cell_type": "code",
   "execution_count": null,
   "id": "57f4beb3-db9f-4567-93f9-77d2c7041cf5",
   "metadata": {
    "colab": {
     "base_uri": "https://localhost:8080/"
    },
    "id": "57f4beb3-db9f-4567-93f9-77d2c7041cf5",
    "outputId": "493af031-10e4-4051-c64a-32132206e096"
   },
   "outputs": [],
   "source": [
    "print(df.shape)"
   ]
  },
  {
   "cell_type": "code",
   "execution_count": null,
   "id": "3766cbd3-7a7d-465e-ab88-e9117744fccc",
   "metadata": {
    "colab": {
     "base_uri": "https://localhost:8080/"
    },
    "id": "3766cbd3-7a7d-465e-ab88-e9117744fccc",
    "outputId": "d999b656-dd3a-46bb-e2d4-67ea63bc300b"
   },
   "outputs": [],
   "source": [
    "with open(\"C:\\\\Users\\\\SONY\\\\Downloads\\\\Bank_Personal_Loan_Modelling(1).csv\", 'rb') as f:\n",
    "    result = chardet.detect(f.read())\n",
    "    print(result['encoding'])"
   ]
  },
  {
   "cell_type": "code",
   "execution_count": null,
   "id": "7d0307dd-8e88-4dd2-977a-4c748dd95982",
   "metadata": {
    "colab": {
     "base_uri": "https://localhost:8080/"
    },
    "id": "7d0307dd-8e88-4dd2-977a-4c748dd95982",
    "outputId": "adaf66b2-f75c-4ea9-e31f-597576d096e5"
   },
   "outputs": [],
   "source": [
    "with open(r\"C:\\\\Users\\\\SONY\\\\Downloads\\\\Bank_Personal_Loan_Modelling(1).csv\", 'r') as f:\n",
    "\n",
    "\n",
    "    dialect = csv.Sniffer().sniff(f.read(1024))\n",
    "\n",
    "\n",
    "    print(f\"The delimiter detected for the car dataset is: {dialect.delimiter}\")\n",
    "\n",
    "\n"
   ]
  },
  {
   "cell_type": "code",
   "execution_count": null,
   "id": "4af79a46-232c-43e6-9244-6fddfb398c73",
   "metadata": {
    "colab": {
     "base_uri": "https://localhost:8080/"
    },
    "id": "4af79a46-232c-43e6-9244-6fddfb398c73",
    "outputId": "802a3adf-ff6e-4dc0-a3bd-76f6c5fb0aa1"
   },
   "outputs": [],
   "source": [
    "print(df.columns)"
   ]
  },
  {
   "cell_type": "code",
   "execution_count": null,
   "id": "b0eda578-cea9-4890-b4de-e813f55a5add",
   "metadata": {
    "id": "b0eda578-cea9-4890-b4de-e813f55a5add"
   },
   "outputs": [],
   "source": [
    "def describe(df):\n",
    "\n",
    "\n",
    "    variables = []   # Column names\n",
    "    dtypes = []    # Data types of columns\n",
    "    count = []      # Total number of entries in each column\n",
    "    unique = []      # Number of unique values in each column\n",
    "    missing = []    # Count of missing (NaN) values in each column\n",
    "\n",
    "     # Loop through each column in the DataFrame\n",
    "    for item in df.columns:\n",
    "        variables.append(item)    # Append column name\n",
    "        dtypes.append(df[item].dtype)  # Append column data type\n",
    "        count.append(len(df[item]))\n",
    "        unique.append(len(df[item].unique()))\n",
    "        missing.append(df[item].isna().sum())\n",
    "\n",
    "\n",
    "    output = pd.DataFrame({\n",
    "        'Variable': variables,\n",
    "        'Dtype': dtypes,\n",
    "        'Count': count,\n",
    "        'Unique': unique,\n",
    "        'Missing value': missing\n",
    "    })\n",
    "\n",
    "    return output"
   ]
  },
  {
   "cell_type": "code",
   "execution_count": null,
   "id": "664c4dcb-a96e-42e0-b63f-af334ae58252",
   "metadata": {
    "colab": {
     "base_uri": "https://localhost:8080/",
     "height": 488
    },
    "id": "664c4dcb-a96e-42e0-b63f-af334ae58252",
    "outputId": "723b1241-f100-49d5-de22-94e71ce3c206"
   },
   "outputs": [],
   "source": [
    "describe(df)"
   ]
  },
  {
   "cell_type": "code",
   "execution_count": null,
   "id": "d126f599-c642-44e5-aec4-c2d55bdbaa54",
   "metadata": {
    "colab": {
     "base_uri": "https://localhost:8080/",
     "height": 488
    },
    "id": "d126f599-c642-44e5-aec4-c2d55bdbaa54",
    "outputId": "bf6e149c-f081-46b0-f5b1-5f667a4b6b97"
   },
   "outputs": [],
   "source": [
    "percent_missing = df.isnull().sum() * 100 / len(df)\n",
    "missing_value_df = pd.DataFrame({'column_name': df.columns,\n",
    "                                 'percent_missing': percent_missing})\n",
    "percent = pd.DataFrame(missing_value_df)\n",
    "percent"
   ]
  },
  {
   "cell_type": "code",
   "execution_count": null,
   "id": "30692a62-a1d9-4a33-bcea-7fd8d7cb151e",
   "metadata": {
    "colab": {
     "base_uri": "https://localhost:8080/"
    },
    "id": "30692a62-a1d9-4a33-bcea-7fd8d7cb151e",
    "outputId": "072bfea5-f552-4fe2-e323-1ace63dcf39c"
   },
   "outputs": [],
   "source": [
    "# Display unique values for each column\n",
    "for column in df.columns:\n",
    "    print(f\"Unique values in '{column}':\")\n",
    "    print(df[column].unique())\n",
    "    print(\"-\" * 40)"
   ]
  },
  {
   "cell_type": "code",
   "execution_count": null,
   "id": "14d46bf3-36fa-4eba-905e-acba4f989b79",
   "metadata": {
    "colab": {
     "base_uri": "https://localhost:8080/"
    },
    "id": "14d46bf3-36fa-4eba-905e-acba4f989b79",
    "outputId": "c8e12471-7406-4031-fc76-241291214493"
   },
   "outputs": [],
   "source": [
    "print(df.nunique())"
   ]
  },
  {
   "cell_type": "code",
   "execution_count": null,
   "id": "f4660498-dc15-4ecf-b014-4817ee20b919",
   "metadata": {
    "colab": {
     "base_uri": "https://localhost:8080/"
    },
    "id": "f4660498-dc15-4ecf-b014-4817ee20b919",
    "outputId": "e43964ae-b1bd-4789-94ec-b1089643ecf1"
   },
   "outputs": [],
   "source": [
    "for column in df.columns:\n",
    "    print(f\"Value counts for '{column}':\")\n",
    "    print(df[column].value_counts())\n",
    "    print(\"-\" * 40)"
   ]
  },
  {
   "cell_type": "code",
   "execution_count": null,
   "id": "75fc05be-5592-4c51-80be-6748e0192bf5",
   "metadata": {
    "colab": {
     "base_uri": "https://localhost:8080/",
     "height": 523
    },
    "id": "75fc05be-5592-4c51-80be-6748e0192bf5",
    "outputId": "0b54bf79-c776-4fe8-d640-6b3f7e2fd5a8"
   },
   "outputs": [],
   "source": [
    "df.isnull().sum()"
   ]
  },
  {
   "cell_type": "code",
   "execution_count": null,
   "id": "f7213ad7-8715-44ae-91d5-7f38e3ac03d2",
   "metadata": {
    "colab": {
     "base_uri": "https://localhost:8080/"
    },
    "id": "f7213ad7-8715-44ae-91d5-7f38e3ac03d2",
    "outputId": "baeaf050-d92f-4a8d-d1cb-35e1f736aab9"
   },
   "outputs": [],
   "source": [
    "# identify numeric and categorical columns\n",
    "numeric_cols = df.select_dtypes(include=['int64', 'float64']).columns.tolist()\n",
    "categorical_cols = df.select_dtypes(include=['object', 'category']).columns.tolist()\n",
    "\n",
    "# result\n",
    "print(\"Numeric columns:\")\n",
    "print(numeric_cols)\n",
    "\n",
    "print(\"\\nCategorical columns:\")\n",
    "print(categorical_cols)"
   ]
  },
  {
   "cell_type": "code",
   "execution_count": null,
   "id": "0e06e224",
   "metadata": {},
   "outputs": [],
   "source": [
    "#ccavg yearly\n",
    "df[\"CCAvg\"]*12"
   ]
  },
  {
   "cell_type": "code",
   "execution_count": null,
   "id": "812e378f-eb07-4c1a-a8ad-8fd4e888793c",
   "metadata": {
    "colab": {
     "base_uri": "https://localhost:8080/",
     "height": 1000
    },
    "id": "812e378f-eb07-4c1a-a8ad-8fd4e888793c",
    "outputId": "a5bc5bca-a443-4e7a-d9a2-802a9b832a69"
   },
   "outputs": [],
   "source": [
    "# Drop ID column (not useful for analysis)\n",
    "\n",
    "\n",
    "# Select key features for plotting\n",
    "selected_features = ['Income', 'CCAvg', 'Education', 'Mortgage', 'CD Account',\"Age\",\"Experience\",\"Family\",\"Securities Account\",\"Online\",\"CreditCard\"]\n",
    "\n",
    "# Set seaborn style\n",
    "sns.set(style=\"whitegrid\")\n",
    "\n",
    "# Use distinct colors for each feature\n",
    "colors = sns.color_palette(\"Set3\", len(selected_features))\n",
    "\n",
    "# Draw colorful boxplots grouped by Personal Loan\n",
    "for i, feature in enumerate(selected_features):\n",
    "    plt.figure(figsize=(8, 5))\n",
    "    sns.boxplot(data=df, x=feature, y='Personal Loan', orient='h', color=colors[i])\n",
    "    plt.title(f'{feature} by Personal Loan', fontsize=14, fontweight='bold')\n",
    "    plt.xlabel(feature, fontsize=12)\n",
    "    plt.ylabel(\"Personal Loan\", fontsize=12)\n",
    "    plt.yticks([0, 1], ['No Loan', 'Loan'], fontsize=10)\n",
    "    plt.grid(True, linestyle='--', alpha=0.5)\n",
    "    plt.tight_layout()\n",
    "    plt.show()"
   ]
  },
  {
   "cell_type": "raw",
   "id": "3f9ba023-1652-4dd8-9b55-f8f17f75eea8",
   "metadata": {
    "id": "3f9ba023-1652-4dd8-9b55-f8f17f75eea8"
   },
   "source": [
    "💼 1. Income\n",
    " • Customers who took personal loans generally have higher incomes.\n",
    " • The median income is significantly higher for loan-approved individuals.\n",
    " • ✅ Conclusion: Income is a strong predictor of loan approval.\n",
    "\n",
    "⸻\n",
    "\n",
    "💳 2. CCAvg (Average credit card spending)\n",
    " • People who took loans tend to have higher average credit card spending.\n",
    " • The distribution shows many outliers, indicating some high spenders.\n",
    " • ✅ Conclusion: High credit card usage is correlated with loan approval.\n",
    "\n",
    "⸻\n",
    "\n",
    "🎓 3. Education\n",
    " • Those with higher education levels are more likely to receive loans.\n",
    " • The shift in the boxplot indicates more educated individuals are favored.\n",
    " • ✅ Conclusion: Education is a moderate predictor of loan approval.\n",
    "\n",
    "⸻\n",
    "\n",
    "🏠 4. Mortgage\n",
    " • Both groups have mortgage values, but loan receivers tend to have higher values.\n",
    " • However, the overlap between groups is considerable.\n",
    " • ✅ Conclusion: Mortgage has moderate influence on loan status.\n",
    "\n",
    "⸻\n",
    "\n",
    "💰 5. CD Account (Certificate of Deposit)\n",
    " • A very clear distinction: most customers who have a CD account also took a loan.\n",
    " • Almost no loan denials among CD holders.\n",
    " • ✅ Conclusion: CD Account is one of the strongest indicators of loan approval\n",
    "\n",
    " 6. Age\n",
    "🎂 Customer’s age\n",
    " • The distribution is relatively similar between those who took loans and those who didn’t.\n",
    " • Slightly more loan-approved customers fall within the middle-aged group (around 40–60 years).\n",
    "\n",
    "✅ Conclusion:\n",
    " • Moderate impact.\n",
    " • Could help improve predictions when combined with other variables.\n",
    "\n",
    "⸻\n",
    "\n",
    "📌 7. Experience\n",
    "\n",
    "📆 Years of work experience\n",
    " • Similar in shape to Age (as expected — they’re usually correlated).\n",
    " • No clear difference between loan takers and non-takers.\n",
    "\n",
    "✅ Conclusion:\n",
    " • Low predictive power on its own.\n",
    " • Could be removed or kept depending on correlation with Age.\n",
    "\n",
    "⸻\n",
    "\n",
    "📌 8. Family\n",
    "\n",
    "👨‍👩‍👧 Number of family members\n",
    " • People with larger families (3–4 members) are more likely to take loans.\n",
    " • Smaller families (1–2) appear less represented among loan receivers.\n",
    "\n",
    "✅ Conclusion:\n",
    " • Moderate predictive value.\n",
    " • May indicate financial need, especially for dependents.\n",
    "\n",
    "⸻\n",
    "\n",
    "📌 9. CreditCard\n",
    "\n",
    "💳 Whether the customer owns a credit card\n",
    " • No significant difference between the two groups.\n",
    " • Ownership alone doesn’t differentiate loan behavior.\n",
    "\n",
    "✅ Conclusion:\n",
    " • Very weak predictor.\n",
    " • Can be safely removed from the model.\n",
    "\n",
    "⸻\n",
    "\n",
    "📌 10. Online\n",
    "\n",
    "🌐 Whether the customer uses online banking\n",
    " • Nearly identical distribution between loan takers and non-takers.\n",
    " • No visible pattern or correlation.\n",
    "\n",
    "\n",
    "\n",
    "\n",
    "✅ Summary Table:\n",
    "\n",
    "Feature Predictive Power Recommendation\n",
    "Age 🟡 Moderate Keep (low-moderate)\n",
    "Experience 🟡 Low / Redundant Optional (check corr.)\n",
    "Family ✅ Moderate Keep\n",
    "CreditCard ❌ Very Weak Drop\n",
    "Online ❌ None Drop\n",
    "\n",
    "\n",
    "\n",
    "⸻\n",
    "\n",
    "💡 Final Note:\n",
    "\n",
    "These features show varying levels of importance. While some (like Family or Age) may support your model, others (like Online and CreditCard) add noise and are safe to drop."
   ]
  },
  {
   "cell_type": "raw",
   "id": "8e3afd4c-d94c-47ef-93fc-5085866eba7a",
   "metadata": {
    "id": "8e3afd4c-d94c-47ef-93fc-5085866eba7a"
   },
   "source": [
    "SUMMARY TABLE\n",
    "Feature\n",
    "\n",
    "Predictive Power.\n",
    "Income\n",
    "🔥 Very Strong.\n",
    "CCAvg.\n",
    "🔥 Strong\n",
    "Education.\n",
    "✅ Moderate\n",
    "Mortgage.\n",
    "✅ Moderate\n",
    "CD Account.\n",
    "🔥 Very Strong"
   ]
  },
  {
   "cell_type": "code",
   "execution_count": null,
   "id": "fefbc485-1784-4dca-a36e-6b60ed4b9feb",
   "metadata": {
    "colab": {
     "base_uri": "https://localhost:8080/",
     "height": 1000
    },
    "id": "fefbc485-1784-4dca-a36e-6b60ed4b9feb",
    "outputId": "174e607a-715c-41c8-ccc6-5f94e3176f2f"
   },
   "outputs": [],
   "source": [
    "# Create individual boxplots for each numeric feature (not grouped by Personal Loan)\n",
    "# Use colorful style for each plot\n",
    "sns.set(style=\"whitegrid\")\n",
    "vivid_palette = sns.color_palette(\"Set3\")\n",
    "\n",
    "# Generate simple, colorful boxplots for each feature\n",
    "for idx, col in enumerate(numeric_cols):\n",
    "    if col != 'Personal Loan':\n",
    "        plt.figure(figsize=(7, 4))\n",
    "        sns.boxplot(x=df[col], color=vivid_palette[idx % len(vivid_palette)])\n",
    "        plt.title(f'Boxplot of {col}', fontsize=13, fontweight='bold')\n",
    "        plt.xlabel(col, fontsize=11)\n",
    "        plt.grid(True, linestyle='--', alpha=0.5)\n",
    "        plt.tight_layout()\n",
    "        plt.show()"
   ]
  },
  {
   "cell_type": "markdown",
   "id": "16611f99-3bbf-49b5-99b8-534512dbbfd9",
   "metadata": {
    "id": "16611f99-3bbf-49b5-99b8-534512dbbfd9"
   },
   "source": [
    "1. Age: The distribution looks normal, no major outliers.\n",
    " 2. Experience: Cleaned for negative values; otherwise evenly distributed.\n",
    " 3. Income: Shows clear outliers on the higher end — potential high earners.\n",
    " 4. ZIP Code: Has an extreme outlier — likely a data entry error (e.g., ZIP code in the 10000 range vs. 90000s).\n",
    " 5. Family: Mostly small family sizes (1-4), no outliers expected.\n",
    " 6. CCAvg: Shows many outliers — some customers spend heavily on credit cards.\n",
    " 7. Education: Three distinct levels as expected (no outliers).\n",
    " 8. Mortgage: Heavy right skew with many high-value outliers.\n",
    " 9. Securities Account, CD Account, Online, CreditCard: These are binary (0/1), so the boxplots just show two values with very limited spread — not useful for distribution but good for checking presence"
   ]
  },
  {
   "cell_type": "code",
   "execution_count": null,
   "id": "7e226504-ae4f-411e-b56b-bbafc3c190d5",
   "metadata": {
    "colab": {
     "base_uri": "https://localhost:8080/",
     "height": 475
    },
    "id": "7e226504-ae4f-411e-b56b-bbafc3c190d5",
    "outputId": "fc8710ca-97b7-4e03-ee0b-aa3f843a6858"
   },
   "outputs": [],
   "source": [
    "sns.boxplot(x=df['Family'],y=df['Income'],hue=df['Personal Loan'], palette='hot')"
   ]
  },
  {
   "cell_type": "raw",
   "id": "dee9fe8e-0d6c-430a-9598-1587ba17c5eb",
   "metadata": {
    "id": "dee9fe8e-0d6c-430a-9598-1587ba17c5eb"
   },
   "source": [
    "🔍 Detailed analysis:\n",
    "\n",
    "👨‍👩‍👧‍👦 Family = 1\n",
    "• Borrowers clearly have much higher incomes than non-borrowers.\n",
    "• This group has a significant difference between the two groups.\n",
    "\n",
    "👨‍👩‍👧‍👦 Family = 2\n",
    "• Again, borrowers have higher incomes.\n",
    "• But the range of non-borrowers is also wider, meaning that some people without loans also have good incomes.\n",
    "\n",
    "👨‍👩‍👧‍👦 Family = 3 and 4\n",
    "• In both cases, borrowers still have higher average incomes.\n",
    "• But the difference is not as dramatic as in Family = 1.\n",
    "\n",
    "⸻\n",
    "\n",
    "✅ Final conclusion:\n",
    "• At all Family levels (1 to 4), borrowers have higher average incomes.\n",
    "• The income gap between borrowers and non-borrowers is much larger in smaller families (Family = 1)"
   ]
  },
  {
   "cell_type": "code",
   "execution_count": null,
   "id": "4584fb6f-1bdc-4903-a319-e76b16a5ddf5",
   "metadata": {
    "colab": {
     "base_uri": "https://localhost:8080/",
     "height": 475
    },
    "id": "4584fb6f-1bdc-4903-a319-e76b16a5ddf5",
    "outputId": "88f6434f-33f2-44d5-dfb2-72480376738e"
   },
   "outputs": [],
   "source": [
    "sns.boxplot(x=\"Education\", y='Mortgage', hue=\"Personal Loan\", data=df,palette=\"hot\")\n",
    "plt.legend(title='Personal Loan', loc='center left', bbox_to_anchor=(1, 0.5))"
   ]
  },
  {
   "cell_type": "raw",
   "id": "3fb86901-33fa-440a-b02f-b50ba489d666",
   "metadata": {
    "id": "3fb86901-33fa-440a-b02f-b50ba489d666"
   },
   "source": [
    "In all groups, a large amount of the data has very high mortgages (high outliers). This indicates that certain individuals took out very large mortgages.\n",
    "People with higher education are more likely to have both a mortgage and a personal loan.\n",
    " Having a high mortgage increases the likelihood of getting a personal loan"
   ]
  },
  {
   "cell_type": "code",
   "execution_count": null,
   "id": "7d36ba79-1f89-4c5b-9be6-daf83480b451",
   "metadata": {
    "colab": {
     "base_uri": "https://localhost:8080/",
     "height": 475
    },
    "id": "7d36ba79-1f89-4c5b-9be6-daf83480b451",
    "outputId": "6a80d879-99f8-4036-ef21-36c7b5c72a92"
   },
   "outputs": [],
   "source": [
    "sns.boxplot(x='Education',y= 'Income' ,hue= 'Personal Loan', data=df,palette=\"hot\")\n",
    "plt.legend(title='Personal Loan', loc='center left', bbox_to_anchor=(1, 0.5))"
   ]
  },
  {
   "cell_type": "raw",
   "id": "8beb178f-7ff9-4f22-8721-6dbace976b88",
   "metadata": {
    "id": "8beb178f-7ff9-4f22-8721-6dbace976b88"
   },
   "source": [
    "People with higher education typically have higher incomes and are more likely to receive a personal loan"
   ]
  },
  {
   "cell_type": "code",
   "execution_count": null,
   "id": "a93c8818-f3c0-4d57-a214-64bb07456956",
   "metadata": {
    "colab": {
     "base_uri": "https://localhost:8080/"
    },
    "id": "a93c8818-f3c0-4d57-a214-64bb07456956",
    "outputId": "d8050b80-03c5-45dc-8179-5817aadad091"
   },
   "outputs": [],
   "source": [
    "\n",
    "# Identify numeric columns (excluding binary/categorical)\n",
    "binary_cols = ['CD Account', 'Securities Account', 'Online', 'CreditCard','Personal Loan']\n",
    "continuous_cols = [col for col in df.select_dtypes(include='number').columns if col not in binary_cols]\n",
    "\n",
    "# Calculate IQR, bounds, and count outliers for each continuous column\n",
    "outlier_summary = []\n",
    "\n",
    "for col in continuous_cols:\n",
    "    Q1 = df[col].quantile(0.25)\n",
    "    Q3 = df[col].quantile(0.75)\n",
    "    IQR = Q3 - Q1\n",
    "    lower_bound = Q1 - 1.5 * IQR\n",
    "    upper_bound = Q3 + 1.5 * IQR\n",
    "    outliers = df[(df[col] < lower_bound) | (df[col] > upper_bound)]\n",
    "    outlier_summary.append({\n",
    "        'Feature': col,\n",
    "        'Q1': Q1,\n",
    "        'Q3': Q3,\n",
    "        'IQR': IQR,\n",
    "        'Lower Bound': lower_bound,\n",
    "        'Upper Bound': upper_bound,\n",
    "        'Outlier Count': len(outliers),\n",
    "        'Outlier Indexes': outliers.index.tolist()\n",
    "    })\n",
    "# Convert to DataFrame and display\n",
    "iqr_df = pd.DataFrame(outlier_summary)\n",
    "print(iqr_df)"
   ]
  },
  {
   "cell_type": "raw",
   "id": "b08fb690-218d-41c7-9c92-7385a4f94a26",
   "metadata": {
    "id": "b08fb690-218d-41c7-9c92-7385a4f94a26"
   },
   "source": [
    "📊 Feature-by-Feature Analysis:\n",
    "\n",
    "⸻\n",
    "\n",
    "✅ Age\n",
    " • IQR: 20.0 → Most people are aged between 35 and 55.\n",
    " • Outliers: 0\n",
    " • ✅ Conclusion: Age data is clean — no outliers.\n",
    "\n",
    "⸻\n",
    "\n",
    "✅ Experience\n",
    " • IQR: 19.0 → Experience typically ranges from 11 to 30 years.\n",
    " • Outliers: 10 indexes\n",
    " • 🔥 Potential issue: Some values might be negative, which is invalid (e.g., -1 years of experience). Needs fixing.\n",
    "\n",
    "⸻\n",
    "\n",
    "✅ Income\n",
    " • IQR: 59.0 → Most incomes fall between $39K and $98K.\n",
    " • Outliers: 1 index\n",
    " • ⚠️ One person has very high or low income compared to the rest.\n",
    "\n",
    "⸻\n",
    "\n",
    "✅ ZIP Code\n",
    " • IQR: 2,697 → ZIP codes are mostly in the 91XXX–94XXX range.\n",
    " • Outliers: 0\n",
    " • ✅ ZIP Code data is uniform and well-distributed.\n",
    "\n",
    "⸻\n",
    "\n",
    "✅ Family\n",
    " • IQR: 2.0 → Most people have 1–3 family members.\n",
    " • Outliers: 0\n",
    " • ✅ Nothing unusual here.\n",
    "\n",
    "⸻\n",
    "\n",
    "✅ CCAvg (Credit Card Average Spending)\n",
    " • IQR: 1.8 → Typical spending: $0.7K to $2.5K/month.\n",
    " • Outliers: 13\n",
    " • ⚠️ Some people spend very heavily on credit cards — might represent wealthy or high-spending customers.\n",
    "\n",
    "⸻\n",
    "\n",
    "✅ Education\n",
    " • IQR: 1.0 → Values range from 1 to 3 (categorical levels).\n",
    " • Outliers: 0\n",
    " • ⚠️ Even though it’s numerical, this is actually categorical. IQR-based outlier detection doesn’t make much sense here.\n",
    "\n",
    "⸻\n",
    "\n",
    "✅ Mortgage\n",
    " • IQR: 101.0 → Most people have mortgages between $0 and $101K.\n",
    " • Outliers: 13\n",
    " • ⚠️ Some people have very high mortgages — worth investigating.\n",
    "\n",
    "⸻\n",
    "\n",
    "❌ ID\n",
    " • Not useful for outlier detection. It’s just a unique identifier.\n",
    " • ✅ Should be excluded from any analysis"
   ]
  },
  {
   "cell_type": "code",
   "execution_count": null,
   "id": "96ce0f9a-cad5-4ba9-ac38-c540a9b1f0cd",
   "metadata": {
    "colab": {
     "base_uri": "https://localhost:8080/"
    },
    "id": "96ce0f9a-cad5-4ba9-ac38-c540a9b1f0cd",
    "outputId": "15766d45-d797-4989-c700-e8c156b27ae2"
   },
   "outputs": [],
   "source": [
    "numeric_cols = ['Age', 'Experience', 'Income', 'ZIP Code', 'CCAvg', 'Mortgage',\"ID\"]\n",
    "\n",
    "for col in numeric_cols:\n",
    "    Q1 = df[col].quantile(0.25)\n",
    "    Q3 = df[col].quantile(0.75)\n",
    "    IQR = Q3 - Q1\n",
    "    lower_bound = Q1 - 1.5 * IQR\n",
    "    upper_bound = Q3 + 1.5 * IQR\n",
    "\n",
    "\n",
    "    outlier_rows = df[(df[col] < lower_bound) | (df[col] > upper_bound)]\n",
    "    unique_outlier_count = outlier_rows.shape[0]\n",
    "    total_rows = df.shape[0]\n",
    "    percentage = (unique_outlier_count / total_rows) * 100\n",
    "\n",
    "    print(f\"Feature: {col}\")\n",
    "    print(f\"Number of unique outlier rows: {unique_outlier_count}\")\n",
    "    print(f\"Percentage of outliers: {percentage:.2f}%\\n\")"
   ]
  },
  {
   "cell_type": "raw",
   "id": "6d61e2da-e31b-498f-9c05-7d745c494d7c",
   "metadata": {
    "id": "6d61e2da-e31b-498f-9c05-7d745c494d7c"
   },
   "source": [
    "This code helps you understand how many records are outliers in each specific feature, instead of merging all features together. It’s useful for:\n",
    " • Preprocessing\n",
    " • Outlier treatment decisions\n",
    " • Feature quality assessment before modeling"
   ]
  },
  {
   "cell_type": "code",
   "execution_count": null,
   "id": "3a38dd4a-2dba-44bb-9f50-a4f819dea81a",
   "metadata": {
    "colab": {
     "base_uri": "https://localhost:8080/"
    },
    "id": "3a38dd4a-2dba-44bb-9f50-a4f819dea81a",
    "outputId": "b4c30bdb-6ea2-4fea-f7f2-e5627ec75c70"
   },
   "outputs": [],
   "source": [
    "# Identify discrete and continuous variables\n",
    "discrete_vars = [col for col in df.columns if df[col].nunique() < 10]\n",
    "continuous_vars = [col for col in df.columns if col not in discrete_vars]\n",
    "\n",
    "# Ensure both lists have the same length\n",
    "max_length = max(len(discrete_vars), len(continuous_vars))\n",
    "discrete_vars += [\"\"] * (max_length - len(discrete_vars))\n",
    "continuous_vars += [\"\"] * (max_length - len(continuous_vars))\n",
    "\n",
    "# Create a properly formatted DataFrame\n",
    "sorted_vars_df = pd.DataFrame({\n",
    "    \"Discrete Variables\": sorted(discrete_vars),\n",
    "    \"Continuous Variables\": sorted(continuous_vars)\n",
    "})\n",
    "\n",
    "# Display the table\n",
    "print(sorted_vars_df)"
   ]
  },
  {
   "cell_type": "code",
   "execution_count": null,
   "id": "3a6209cb-18b6-44b5-9cda-f52b6caed8f1",
   "metadata": {
    "colab": {
     "base_uri": "https://localhost:8080/",
     "height": 245
    },
    "id": "3a6209cb-18b6-44b5-9cda-f52b6caed8f1",
    "outputId": "e2d75bb2-df87-4545-a73f-191495620862"
   },
   "outputs": [],
   "source": [
    "# Categorical columns\n",
    "CatCols = ['CD Account', 'CreditCard', 'Education', 'Family',\"Online\",\"Personal Loan\",\"Securities Account\"]\n",
    "df[CatCols] = df[CatCols].astype(str)\n",
    "\n",
    "# Colors\n",
    "colors = [\n",
    "    ['#0055ff', '#00aaff', '#3399ff'],\n",
    "    ['#ff7000', '#ffaa00'],\n",
    "    ['#23bf00', '#55dd55'],\n",
    "    ['#cc00cc', '#ff99ff', '#aa00aa', '#dd66dd'],\n",
    "    ['#0055ff', '#00aaff'],\n",
    "    ['#ff7000', '#ffaa00'],\n",
    "    ['#23bf00', '#55dd55'],\n",
    "\n",
    "\n",
    "]\n",
    "\n",
    "# Plot\n",
    "fig, ax = plt.subplots(nrows=1, ncols=7, figsize=(24, 6), dpi=100)\n",
    "\n",
    "for i, col in enumerate(CatCols):\n",
    "    chart = sns.countplot(x=col, data=df, ax=ax[i], palette=colors[i])\n",
    "    ax[i].set_title(f'{col} Distribution', fontsize=16, pad=15)\n",
    "    ax[i].set_xlabel(col, fontsize=16, labelpad=15)\n",
    "    ax[i].set_ylabel('Count', fontsize=16, labelpad=10)\n",
    "    ax[i].tick_params(axis='x', labelsize=13)\n",
    "    ax[i].tick_params(axis='y', labelsize=12)\n",
    "\n",
    "    # Add value labels on top of each bar\n",
    "    for container in chart.containers:\n",
    "        chart.bar_label(container, fontsize=14, padding=4)\n",
    "\n",
    "# Main title with space\n",
    "plt.suptitle('Frequency Distribution of Categorical Variables', fontsize=34, fontweight='bold', y=1.08)\n",
    "plt.tight_layout()\n",
    "plt.show()"
   ]
  },
  {
   "cell_type": "raw",
   "id": "e385db93-fb93-49f0-8246-99ecbacc8416",
   "metadata": {
    "id": "e385db93-fb93-49f0-8246-99ecbacc8416"
   },
   "source": [
    "\n",
    "✅ 1. CD Account Distribution\n",
    " • 0: About 4698 people\n",
    " • 1: Only 302 people\n",
    "\n",
    "📌 Insight: The vast majority of people do not have a CD account. Only ~6% do. This could be a strong feature in predicting personal loan approval, as having a CD account may indicate better financial status.\n",
    "\n",
    "⸻\n",
    "\n",
    "✅ 2. CreditCard Distribution\n",
    " • 0: About 3530 people\n",
    " • 1: About 1470 people\n",
    "\n",
    "📌 Insight: Roughly 29% of people own a credit card. This could have both positive (bank trust) or negative (debt risk) impacts on loan approval.\n",
    "\n",
    "⸻\n",
    "\n",
    "✅ 3. Education Distribution\n",
    " • 1: About 2096 people\n",
    " • 2: About 1403 people\n",
    " • 3: About 1501 people\n",
    "\n",
    "📌 Insight: Fairly balanced distribution. Most individuals are in education level 1 (possibly high school or bachelor’s). Education level may correlate with income and influence loan decisions.\n",
    "\n",
    "⸻\n",
    "\n",
    "✅ 4. Family Distribution\n",
    " • 1: About 1222 people\n",
    " • 2: About 1010 people\n",
    " • 3: About 1472 people\n",
    " • 4: About 1296 people\n",
    "\n",
    "📌 Insight: Larger families (3 or 4 members) are more common. Family size can impact the likelihood of needing a personal loan (larger families = more financial pressure).\n",
    "\n",
    "⸻\n",
    "\n",
    "✅ 5. Online Distribution\n",
    " • 0: About 2016 people\n",
    " • 1: About 2984 people\n",
    "\n",
    "📌 Insight: A majority use online services. This could suggest they’re more engaged or reachable via digital banking, which may affect their likelihood to accept loan offers.\n",
    "\n",
    "⸻\n",
    "\n",
    "✅ 6. Personal Loan Distribution\n",
    " • 0: 4520 people\n",
    " • 1: Only 480 people\n",
    "\n",
    "📌 Insight: Only 9.6% of customers have accepted a personal loan. This is a highly imbalanced target, which must be handled carefully in modeling (e.g., with resampling methods like SMOTE or class weights).\n",
    "\n",
    "⸻\n",
    "\n",
    "✅ 7. Securities Account Distribution\n",
    " • 0: About 4478 people\n",
    " • 1: About 522 people\n",
    "\n",
    "📌 Insight: Only ~10% have a securities account, possibly indicating wealthier or more financially savvy customers.\n",
    "\n",
    "⸻\n",
    "\n",
    "✨ Overall Summary:\n",
    "\n",
    "Feature     Imbalance?       Key Takeaway\n",
    "CD Account   Yes (~6%)       Potential strong indicator\n",
    "Credit       Card Yes (~29%)  Could go both ways (trust vs. debt)\n",
    "Education    Fairly balanced   Correlated with income\n",
    "Family       Moderate variety   Family size impacts loan needs\n",
    "Online       Moderate imbalance   Digital access could matter\n",
    "Securities    Account Yes (~10%)   Indicator of financial awareness\n",
    "Personal Loan  Strong imbalance     Only ~10% accepted → needs attention\n"
   ]
  },
  {
   "cell_type": "code",
   "execution_count": null,
   "id": "c3fda9f0-d6d2-43ac-833e-9471f7913274",
   "metadata": {
    "colab": {
     "base_uri": "https://localhost:8080/"
    },
    "id": "c3fda9f0-d6d2-43ac-833e-9471f7913274",
    "outputId": "d6e33dc5-d979-41ef-f8d9-5e6e4770afc9"
   },
   "outputs": [],
   "source": [
    "print(pd.unique(df[\"CD Account\"]))\n",
    "print(pd.unique(df[\"CreditCard\"]))\n",
    "print(pd.unique(df[\"Education\"]))\n",
    "print(pd.unique(df[\"Family\"]))\n",
    "print(pd.unique(df[\"Online\"]))\n",
    "print(pd.unique(df[\"Personal Loan\"]))\n",
    "print(pd.unique(df[\"Securities Account\"]))\n",
    "\n",
    "\n"
   ]
  },
  {
   "cell_type": "code",
   "execution_count": null,
   "id": "a97051b8",
   "metadata": {},
   "outputs": [],
   "source": [
    "NumCols = df.select_dtypes(include=['int64', 'float64']).columns"
   ]
  },
  {
   "cell_type": "code",
   "execution_count": null,
   "id": "f193a2a5-ebba-4658-a731-0a1a9175096d",
   "metadata": {
    "colab": {
     "base_uri": "https://localhost:8080/",
     "height": 488
    },
    "id": "f193a2a5-ebba-4658-a731-0a1a9175096d",
    "outputId": "cef3a8ce-ad8e-465b-b43b-8d99f361ebb5"
   },
   "outputs": [],
   "source": [
    "\n",
    "colors = sns.color_palette(\"husl\", len(NumCols))\n",
    "\n",
    "n_cols = 3\n",
    "n_rows = math.ceil(len(NumCols) / n_cols)\n",
    "fig, ax = plt.subplots(nrows=n_rows, ncols=n_cols, figsize=(18, 5 * n_rows), dpi=100)\n",
    "ax = ax.flatten()\n",
    "\n",
    "for i, col in enumerate(NumCols):\n",
    "    values, bin_edges = np.histogram(df[col], bins=20, range=(np.floor(df[col].min()), np.ceil(df[col].max())))\n",
    "    graph = sns.histplot(data=df, x=col, bins=bin_edges, kde=True, ax=ax[i],\n",
    "                         edgecolor='black', color=colors[i], alpha=0.6)\n",
    "\n",
    "    ax[i].set_xlabel(col, fontsize=12)\n",
    "    ax[i].set_ylabel('Count', fontsize=10)\n",
    "    ax[i].grid(color='lightgrey')\n",
    "\n",
    "    stats_text = '\\n'.join([\n",
    "        f'μ = {df[col].mean():.2f}',\n",
    "        f'σ = {df[col].std():.2f}',\n",
    "        f'Median = {df[col].median():.2f}',\n",
    "        f'Min = {df[col].min():.2f}',\n",
    "        f'Max = {df[col].max():.2f}'\n",
    "    ])\n",
    "\n",
    "    ax[i].text(0.65, 0.95, stats_text, transform=ax[i].transAxes,\n",
    "               fontsize=9, verticalalignment='top',\n",
    "               bbox=dict(boxstyle='round', facecolor=colors[i], edgecolor='black', pad=0.4))\n",
    "\n",
    "\n",
    "for j in range(i + 1, len(ax)):\n",
    "    ax[j].axis('off')\n",
    "\n",
    "plt.suptitle('Distribution of Numerical Variables', fontsize=20)\n",
    "plt.tight_layout(rect=[0, 0, 1, 0.96])\n",
    "plt.show()"
   ]
  },
  {
   "cell_type": "markdown",
   "id": "5bd86399-fa86-49db-82bb-f92d4d6d65a3",
   "metadata": {
    "id": "5bd86399-fa86-49db-82bb-f92d4d6d65a3"
   },
   "source": [
    "✅ 1. Age\n",
    " • The distribution is roughly normal with a slight left skew.\n",
    " • Most individuals are between 30 and 60 years old.\n",
    " • This variable appears well-behaved and likely suitable for modeling without major transformation.\n",
    "\n",
    "⸻\n",
    "\n",
    "✅ 2. CCAvg (Credit Card Average Spending)\n",
    " • The distribution is heavily right-skewed.\n",
    " • Most customers have low credit card spending, with a few individuals spending significantly more — these may be outliers.\n",
    " • A log transformation could help normalize this variable.\n",
    "\n",
    "⸻\n",
    "\n",
    "✅ 3. Experience\n",
    " • The distribution is somewhat uniform but not clean.\n",
    "\n",
    " • Needs cleaning and perhaps imputation or exclusion of invalid values.\n",
    "\n",
    "⸻\n",
    "\n",
    "✅ 4. ZIP Code\n",
    " • Although shown as a numerical variable, ZIP Code is categorical, not continuous.\n",
    "\n",
    "  “ZIP Code is technically numeric – but analytically, it is not continuous and should not be         examined with numeric statistical methods.”\n",
    " .\n",
    "\n",
    "⸻\n",
    "\n",
    "✅ 5. Income\n",
    " • The distribution is strongly right-skewed.\n",
    " • Most customers have low to moderate income, but a few individuals have very high incomes.\n",
    " • Log transformation is advisable to reduce skewness before modeling.\n",
    "\n",
    "⸻\n",
    "\n",
    "✅ 6. Mortgage\n",
    " • This feature has a very sharp right skew.\n",
    " • A large number of people have zero mortgage, while only a few have large values.\n",
    " • You’re likely dealing with a zero-inflated variable. Consider transformation or binning.\n",
    "\n",
    "⸻\n",
    "\n",
    "🔍 Overall Summary:\n",
    "\n",
    "Feature Distribution Type Analysis Notes\n",
    "Age Roughly normal Ready for modeling\n",
    "Experience Irregular / flat Check for negative values\n",
    "Income Right-skewed Apply log transform\n",
    "CCAvg Right-skewed Log transform or outlier handling needed\n",
    "Mortgage Right-skewed + zeros Consider binning or transformation\n",
    "ZIP Code Categorical (not numeric) Use for grouping onl\n",
    "Note: Although ZIP Code is a numeric type, it is a categorical ID, not a continuous variable. So it makes no sense to display density or descriptive statistics on it.\n",
    "So the result:\n",
    "• ZIP Code is technically numeric ✅\n",
    "• But analytically, it is not continuous and should not be examined with numeric statistical methods\n"
   ]
  },
  {
   "cell_type": "code",
   "execution_count": null,
   "id": "c42d1161-3850-46ce-9503-fbbfb02b9bc1",
   "metadata": {
    "colab": {
     "base_uri": "https://localhost:8080/"
    },
    "id": "c42d1161-3850-46ce-9503-fbbfb02b9bc1",
    "outputId": "17cac029-1725-4fc1-e8ad-8744f6c772d1"
   },
   "outputs": [],
   "source": [
    "\n",
    "print(df['Personal Loan'].value_counts())"
   ]
  },
  {
   "cell_type": "raw",
   "id": "ff7905cc-f00d-4223-b4ff-e92801834b38",
   "metadata": {
    "id": "ff7905cc-f00d-4223-b4ff-e92801834b38"
   },
   "source": [
    "In the entire dataset:\n",
    "• How many people borrowed (1)\n",
    "• How many people did not borrow (0)"
   ]
  },
  {
   "cell_type": "code",
   "execution_count": null,
   "id": "d3ea59e1-32ef-4337-8634-dfd3f5f298b0",
   "metadata": {
    "colab": {
     "base_uri": "https://localhost:8080/"
    },
    "id": "d3ea59e1-32ef-4337-8634-dfd3f5f298b0",
    "outputId": "24f56b45-c0c6-4663-b857-5178e48b54c4"
   },
   "outputs": [],
   "source": [
    "\n",
    "#group by based on ZIP Code و Personal Loan\n",
    "zip_loan_counts = df.groupby(['ZIP Code', 'Personal Loan']).size().unstack(fill_value=0)\n",
    "\n",
    "\n",
    "zip_loan_counts.columns = ['No Loan', 'Loan']\n",
    "\n",
    "#diplay\n",
    "print(zip_loan_counts.head(10))"
   ]
  },
  {
   "cell_type": "raw",
   "id": "6964e7cd-c5af-48d7-9b37-aa516a168d5b",
   "metadata": {
    "id": "6964e7cd-c5af-48d7-9b37-aa516a168d5b"
   },
   "source": [
    "With this code you can find out in each ZIP Code:\n",
    "• How many people took out a loan (Loan)\n",
    "• How many people did not take out a loan (No Loan)"
   ]
  },
  {
   "cell_type": "code",
   "execution_count": null,
   "id": "f40c617c-bb35-4610-82b8-084e55d086f4",
   "metadata": {
    "colab": {
     "base_uri": "https://localhost:8080/",
     "height": 439
    },
    "id": "f40c617c-bb35-4610-82b8-084e55d086f4",
    "outputId": "43e43dda-e298-42df-9ec8-d14ecad88e73"
   },
   "outputs": [],
   "source": [
    "\n",
    "top_zipcodes = zip_loan_counts.head(10)\n",
    "\n",
    "# bar chart\n",
    "top_zipcodes.plot(kind='bar', stacked=True, figsize=(12, 6), color=['skyblue', 'salmon'])\n",
    "\n",
    "plt.title('Number of Loans and Non-Loans by ZIP Code', fontsize=16,color=\"purple\")\n",
    "plt.xlabel('ZIP Code', fontsize=18,color=\"blue\")\n",
    "plt.ylabel('Number of Customers', fontsize=18,color=\"red\")\n",
    "plt.legend(title='Personal Loan',fontsize=12,loc=\"upper right\")\n",
    "plt.grid(axis='y', linestyle='--', alpha=0.7)\n",
    "plt.tight_layout()\n",
    "plt.show()"
   ]
  },
  {
   "cell_type": "raw",
   "id": "91aa03e5-6fa7-4029-a3b7-d95d1a7c8117",
   "metadata": {
    "id": "91aa03e5-6fa7-4029-a3b7-d95d1a7c8117"
   },
   "source": [
    "Bar chart showing the number of borrowers and non-borrowers in each ZIP Code (To keep the chart from getting too cluttered, we're only showing the first 10 ZIP Codes)"
   ]
  },
  {
   "cell_type": "code",
   "execution_count": null,
   "id": "439f61ed-8d44-4207-8bba-312efab1b7d7",
   "metadata": {
    "colab": {
     "base_uri": "https://localhost:8080/",
     "height": 639
    },
    "id": "439f61ed-8d44-4207-8bba-312efab1b7d7",
    "outputId": "44c04e49-633b-4b37-e7de-5cba8803e68d"
   },
   "outputs": [],
   "source": [
    "#this code ,it produces an interactive map for the United States.\n",
    "import pandas as pd\n",
    "import pgeocode\n",
    "import folium\n",
    "#convert zip code to strings and remove duplicates\n",
    "zip_codes = df['ZIP Code'].astype(str).unique()\n",
    "\n",
    "# GETTING coordinates with pgeocode\n",
    "nomi = pgeocode.Nominatim('us')\n",
    "geo_df = nomi.query_postal_code(zip_codes)\n",
    "\n",
    "# Delete records without coordinate\n",
    "geo_df = geo_df.dropna(subset=['latitude', 'longitude'])\n",
    "\n",
    "# create map\n",
    "mean_lat = geo_df['latitude'].mean()\n",
    "mean_lon = geo_df['longitude'].mean()\n",
    "map_zip = folium.Map(location=[mean_lat, mean_lon], zoom_start=6)\n",
    "\n",
    "\n",
    "for _, row in geo_df.iterrows():\n",
    "    popup_text = f\"ZIP: {row['postal_code']}<br>Lat: {row['latitude']:.4f}, Lon: {row['longitude']:.4f}\"\n",
    "    folium.CircleMarker(\n",
    "        location=[row['latitude'], row['longitude']],\n",
    "        radius=4,\n",
    "        color='blue',\n",
    "        fill=True,\n",
    "        fill_opacity=0.6,\n",
    "        popup=popup_text\n",
    "    ).add_to(map_zip)\n",
    "\n",
    "# save map\n",
    "map_zip.save('zip_map.html')\n",
    "print(\"✅ Map saved as 'zip_map.html' with smaller markers.\")\n",
    "from IPython.display import IFrame\n",
    "IFrame('zip_map.html', width=800, height=600)\n",
    "map_zip\n"
   ]
  },
  {
   "cell_type": "raw",
   "id": "32537628-bf40-499f-8eb0-24875ff1a762",
   "metadata": {
    "id": "32537628-bf40-499f-8eb0-24875ff1a762"
   },
   "source": [
    "note:\n",
    "    Structurally in a DataFrame, ZIP Code is a number.\n",
    "    But conceptually, ZIP Code is a string because:\n",
    "\n",
    "• You don't want to do any mathematical operations (such as sum or average)\n",
    "what is the purpose of this code ?\n",
    "\n",
    "This code helps you understand, Where in the US are my data ZIP Codes?\n",
    "\n",
    "answer:On a map with geographic coordinates\n",
    "\n",
    "Is my data limited to a specific area of ​​the US or is it spread out?\n",
    "\n",
    "answer:By observing the Marker scatter\n",
    "\n",
    "\n"
   ]
  },
  {
   "cell_type": "code",
   "execution_count": null,
   "id": "f937b3aa-0b6d-41a8-bc5d-1048cccf1a13",
   "metadata": {
    "colab": {
     "base_uri": "https://localhost:8080/",
     "height": 496
    },
    "id": "f937b3aa-0b6d-41a8-bc5d-1048cccf1a13",
    "outputId": "1cf7878c-cbc3-48bd-e31b-5a3520c68868"
   },
   "outputs": [],
   "source": [
    "#extracting zipcodes\n",
    "zip_list=(df['ZIP Code'].tolist())\n",
    "zip_code=[str(x) for x in zip_list]\n",
    "nomi = pgeocode.Nominatim('Us')\n",
    "address= nomi.query_postal_code(zip_code)\n",
    "address"
   ]
  },
  {
   "cell_type": "raw",
   "id": "43fcc886-791b-445d-9171-02b1fc30b333",
   "metadata": {
    "id": "43fcc886-791b-445d-9171-02b1fc30b333"
   },
   "source": [
    "This code uses the pgeocode library to get the ZIP Code for each record, and then retrieve geographic information such as:\n",
    "• City name (place_name)\n",
    "• State (state_name)\n",
    "• Latitude, longitude\n",
    "from its database and store it in a dataframe called address.\n"
   ]
  },
  {
   "cell_type": "code",
   "execution_count": null,
   "id": "b6378909-2707-4c2a-9e99-adf062c43203",
   "metadata": {
    "colab": {
     "base_uri": "https://localhost:8080/",
     "height": 424
    },
    "id": "b6378909-2707-4c2a-9e99-adf062c43203",
    "outputId": "638fb552-5ead-4bc2-c822-18125cb6a66b"
   },
   "outputs": [],
   "source": [
    "address.drop([\"community_name\" ,\"community_code\",\"place_name\",\"state_name\",\"state_code\",\"accuracy\"]  ,axis='columns', inplace=True)\n",
    "address"
   ]
  },
  {
   "cell_type": "raw",
   "id": "ec2e8474-25ad-4676-9ad3-1b9ce0959c2f",
   "metadata": {
    "id": "ec2e8474-25ad-4676-9ad3-1b9ce0959c2f"
   },
   "source": [
    "droping useless columns\n",
    "These columns removal were based on two criteria:\n",
    "1. Duplicate or low-variance data (e.g. state_name is only California)\n",
    "2. High number of missing values ​​(NaN) or no numerical variation (e.g. accuracy)\n",
    "\n",
    "This was a smart move to reduce the complexity of the dataframe and focus on the more important features."
   ]
  },
  {
   "cell_type": "code",
   "execution_count": null,
   "id": "4522b380-7791-43af-bfad-1c3a2d5d6d7e",
   "metadata": {
    "colab": {
     "base_uri": "https://localhost:8080/",
     "height": 272
    },
    "id": "4522b380-7791-43af-bfad-1c3a2d5d6d7e",
    "outputId": "a48b9f00-ac3d-467a-e8f1-0f42f864e9b2"
   },
   "outputs": [],
   "source": [
    "address.isnull().sum()"
   ]
  },
  {
   "cell_type": "code",
   "execution_count": null,
   "id": "73868104-a1d7-4ed8-ad94-0f02792b1613",
   "metadata": {
    "colab": {
     "base_uri": "https://localhost:8080/",
     "height": 513
    },
    "id": "73868104-a1d7-4ed8-ad94-0f02792b1613",
    "outputId": "14fd3d7d-ca4d-4ecf-fa39-561491cef4b2"
   },
   "outputs": [],
   "source": [
    "dff = pd.concat([df, address], axis=1)\n",
    "dff"
   ]
  },
  {
   "cell_type": "code",
   "execution_count": null,
   "id": "e914b85f-2bd4-494f-a0aa-280a139a1f0b",
   "metadata": {
    "colab": {
     "base_uri": "https://localhost:8080/",
     "height": 401
    },
    "id": "e914b85f-2bd4-494f-a0aa-280a139a1f0b",
    "outputId": "3e8a0222-ef88-4a67-b971-566da31c5747"
   },
   "outputs": [],
   "source": [
    "# Create grouped count and percent\n",
    "sex_percent = df.groupby(['CD Account', 'Personal Loan']).size().reset_index(name='count')\n",
    "sex_percent['percent'] = sex_percent.groupby('CD Account')['count'].transform(lambda x: x / x.sum())\n",
    "\n",
    "# Plot with percent\n",
    "plt.figure(figsize=(6, 4))\n",
    "sns.barplot(data=sex_percent, x='CD Account', y='percent', hue='Personal Loan')\n",
    "\n",
    "# Add percentage labels on top of bars\n",
    "for container in plt.gca().containers:\n",
    "    plt.bar_label(container, labels=[f'{v:.0%}' for v in container.datavalues], label_type='edge')\n",
    "\n",
    "plt.title(\"Personal loan Distribution by CD Account Status\",fontsize=14,color=\"red\")\n",
    "plt.ylabel(\"Percentage\",color=\"purple\")\n",
    "plt.xlabel(\"CD Account\",color=\"blue\")\n",
    "plt.ylim(0, 1)\n",
    "plt.tight_layout()\n",
    "plt.show()"
   ]
  },
  {
   "cell_type": "raw",
   "id": "38dbc3aa-104c-4230-98d4-4d2e3b91252d",
   "metadata": {
    "id": "38dbc3aa-104c-4230-98d4-4d2e3b91252d"
   },
   "source": [
    "\n",
    "📊 Data Interpretation:\n",
    "• Among people who do not have a CD account (CD Account = 0):\n",
    "• 93% of them have not taken out a loan.\n",
    "• Only 7% have taken out a loan. (Assuming the graph is complete)\n",
    "• Among people who have a CD account (CD Account = 1):\n",
    "• 54% have not taken out a loan.\n",
    "• 46% have taken out a loan (which is a higher percentage than the group without a CD account)\n",
    "\n",
    "🔎 That is, having a CD account is associated with the likelihood of taking out a personal loan"
   ]
  },
  {
   "cell_type": "code",
   "execution_count": null,
   "id": "f846950f-6db9-4984-8065-fd0e3309dc13",
   "metadata": {
    "colab": {
     "base_uri": "https://localhost:8080/",
     "height": 401
    },
    "id": "f846950f-6db9-4984-8065-fd0e3309dc13",
    "outputId": "3e202bda-f4fa-4ee5-88ff-d6a51f643132"
   },
   "outputs": [],
   "source": [
    "# Create grouped count and percent\n",
    "sex_percent = df.groupby(['CreditCard', 'Personal Loan']).size().reset_index(name='count')\n",
    "sex_percent['percent'] = sex_percent.groupby('CreditCard')['count'].transform(lambda x: x / x.sum())\n",
    "\n",
    "# Plot with percent\n",
    "plt.figure(figsize=(6, 4))\n",
    "sns.barplot(data=sex_percent, x='CreditCard', y='percent', hue='Personal Loan')\n",
    "\n",
    "# Add percentage labels on top of bars\n",
    "for container in plt.gca().containers:\n",
    "    plt.bar_label(container, labels=[f'{v:.0%}' for v in container.datavalues], label_type='edge')\n",
    "\n",
    "plt.title(\"Personal loan Distribution by CreditCard status\",fontsize=14,color=\"red\")\n",
    "plt.ylabel(\"Percentage\",color=\"purple\")\n",
    "plt.xlabel(\"CreditCard\",color=\"blue\")\n",
    "plt.ylim(0, 1)\n",
    "plt.tight_layout()\n",
    "plt.show()"
   ]
  },
  {
   "cell_type": "raw",
   "id": "cc69ca49-9c31-41dc-af13-efe84c281e63",
   "metadata": {
    "id": "cc69ca49-9c31-41dc-af13-efe84c281e63"
   },
   "source": [
    "📊 Chart Title:\n",
    "\n",
    "“Personal loan Distribution by CreditCard status”\n",
    "\n",
    "This bar chart shows the distribution of customers who accepted (1) or did not accept (0) a Personal Loan, grouped by their CreditCard ownership status.\n",
    "\n",
    "⸻\n",
    "\n",
    "🟦 Axis Interpretation:\n",
    " • X-axis (CreditCard):\n",
    " • Two categories:\n",
    " • 0 → Customer does not own a credit card\n",
    " • 1 → Customer owns a credit card\n",
    " • Y-axis (Percentage):\n",
    " • The vertical axis shows the proportion of customers in each category.\n",
    " • Range: 0 to 1, or 0% to 100%.\n",
    "\n",
    "⸻\n",
    "\n",
    "📊 Bar Breakdown (for each CreditCard group):\n",
    "\n",
    "🔹 CreditCard = 0\n",
    " • 90% of customers did not take a loan (Personal Loan = 0).\n",
    " • 10% of customers did take a loan (Personal Loan = 1).\n",
    "\n",
    "🔹 CreditCard = 1\n",
    " • Similarly, 90% of customers with credit cards did not take a loan.\n",
    " • 10% of them did take a loan.\n",
    "\n",
    "⸻\n",
    "\n",
    "🔍 Interpretation:\n",
    " • There’s no significant difference in personal loan acceptance between credit card holders and non-holders.\n",
    " • In both groups, only 10% took a personal loan, while 90% did not.\n",
    "\n",
    "⸻\n",
    "\n",
    "✅ Conclusion:\n",
    "\n",
    "Owning a credit card does not appear to influence whether a person accepts a personal loan in this dataset. The distributions are identical (90%-10%) for both groups."
   ]
  },
  {
   "cell_type": "code",
   "execution_count": null,
   "id": "f65b3b86-71bf-4f52-84ff-b9a827ac5f17",
   "metadata": {
    "colab": {
     "base_uri": "https://localhost:8080/",
     "height": 401
    },
    "id": "f65b3b86-71bf-4f52-84ff-b9a827ac5f17",
    "outputId": "56674c6c-b533-4683-e6c1-2b83fb51b519"
   },
   "outputs": [],
   "source": [
    "# Create grouped count and percent\n",
    "sex_percent = df.groupby(['Education', 'Personal Loan']).size().reset_index(name='count')\n",
    "sex_percent['percent'] = sex_percent.groupby('Education')['count'].transform(lambda x: x / x.sum())\n",
    "\n",
    "# Plot with percent\n",
    "plt.figure(figsize=(6, 4))\n",
    "sns.barplot(data=sex_percent, x='Education', y='percent', hue='Personal Loan')\n",
    "\n",
    "# Add percentage labels on top of bars\n",
    "for container in plt.gca().containers:\n",
    "    plt.bar_label(container, labels=[f'{v:.0%}' for v in container.datavalues], label_type='edge')\n",
    "\n",
    "plt.title(\"Personal loan Distribution by  Education\",fontsize=14,color=\"red\")\n",
    "plt.ylabel(\"Percentage\",color=\"purple\")\n",
    "plt.xlabel(\"Education\",color=\"blue\")\n",
    "plt.ylim(0, 1)\n",
    "\n",
    "plt.legend(\n",
    "    title='Personal Loan',\n",
    "    title_fontsize=10,\n",
    "    fontsize=9,\n",
    "    loc='upper right',\n",
    "    bbox_to_anchor=(1, 1)\n",
    ")\n",
    "plt.tight_layout()\n",
    "plt.show()"
   ]
  },
  {
   "cell_type": "raw",
   "id": "b640343f-84b6-4c19-ac77-c9437225b4a4",
   "metadata": {
    "id": "b640343f-84b6-4c19-ac77-c9437225b4a4"
   },
   "source": [
    "📊 Chart Title:\n",
    "\n",
    "“Personal loan Distribution by Education”\n",
    "\n",
    "This bar chart visualizes the percentage of customers who did or did not accept a personal loan, based on their education level.\n",
    "\n",
    "⸻\n",
    "\n",
    "\n",
    "🧾 Axis Breakdown:\n",
    " • X-axis (Education):\n",
    " • Education levels are coded numerically:\n",
    " • 1: Likely means “Undergrad” or “No College”\n",
    " • 2: Likely means “Graduate”\n",
    " • 3: Likely means “Advanced/Professional” degree\n",
    " • Y-axis (Percentage):\n",
    " • Shows percentage of customers in each education level who accepted or didn’t accept a personal loan.\n",
    "\n",
    "⸻\n",
    "\n",
    "🔢 Bar Details by Education Level:\n",
    "\n",
    "Education Level Did Not Take Loan (0) Took Loan (1)\n",
    "1 96% 4%\n",
    "2 87% 13%\n",
    "3 86% 14%\n",
    "\n",
    "\n",
    "⸻\n",
    "\n",
    "🔍 Interpretation:\n",
    " • 📉 Customers with Education Level 1 are much less likely to take personal loans — only 4% accepted.\n",
    " • 🎓 Customers with higher education levels (2 or 3) are more likely to take personal loans — around 13–14% acceptance.\n",
    " • There is a clear positive association between education level and personal loan acceptance.\n",
    "\n",
    "⸻\n",
    "\n",
    "✅ Conclusion:\n",
    "\n",
    "The more educated a customer is, the more likely they are to accept a personal loan.\n",
    "This insight can be very useful for targeted marketing — customers with higher education levels may be more receptive to loan offers"
   ]
  },
  {
   "cell_type": "code",
   "execution_count": null,
   "id": "9d8f26b7-02fc-4e9c-8a29-168d5bde38a8",
   "metadata": {
    "colab": {
     "base_uri": "https://localhost:8080/",
     "height": 401
    },
    "id": "9d8f26b7-02fc-4e9c-8a29-168d5bde38a8",
    "outputId": "c8670352-ac2a-46bb-84c0-4c51f0c8b997"
   },
   "outputs": [],
   "source": [
    "# Create grouped count and percent\n",
    "sex_percent = df.groupby(['Family', 'Personal Loan']).size().reset_index(name='count')\n",
    "sex_percent['percent'] = sex_percent.groupby('Family')['count'].transform(lambda x: x / x.sum())\n",
    "\n",
    "# Plot with percent\n",
    "plt.figure(figsize=(8, 4))\n",
    "sns.barplot(data=sex_percent, x='Family', y='percent', hue='Personal Loan')\n",
    "\n",
    "# Add percentage labels on top of bars\n",
    "for container in plt.gca().containers:\n",
    "    plt.bar_label(container, labels=[f'{v:.0%}' for v in container.datavalues], label_type='edge')\n",
    "\n",
    "plt.title(\"Personal loan Distribution by  Family \",fontsize=14,color=\"red\")\n",
    "plt.ylabel(\"Percentage\",color=\"purple\")\n",
    "plt.xlabel(\"CreditCard\",color=\"blue\")\n",
    "plt.ylim(0, 1)\n",
    "plt.legend(\n",
    "    title='Personal Loan',\n",
    "    title_fontsize=10,\n",
    "    fontsize=9,\n",
    "    loc='upper right',\n",
    "    bbox_to_anchor=(1, 1)\n",
    ")\n",
    "plt.tight_layout()\n",
    "plt.show()"
   ]
  },
  {
   "cell_type": "raw",
   "id": "7fd1d1e8-9d3d-41ab-a087-772c19cf5ad5",
   "metadata": {
    "id": "7fd1d1e8-9d3d-41ab-a087-772c19cf5ad5"
   },
   "source": [
    "\n",
    "📊 Chart Title:\n",
    "\n",
    "“Personal Loan Distribution by Family”\n",
    "\n",
    "This chart shows how the acceptance of personal loans varies across different family sizes (i.e., the number of family members, likely in the household).\n",
    "\n",
    "⸻\n",
    "\n",
    "🧾 Axis Overview:\n",
    " • X-axis (Family):\n",
    " • Indicates family size: 1, 2, 3, or 4 members.\n",
    " • Y-axis (Percentage):\n",
    " • Proportion of customers in each family group who did (1) or did not (0) accept a personal loan.\n",
    " • Legend:\n",
    " • 0 = Did not take loan (blue)\n",
    " • 1 = Took loan (brown)\n",
    "\n",
    "⸻\n",
    "\n",
    "🔢 Data by Family Size:\n",
    "\n",
    "Family Size Did Not Take Loan (0) Took Loan (1)\n",
    "1 93% 7%\n",
    "2 92% 8%\n",
    "3 87% 13%\n",
    "4 89% 11%\n",
    "\n",
    "\n",
    "⸻\n",
    "\n",
    "🔍 Insights:\n",
    " 1. Small Families (1–2 members):\n",
    " • Very low loan acceptance rates (only 7–8%).\n",
    " • These groups are the least likely to accept personal loans.\n",
    " 2. Larger Families (3–4 members):\n",
    " • Higher acceptance (13% and 11%), especially for family size 3.\n",
    " • Indicates that customers with more family responsibilities may be more in need of financial assistance, hence more open to loans.\n",
    "\n",
    "⸻\n",
    "\n",
    "✅ Conclusion:\n",
    "\n",
    "There is a positive relationship between family size and loan acceptance rate — particularly from 1 to 3 members.\n",
    "Families with 3 or 4 members seem more likely to accept personal loans, possibly due to increased financial demands.\n",
    "\n",
    "This feature (Family) could be a valuable predictor in your modeling phase."
   ]
  },
  {
   "cell_type": "code",
   "execution_count": null,
   "id": "3fe7966a-d727-45c5-b06b-23a589e918a4",
   "metadata": {
    "colab": {
     "base_uri": "https://localhost:8080/",
     "height": 401
    },
    "id": "3fe7966a-d727-45c5-b06b-23a589e918a4",
    "outputId": "7dbbdb7c-5d57-496e-ce52-8e7c3af9f1b2"
   },
   "outputs": [],
   "source": [
    "# Create grouped count and percent\n",
    "sex_percent = df.groupby(['Online', 'Personal Loan']).size().reset_index(name='count')\n",
    "sex_percent['percent'] = sex_percent.groupby('Online')['count'].transform(lambda x: x / x.sum())\n",
    "\n",
    "# Plot with percent\n",
    "plt.figure(figsize=(8, 4))\n",
    "sns.barplot(data=sex_percent, x='Online', y='percent', hue='Personal Loan')\n",
    "\n",
    "# Add percentage labels on top of bars\n",
    "for container in plt.gca().containers:\n",
    "    plt.bar_label(container, labels=[f'{v:.0%}' for v in container.datavalues], label_type='edge')\n",
    "\n",
    "plt.title(\"Personal loan Distribution by Online \",fontsize=14,color=\"red\")\n",
    "plt.ylabel(\"Percentage\",color=\"purple\")\n",
    "plt.xlabel(\"Online\",color=\"blue\")\n",
    "plt.ylim(0, 1)\n",
    "plt.legend(\n",
    "    title='Personal Loan',\n",
    "    title_fontsize=10,\n",
    "    fontsize=9,\n",
    "    loc='upper right',\n",
    "    bbox_to_anchor=(1, 1)\n",
    ")\n",
    "plt.tight_layout()\n",
    "plt.show()"
   ]
  },
  {
   "cell_type": "raw",
   "id": "c8c6321a-4b0f-4279-8a04-b5a1d9e349f4",
   "metadata": {
    "id": "c8c6321a-4b0f-4279-8a04-b5a1d9e349f4"
   },
   "source": [
    "📊 Chart Title:\n",
    "\n",
    "“Personal Loan Distribution by Online”\n",
    "\n",
    "This chart shows the relationship between customers’ online banking usage and their likelihood of accepting a personal loan.\n",
    "\n",
    "⸻\n",
    "\n",
    "🧾 Axes & Legend:\n",
    " • X-axis (Online):\n",
    " • 0 = Does not use online banking\n",
    " • 1 = Uses online banking\n",
    " • Y-axis (Percentage):\n",
    " • Proportion of people within each group who accepted (1) or did not accept (0) a personal loan.\n",
    " • Legend:\n",
    " • Blue (0) → Did not accept a loan\n",
    " • Brown (1) → Accepted a loan\n",
    "\n",
    "⸻\n",
    "\n",
    "🔢 Distribution Breakdown:\n",
    "\n",
    "Online Usage Didn’t Take Loan (0) Took Loan (1)\n",
    "No (0) 91% 9%\n",
    "Yes (1) 90% 10%\n",
    "\n",
    "\n",
    "⸻\n",
    "\n",
    "🔍 Insights:\n",
    " • The difference between online users and non-users is minimal in terms of loan acceptance.\n",
    " • Both groups show ~90% rejection rate and ~9–10% acceptance.\n",
    " • There’s no significant change in loan behavior based on whether someone uses online banking or not.\n",
    " • In other words:\n",
    "Online banking activity does not appear to be a strong predictor of whether someone accepts a personal loan.\n",
    "\n",
    "⸻\n",
    "\n",
    "✅ Conclusion:\n",
    "\n",
    "This feature (Online) likely has low predictive power for the target (Personal Loan).\n",
    "\n",
    "📌 There’s no meaningful difference in personal loan uptake between online and offline banking users"
   ]
  },
  {
   "cell_type": "code",
   "execution_count": null,
   "id": "77730036-5960-4e7c-a1c4-1152599d4736",
   "metadata": {
    "id": "77730036-5960-4e7c-a1c4-1152599d4736"
   },
   "outputs": [],
   "source": [
    "#convert to int\n",
    "cols_to_convert = ['Personal Loan', 'CD Account', 'Online', 'CreditCard',\n",
    "                   'Securities Account', 'Education', 'Family']\n",
    "\n",
    "for col in cols_to_convert:\n",
    "    df[col] = pd.to_numeric(df[col], errors='coerce').astype('Int64')"
   ]
  },
  {
   "cell_type": "code",
   "execution_count": null,
   "id": "757d85c6-62f0-4fc4-bcc7-889a898686c4",
   "metadata": {
    "colab": {
     "base_uri": "https://localhost:8080/"
    },
    "id": "757d85c6-62f0-4fc4-bcc7-889a898686c4",
    "outputId": "e2ebb519-64ce-42ab-d9a8-a5379dffa4d2"
   },
   "outputs": [],
   "source": [
    "df.Age.max()"
   ]
  },
  {
   "cell_type": "code",
   "execution_count": null,
   "id": "90417468-8a78-457f-b36e-80f0fa4c1b64",
   "metadata": {
    "colab": {
     "base_uri": "https://localhost:8080/",
     "height": 653
    },
    "id": "90417468-8a78-457f-b36e-80f0fa4c1b64",
    "outputId": "27cb54c6-f922-4035-c852-5f0890acf9e9"
   },
   "outputs": [],
   "source": [
    " #Proportion of Heart Disease (`target`) for Different Age Groups\n",
    "df[\"age_group\"] = pd.cut(df[\"Age\"], bins=[20, 40, 50, 60, 70], labels=[\"20-40\", \"40-50\", \"50-60\", \"60-70\"])\n",
    "print(\"\\n💓 **Proportion of `Personal Loan` for Each Age Group:**\")\n",
    "print(df.groupby(\"age_group\")[\"Personal Loan\"].value_counts(normalize=True).unstack())\n",
    "numerical_df = df.select_dtypes(include=[\"number\"])\n",
    "# Countplot for `age_group` distribution across `target`\n",
    "plt.figure(figsize=(8, 5))\n",
    "sns.countplot(data=df, x=\"age_group\", hue=\"Personal Loan\", palette=[\"pink\", \"blue\"])\n",
    "plt.title(\"📊 Distribution of `age_group` by `Personal Loan`\",color=\"red\",fontsize=14)\n",
    "plt.xlabel(\"Age Group\",color=\"purple\")\n",
    "plt.ylabel(\"Count\",color=\"blue\")\n",
    "plt.legend(title=\"Personal Loan\")\n",
    "plt.show()\n"
   ]
  },
  {
   "cell_type": "raw",
   "id": "cf2debc0-673f-42b4-b6db-ba43c7f6d942",
   "metadata": {
    "id": "cf2debc0-673f-42b4-b6db-ba43c7f6d942"
   },
   "source": [
    "📊 Chart Title:\n",
    "\n",
    "Distribution of Age Group by Personal Loan\n",
    "\n",
    "⸻\n",
    "\n",
    "🔍 Analysis of the Blue Bars (Loan Takers):\n",
    "\n",
    "✅ Age Group 20–40:\n",
    " • This group has the highest count of people who accepted the loan (blue bar).\n",
    " • The total number of people in this age group is also very high (pink bar).\n",
    " • The proportion of loan takers is the highest here.\n",
    " • 🔥 Best target group for marketing personal loans.\n",
    "\n",
    "⸻\n",
    "\n",
    "🔵 Age Group 40–50:\n",
    " • Blue bar is lower than in the 20–40 group.\n",
    " • The total population has slightly decreased.\n",
    " • The loan acceptance rate has dropped compared to the previous group.\n",
    " • Still a relevant group, but not as profitable.\n",
    "\n",
    "⸻\n",
    "\n",
    "🔵 Age Group 50–60:\n",
    " • The blue bar is similar in size to the 40–50 group.\n",
    " • However, total population (pink bar) is higher.\n",
    " • This means the loan acceptance rate is even lower than the 40–50 group.\n",
    "\n",
    "⸻\n",
    "\n",
    "🔽 Age Group 60–70:\n",
    " • Both bars (total and loan takers) drop sharply.\n",
    " • Very few people take loans in this range.\n",
    " • Older individuals may not be eligible or interested.\n",
    "\n",
    "⸻\n",
    "\n",
    "🔽 Age Group 70–80:\n",
    " • Very small group, with almost zero loan acceptance.\n",
    " • This group is not worth targeting.\n",
    "\n",
    "⸻\n",
    "\n",
    "✅ Summary Table:\n",
    "\n",
    "Age Group Total Count Loan Takers Insight\n",
    "20–40 Very high Highest 🎯 Best target group\n",
    "40–50 High Moderate Still valid\n",
    "50–60 High Similar Less effic\n",
    "ient\n",
    "60–70 Low Very Low ⛔ Not ideal\n",
    "70–80 Very Low ~0 ❌ Avoid targeting\n",
    "\n",
    "\n",
    "⸻\n",
    "\n",
    "🔍 Final Insight:\n",
    "\n",
    "You are absolutely right in your observation:\n",
    "➡️ The 20–40 age group not only has the largest population, but also the highest loan acceptance rate.\n",
    "So this group should be the primary focus for personalized loan offerings and marketing campaigns"
   ]
  },
  {
   "cell_type": "code",
   "execution_count": null,
   "id": "0e81102d-d994-4840-8ce9-637d5a35bbd1",
   "metadata": {
    "colab": {
     "base_uri": "https://localhost:8080/"
    },
    "id": "0e81102d-d994-4840-8ce9-637d5a35bbd1",
    "outputId": "d977a9ad-5611-409e-a8a1-e5e0d63591b3"
   },
   "outputs": [],
   "source": [
    "Age_0_30 = []\n",
    "Age_30_50 = []\n",
    "Age_50_65 = []\n",
    "Age_65 = []\n",
    "\n",
    "for i in range(len(df)):\n",
    "    age = df.loc[i, 'Age']\n",
    "    loan = df.loc[i, 'Personal Loan']\n",
    "\n",
    "    if loan == 1:\n",
    "        if age < 30:\n",
    "            Age_0_30.append(age)\n",
    "        elif age < 50:\n",
    "            Age_30_50.append(age)\n",
    "        elif age < 65:\n",
    "            Age_50_65.append(age)\n",
    "        else:\n",
    "            Age_65.append(age)\n",
    "\n",
    "\n",
    "total_loans = len(df[df['Personal Loan'] == 1])\n",
    "\n",
    "print(f'Number of Personal Loans age <30: {len(Age_0_30)} ({len(Age_0_30)/total_loans:.2%})')\n",
    "print(f'Number of Personal Loans age 30–50: {len(Age_30_50)} ({len(Age_30_50)/total_loans:.2%})')\n",
    "print(f'Number of Personal Loans age 50–65: {len(Age_50_65)} ({len(Age_50_65)/total_loans:.2%})')\n",
    "print(f'Number of Personal Loans age >65: {len(Age_65)} ({len(Age_65)/total_loans:.2%})')"
   ]
  },
  {
   "cell_type": "markdown",
   "id": "9dd3e070-c410-4cef-9633-25688cb5693a",
   "metadata": {
    "id": "9dd3e070-c410-4cef-9633-25688cb5693a"
   },
   "source": [
    "finding the ages of people who received loans"
   ]
  },
  {
   "cell_type": "code",
   "execution_count": null,
   "id": "c7e6f25e-76eb-4e59-a031-3cb8741cf3a6",
   "metadata": {
    "colab": {
     "base_uri": "https://localhost:8080/"
    },
    "id": "c7e6f25e-76eb-4e59-a031-3cb8741cf3a6",
    "outputId": "c3eee09a-9fd3-45b9-850a-dd92ec23d370"
   },
   "outputs": [],
   "source": [
    "\n",
    "family_stats = {\n",
    "    1: {'total': 0, 'loan': 0},\n",
    "    2: {'total': 0, 'loan': 0},\n",
    "    3: {'total': 0, 'loan': 0},\n",
    "    4: {'total': 0, 'loan': 0},\n",
    "}\n",
    "\n",
    "\n",
    "for index, row in df.iterrows():\n",
    "    family_count = row['Family']\n",
    "    loan_status = row['Personal Loan']\n",
    "\n",
    "    if family_count in family_stats:\n",
    "        family_stats[family_count]['total'] += 1\n",
    "        if loan_status == 1:\n",
    "            family_stats[family_count]['loan'] += 1\n",
    "\n",
    "\n",
    "for fam_size in sorted(family_stats.keys()):\n",
    "    total = family_stats[fam_size]['total']\n",
    "    loans = family_stats[fam_size]['loan']\n",
    "    percentage = loans / total * 100 if total > 0 else 0\n",
    "\n",
    "    print(f'📌 Family size {fam_size}:')\n",
    "    print(f'   - Total: {total}')\n",
    "    print(f'   - With Loan: {loans}')\n",
    "    print(f'   - Percentage: {percentage:.2f}%\\n')\n"
   ]
  },
  {
   "cell_type": "markdown",
   "id": "3d980cf3-8697-4789-bcf4-2d828524bf78",
   "metadata": {
    "id": "3d980cf3-8697-4789-bcf4-2d828524bf78"
   },
   "source": [
    "� The main purpose of the code:\n",
    "\n",
    "Analyze the relationship between family size and the probability of taking out a personal loan.\n",
    "That is, you want to find out whether people with larger families take out more loans or not?"
   ]
  },
  {
   "cell_type": "code",
   "execution_count": null,
   "id": "5f607d1d-b9c0-45d6-b194-c0da6e63f890",
   "metadata": {
    "colab": {
     "base_uri": "https://localhost:8080/"
    },
    "id": "5f607d1d-b9c0-45d6-b194-c0da6e63f890",
    "outputId": "b8cbe421-9f7a-47ce-cba6-f01bd95fd5b4"
   },
   "outputs": [],
   "source": [
    "cols1 = ['Family', 'Education', 'Personal Loan', 'Securities Account', 'CD Account', 'Online', 'CreditCard']\n",
    "for col in cols1:\n",
    "    print(f\"\\n{df[col].value_counts()}\")\n",
    "    print('_'*25)"
   ]
  },
  {
   "cell_type": "code",
   "execution_count": null,
   "id": "d6c8d867",
   "metadata": {},
   "outputs": [],
   "source": [
    "# Below code shows swarm plot for customers by Income and Education, seggregated by Personal Loan opted or not\n",
    "\n",
    "sns.set(palette='icefire')\n",
    "plt.figure(figsize=(15,5))\n",
    "sns.swarmplot(data=df, x='Education', y='Income', hue='Personal Loan').set(title='Swarmplot: Education vs Income by Personal Loan\\n0: Not Borrowed, 1: Borrowed');\n",
    "plt.legend(loc=\"upper left\" ,title=\"Opted Personal Loan\", bbox_to_anchor=(1,1))"
   ]
  },
  {
   "cell_type": "markdown",
   "id": "7f56ca07",
   "metadata": {},
   "source": [
    "This plot clearly shows a positive relationship between:\n",
    " • Income\n",
    " • Education\n",
    " • and Likelihood of having a personal loan\n",
    "\n",
    "In simple terms:\n",
    "\n",
    "“Higher-educated, higher-income people are more likely to be approved for or opt into a personal loan."
   ]
  },
  {
   "cell_type": "code",
   "execution_count": null,
   "id": "eb3980e4",
   "metadata": {},
   "outputs": [],
   "source": [
    "# Below code shows swarm plot for customers by Income and Family size, seggregated by Personal Loan opted or not\n",
    "\n",
    "sns.set(palette='icefire')\n",
    "plt.figure(figsize=(15,5))\n",
    "sns.swarmplot(data=df, x='Family', y='Income', hue='Personal Loan').set(title='Swarmplot: Family size vs Income by Personal Loan\\n0: Not Borrowed, 1: Borrowed');\n",
    "plt.legend(loc=\"upper left\" ,title=\"Opted Personal Loan\", bbox_to_anchor=(1,1))"
   ]
  },
  {
   "cell_type": "markdown",
   "id": "f4441327",
   "metadata": {},
   "source": [
    "Income level still seems to be the most impactful factor in loan prediction\n",
    " • Family size shows only a mild pattern — perhaps slightly more loan-taking in families of size 3 or 4 with high income"
   ]
  },
  {
   "cell_type": "code",
   "execution_count": null,
   "id": "df6c32bd-a342-425c-b8ad-be0e1ea02f82",
   "metadata": {
    "colab": {
     "base_uri": "https://localhost:8080/"
    },
    "id": "df6c32bd-a342-425c-b8ad-be0e1ea02f82",
    "outputId": "68f024f5-602c-4dda-d6e9-2583828d6880"
   },
   "outputs": [],
   "source": [
    "# Define columns that are numeric but actually categorical (binary or ordinal features)\n",
    "categorical_like = ['CD Account',\"CreditCard\", \"CreditCard\",\"Education\",\"Family\", \"Online\" ,\"Personal Loan\"]\n",
    "\n",
    "\n",
    "# Select only true continuous numerical features (exclude categorical-like ones)\n",
    "true_numerical_cols = [\n",
    "    col for col in df.select_dtypes(include=['int64', 'float64']).columns\n",
    "    if col not in categorical_like\n",
    "]\n",
    "\n",
    "# Compute correlation matrix of only continuous features\n",
    "corr_matrix = df[true_numerical_cols].corr()\n",
    "\n",
    "# Convert to DataFrame for nicer display (optional)\n",
    "corr_df = corr_matrix.reset_index().rename(columns={'index': 'Feature'})\n",
    "\n",
    "# Display\n",
    "print(\"Correlation matrix of true numerical features:\")\n",
    "print(corr_matrix)"
   ]
  },
  {
   "cell_type": "raw",
   "id": "f1aa7b83-81dd-4545-8fe9-8a1e546099e6",
   "metadata": {
    "id": "f1aa7b83-81dd-4545-8fe9-8a1e546099e6"
   },
   "source": [
    "🔍 Analysis of the numerical correlation matrix:\n",
    "\n",
    "1. ID\n",
    "• No specific correlation with any feature (all are close to zero).\n",
    "• For example, with Age about -0.008, with Income about -0.017.\n",
    "• ✅‌ Result: It is a random feature/row number and does not contribute anything to the model. It can be removed.\n",
    "\n",
    "⸻\n",
    "\n",
    "2. Age\n",
    "• With Experience: +0.978 → very strong\n",
    "• It makes sense, because work experience usually increases with age.\n",
    "• With Income: -0.055 → very weak and negative correlation.\n",
    "• ✅ Result: It has a strong relationship with Experience, there is a possibility of multicollinearity between the two.\n",
    "\n",
    "⸻\n",
    "\n",
    "3. Experience\n",
    "• With Age: +0.978 (as above)\n",
    "• With Income: -0.049 → negative but weak\n",
    "• ✅ Similar to above; The very strong relationship with Age suggests that we can keep one, and drop the other to avoid duplication of data.\n",
    "\n",
    "⸻\n",
    "\n",
    "4. Income\n",
    "• With CCAvg: +0.645 → positive and fairly strong\n",
    "• Makes sense: higher income → higher average credit card balance\n",
    "• With Mortgage: +0.206 → weak to moderate\n",
    "• ✅ Conclusion: Income is an important and loan-related characteristic.\n",
    "\n",
    "⸻\n",
    "\n",
    "5. ZIP Code\n",
    "• With all variables, it is almost zero.\n",
    "• For example: with Income → -0.016\n",
    "• ✅ Conclusion: Location (zip code) has little or no effect on our data.\n",
    "\n",
    "⸻\n",
    "\n",
    "6. CCAvg (Average Credit Card Spend)\n",
    "• With Income: +0.645 → High (as we saw above)\n",
    "• With Mortgage: +0.109 → Weak\n",
    "• ✅ Result: More related to income.\n",
    "\n",
    "⸻\n",
    "\n",
    "7. Mortgage\n",
    "• With Income: +0.206\n",
    "• Very weak with the rest of the variables.\n",
    "• ✅ Result: Slightly related to income, but not very related overall.\n",
    "\n",
    "⸻\n",
    "\n",
    "8. Securities Account\n",
    "• Almost zero with all columns\n",
    "• With Income: +0.016, with CCAvg: -0.0005\n",
    "• ✅ Result: This column also does not have much effect in relation to the other variables. It should be examined alone (for example, in relation to Personal Loan)"
   ]
  },
  {
   "cell_type": "raw",
   "id": "b7c89d60-405e-4b24-83b6-a529438a0894",
   "metadata": {
    "id": "b7c89d60-405e-4b24-83b6-a529438a0894"
   },
   "source": [
    "Variable/\n",
    "Summary of Correlations/\n",
    "ID\n",
    "No correlation → Can be removed/\n",
    "Age & Experience\n",
    "Highly correlated (one can be removed)/\n",
    "Income\n",
    "Most correlated with CCAvg and Mortgage → Important/\n",
    "ZIP Code\n",
    "Very weak correlation → Can be removed/\n",
    "CCAvg\n",
    "Related to Income → Useful/\n",
    "Mortgage\n",
    "Weak correlation\n",
    "Securities Account/\n",
    "None effect"
   ]
  },
  {
   "cell_type": "code",
   "execution_count": null,
   "id": "0195580a-c7ba-445b-8764-d96e2904f77f",
   "metadata": {
    "colab": {
     "base_uri": "https://localhost:8080/"
    },
    "id": "0195580a-c7ba-445b-8764-d96e2904f77f",
    "outputId": "eee21528-68f9-40d8-b19c-e54f0199a2a6"
   },
   "outputs": [],
   "source": [
    "import pandas as pd\n",
    "\n",
    "# numeric columns\n",
    "numeric_df = df.select_dtypes(include='number')\n",
    "\n",
    "#corrolation with target\n",
    "correlations = numeric_df.corr()['Personal Loan'].sort_values(ascending=False)\n",
    "\n",
    "# display\n",
    "print(\"Correlation of features with target variable (Personal Loan):\\n\")\n",
    "print(correlations)"
   ]
  },
  {
   "cell_type": "raw",
   "id": "0f0c1b08-8a92-45eb-91d6-e9b5b17aeb9c",
   "metadata": {
    "id": "0f0c1b08-8a92-45eb-91d6-e9b5b17aeb9c"
   },
   "source": [
    "✅ Top Features Positively Correlated with Personal Loan (most important predictors)\n",
    "\n",
    "Feature Correlation Interpretation\n",
    "Income +0.50 ✅ Strongest positive correlation. Higher income → more likely to accept a loan.\n",
    "CCAvg +0.37 ✅ Moderately strong. Higher credit card average spending → higher loan uptake.\n",
    "CD Account +0.32 ✅ Significant. Having a CD account correlates with accepting a loan.\n",
    "Mortgage +0.14 🟡 Weak positive relation — not very strong but potentially meaningful.\n",
    "Education +0.14 🟡 People with higher education may accept loans slightly more often.\n",
    "\n",
    "\n",
    "⸻\n",
    "\n",
    "⚪️ Weak or Negligible Correlation (likely not useful)\n",
    "\n",
    "Feature Correlation Notes\n",
    "Family +0.06 🔸 Very weak — number of family members has little impact.\n",
    "Securities Account +0.02 🔸 Minimal impact — practically uncorrelated.\n",
    "Online -0.006 ❌ No meaningful relation.\n",
    "CreditCard +0.0028 ❌ Irrelevant correlation.\n",
    "ZIP Code +0.0011 ⚠️ Technically numeric but not analytically meaningful. Treat as ID-like.\n",
    "\n",
    "\n",
    "⸻\n",
    "\n",
    "❌ Negative Correlation with Personal Loan\n",
    "\n",
    "Feature Correlation Meaning\n",
    "Age -0.0077 ❌ Extremely weak negative correlation — no useful pattern.\n",
    "Experience -0.14 🟡 Slight negative — maybe older/more experienced people are more cautious about loans.\n",
    "ID -0.025 ⚠️ ID is just an identifier — should be excluded from any modeling or interpretation.\n",
    "\n",
    "\n",
    "⸻\n",
    "\n",
    "✅ Summary (Simple Takeaway):\n",
    " • The most predictive features for Personal Loan are:\n",
    " • Income\n",
    " • CCAvg\n",
    " • CD Account\n",
    " • Education and Mortgage might also be mildly helpful.\n",
    " • Features like ZIP Code, ID, Age, CreditCard are not useful and should be ignored for modeling"
   ]
  },
  {
   "cell_type": "code",
   "execution_count": null,
   "id": "5fb30f7b-a1a6-478f-9346-f60f710b39c3",
   "metadata": {
    "colab": {
     "base_uri": "https://localhost:8080/",
     "height": 773
    },
    "id": "5fb30f7b-a1a6-478f-9346-f60f710b39c3",
    "outputId": "7ccff241-afd3-4847-8a78-c6807fe3f31f"
   },
   "outputs": [],
   "source": [
    "import pandas as pd\n",
    "import matplotlib.pyplot as plt\n",
    "import seaborn as sns\n",
    "\n",
    "# numerical columns\n",
    "numeric_df = df.select_dtypes(include='number')\n",
    "\n",
    "# calculate corrolation\n",
    "corr_matrix = numeric_df.corr()\n",
    "\n",
    "\n",
    "plt.figure(figsize=(12, 10))\n",
    "sns.set(style='white')\n",
    "\n",
    "# draw Heatmap\n",
    "sns.heatmap(\n",
    "    corr_matrix,\n",
    "    annot=True,\n",
    "    fmt=\".2f\",\n",
    "    cmap='coolwarm',\n",
    "    square=True,\n",
    "    linewidths=0.5,\n",
    "    cbar_kws={\"shrink\": 0.8}\n",
    ")\n",
    "\n",
    "plt.title(\"Correlation Heatmap of Numerical Features\", fontsize=16)\n",
    "plt.xticks(rotation=45)\n",
    "plt.yticks(rotation=0)\n",
    "plt.tight_layout()\n",
    "plt.show()"
   ]
  },
  {
   "cell_type": "raw",
   "id": "18a6d36b-33a3-48af-9f88-966a31012a32",
   "metadata": {
    "id": "18a6d36b-33a3-48af-9f88-966a31012a32"
   },
   "source": [
    "Age and Experience are extremely correlated\n",
    "Income and CCAvg are highly correlated\n",
    "Personal Loan has the highest correlations with 'Income', 'CCAvg', 'CD Account', 'Mortgage', and 'Education'\n",
    "There is a nearly strong relationship between 'CD Account' & 'Credit Card'\n",
    "There is a nearly strong relationship between 'CD Account' & 'Securities Account'\n",
    "There is a nearly strong relationship between 'Income' & 'CCAvg'"
   ]
  },
  {
   "cell_type": "code",
   "execution_count": null,
   "id": "55e08e15-99dd-4641-af8a-acd5f9b2bfe4",
   "metadata": {},
   "outputs": [],
   "source": [
    "df"
   ]
  },
  {
   "cell_type": "code",
   "execution_count": null,
   "id": "bf7881f5-897f-432a-8212-447011121d71",
   "metadata": {},
   "outputs": [],
   "source": [
    "num_cols = df.select_dtypes(include=['int64', 'float64']).columns.tolist()"
   ]
  },
  {
   "cell_type": "code",
   "execution_count": null,
   "id": "23cba7cb-5572-46ad-89ef-4db500efa6c7",
   "metadata": {
    "colab": {
     "base_uri": "https://localhost:8080/"
    },
    "id": "23cba7cb-5572-46ad-89ef-4db500efa6c7",
    "outputId": "97044042-bccb-4989-90e1-f9a321a5f00c"
   },
   "outputs": [],
   "source": [
    "import pandas as pd\n",
    "from scipy.stats import ttest_ind\n",
    "import statsmodels.api as sm\n",
    "import statsmodels.formula.api as smf\n",
    "\n",
    "num_cols = df.select_dtypes(include=['int64', 'float64']).columns.tolist()\n",
    "if 'Personal Loan' in num_cols:\n",
    "    num_cols.remove('Personal Loan')\n",
    "\n",
    "\n",
    "results = []\n",
    "\n",
    "\n",
    "for col in num_cols:\n",
    "    group0 = df[df['Personal Loan'] == 0][col]\n",
    "    group1 = df[df['Personal Loan'] == 1][col]\n",
    "\n",
    "    t_stat, p_val = ttest_ind(group0, group1, equal_var=False)  # Welch's t-test\n",
    "\n",
    "    result = {\n",
    "        'Feature': col,\n",
    "        'T-Statistic': round(t_stat, 3),\n",
    "        'P-Value': round(p_val, 5),\n",
    "        'Significant (p < 0.05)': '✅ Yes' if p_val < 0.05 else '❌ No'\n",
    "    }\n",
    "\n",
    "    results.append(result)\n",
    "\n",
    "\n",
    "results_df = pd.DataFrame(results)\n",
    "print(results_df.sort_values('P-Value'))"
   ]
  },
  {
   "cell_type": "raw",
   "id": "66b9f149-1e74-4df8-a9ff-afe05ce405d8",
   "metadata": {
    "id": "66b9f149-1e74-4df8-a9ff-afe05ce405d8",
    "vscode": {
     "languageId": "raw"
    }
   },
   "source": [
    "📌 Objective code:\n",
    "\n",
    "Checks whether there is a statistically significant difference between variables such as income, age, CCAvg, experience, etc.\n",
    "between the two groups \"borrowed\" (personal loan = 1) and \"not borrowed\" (personal loan = 0)\n",
    "Useful predictors (statistically significant):\n",
    " • Income, CCAvg, Education, Mortgage, CD Account, Family\n",
    " • Not useful (no statistical difference):\n",
    " • Age, Experience, Online, CreditCard, ZIP Code, ID, Securities Account"
   ]
  },
  {
   "cell_type": "code",
   "execution_count": null,
   "id": "7d99d578-3367-489f-a6be-1fd1b9574677",
   "metadata": {},
   "outputs": [],
   "source": [
    "import pandas as pd\n",
    "import numpy as np\n",
    "import matplotlib.pyplot as plt\n",
    "from scipy.stats import ttest_ind\n",
    "\n",
    "num_cols = df.select_dtypes(include=[\"int64\", \"float64\"]).columns.tolist()\n",
    "\n",
    "if \"Personal Loan\" in num_cols:\n",
    "    num_cols.remove(\"Personal Loan\")\n",
    "\n",
    "results = []\n",
    "\n",
    "for col in num_cols:\n",
    "    group0 = df[df[\"Personal Loan\"] == 0][col].dropna()\n",
    "    group1 = df[df[\"Personal Loan\"] == 1][col].dropna()\n",
    "\n",
    "    if len(group0) > 0 and len(group1) > 0:\n",
    "        t_stat, p_val = ttest_ind(group0, group1, equal_var=False)\n",
    "        results.append({\n",
    "            \"Feature\": col,\n",
    "            \"T_Statistic\": round(t_stat, 4),\n",
    "            \"P_Value\": round(p_val, 4)\n",
    "        })\n",
    "\n",
    "results_df = pd.DataFrame(results)\n",
    "results_df[\"Color\"] = np.where(results_df[\"P_Value\"] < 0.05, \"green\", \"red\")\n",
    "\n",
    "# Print check\n",
    "print(results_df)\n",
    "\n",
    "plt.figure(figsize=(12, 6))  \n",
    "plt.bar(results_df[\"Feature\"], results_df[\"P_Value\"], color=results_df[\"Color\"])\n",
    "plt.axhline(0.05, color='black', linestyle='--', label=\"Significance Threshold (0.05)\")\n",
    "plt.title(\"T-Test: Personal Loan vs Numerical Features\")\n",
    "plt.xlabel(\"Feature\")\n",
    "plt.ylabel(\"P-Value\")\n",
    "plt.xticks(rotation=45)\n",
    "\n",
    "plt.subplots_adjust(bottom=0.25)\n",
    "\n",
    "plt.legend()\n",
    "plt.tight_layout()\n",
    "plt.show()"
   ]
  },
  {
   "cell_type": "code",
   "execution_count": null,
   "id": "b3f62b81-5636-4c1b-baad-7d688292fb4a",
   "metadata": {
    "colab": {
     "base_uri": "https://localhost:8080/"
    },
    "id": "b3f62b81-5636-4c1b-baad-7d688292fb4a",
    "outputId": "7d67c6f0-e4b2-4b89-ea06-fe340bcb611f"
   },
   "outputs": [],
   "source": [
    "import pandas as pd\n",
    "from scipy.stats import f_oneway\n",
    "\n",
    "numeric_cols = df.select_dtypes(include=['float64', 'int64']).columns.tolist()\n",
    "categorical_cols = df.select_dtypes(include='object').columns.tolist()\n",
    "\n",
    "\n",
    "potential_cat = ['Education', 'Family', 'CD Account', 'Online', 'CreditCard', 'Securities Account']\n",
    "for col in potential_cat:\n",
    "    if col in df.columns:\n",
    "        df[col] = df[col].astype('object')\n",
    "        if col not in categorical_cols:\n",
    "            categorical_cols.append(col)\n",
    "        if col in numeric_cols:\n",
    "            numeric_cols.remove(col)\n",
    "\n",
    "\n",
    "drop_cols = ['ID', 'ZIP Code']\n",
    "numeric_cols = [col for col in numeric_cols if col not in drop_cols]\n",
    "\n",
    "\n",
    "results = []\n",
    "for cat_col in categorical_cols:\n",
    "    if df[cat_col].nunique() < 2:\n",
    "        continue\n",
    "    for num_col in numeric_cols:\n",
    "        try:\n",
    "\n",
    "            groups = [df[df[cat_col] == level][num_col] for level in df[cat_col].unique()]\n",
    "            f_stat, p_value = f_oneway(*groups)\n",
    "            results.append({\n",
    "                'Categorical Variable': cat_col,\n",
    "                'Numeric Variable': num_col,\n",
    "                'F-Statistic': round(f_stat, 3),\n",
    "                'P-Value': round(p_value, 5),\n",
    "                'Significant (<0.05)?': '✅ Yes' if p_value < 0.05 else '❌ No'\n",
    "            })\n",
    "        except:\n",
    "            continue\n",
    "\n",
    "\n",
    "anova_df = pd.DataFrame(results)\n",
    "\n",
    "\n",
    "anova_df = anova_df.sort_values(by='P-Value')\n",
    "\n",
    "\n",
    "pd.set_option('display.max_rows', None)\n",
    "print(anova_df)"
   ]
  },
  {
   "cell_type": "raw",
   "id": "ef2f9c04-6842-47d4-befc-451cf7c3b0f3",
   "metadata": {
    "id": "ef2f9c04-6842-47d4-befc-451cf7c3b0f3"
   },
   "source": [
    "Significant variables to consider for modeling Personal Loan:\n",
    " • Income\n",
    " • CCAvg\n",
    " • CD Account\n",
    " • Mortgage\n",
    " • Education\n",
    " • Family\n",
    "\n",
    "These features statistically impact whether a person will take a personal loan and are good candidates for a machine learning model"
   ]
  },
  {
   "cell_type": "code",
   "execution_count": null,
   "id": "982e09db-5a50-4fdc-97bc-def95e0225e7",
   "metadata": {
    "id": "982e09db-5a50-4fdc-97bc-def95e0225e7"
   },
   "outputs": [],
   "source": [
    "df = df.drop(['ID'],axis=1)\n"
   ]
  },
  {
   "cell_type": "code",
   "execution_count": null,
   "id": "41755394-d4de-4332-929d-ed792d4dd48c",
   "metadata": {
    "colab": {
     "base_uri": "https://localhost:8080/",
     "height": 1000
    },
    "id": "41755394-d4de-4332-929d-ed792d4dd48c",
    "outputId": "18e8bfc4-f501-4784-fa15-9b508aee01fd"
   },
   "outputs": [],
   "source": [
    "\n",
    "import matplotlib.pyplot as plt\n",
    "import seaborn as sns\n",
    "from itertools import combinations\n",
    "\n",
    "\n",
    "num_features = ['Age', 'Experience', 'Income', 'CCAvg', 'Mortgage']\n",
    "\n",
    "\n",
    "feature_pairs = list(combinations(num_features, 2))\n",
    "\n",
    "\n",
    "for x_feat, y_feat in feature_pairs:\n",
    "    plt.figure(figsize=(6, 4))\n",
    "    sns.scatterplot(data=df, x=x_feat, y=y_feat, alpha=0.6, s=30)\n",
    "    plt.title(f'Scatter Plot: {x_feat} vs {y_feat}', fontsize=14,color=\"red\")\n",
    "    plt.xlabel(x_feat,color=\"purple\")\n",
    "    plt.ylabel(y_feat,color=\"blue\")\n",
    "    plt.grid(True, linestyle='--', alpha=0.5)\n",
    "    plt.tight_layout()\n",
    "    plt.show()\n"
   ]
  },
  {
   "cell_type": "raw",
   "id": "51ba75f3-53e1-4ced-9954-5be8c730bbaf",
   "metadata": {
    "id": "51ba75f3-53e1-4ced-9954-5be8c730bbaf"
   },
   "source": [
    "🔹 1. Scatter Plot: Age vs Experience\n",
    "\n",
    "✅ Observation:\n",
    " • There’s a strong linear relationship between Age and Experience.\n",
    " • The points form a nearly perfect diagonal line, showing that as Age increases, Experience           increases proportionally.\n",
    " • A few horizontal clusters at Experience = 20 suggest potential data errors or outliers (maybe some people with same experience but different ages)\n",
    "\n",
    " 📊2. Scatter Plot: Age vs Income\n",
    "\n",
    "✅ Observations:\n",
    " 1. The data points are widely scattered with no clear trend.\n",
    " 2. People in their 30s or 40s can have both high and low income.\n",
    " 3. Similarly, older individuals (ages 50+) can also fall across the full income range.\n",
    " 4. There’s a dense cluster of data between ages 30–55 and income 80–150.\n",
    " 5. Income levels span from around 50 to 200+ across almost all age groups.\n",
    "\n",
    "⸻\n",
    "\n",
    "📉 Statistical Insight:\n",
    " • The correlation between Age and Income is very weak (as shown earlier, around -0.05).\n",
    " • This suggests no linear relationship between age and income in this dataset.\n",
    " • Age does not strongly predict income on its own\n",
    "\n",
    " 📊 3.Scatter Plot: Age vs CCAvg (Credit Card Average Spending)\n",
    "\n",
    "✅ Observations:\n",
    " 1. The data points are evenly scattered across all age groups, from around 25 to 65.\n",
    " 2. CCAvg (average monthly credit card spending) mostly ranges between 0 and 10.\n",
    " 3. There’s no obvious trend or slope in the data — no upward or downward pattern.\n",
    " 4. Younger, middle-aged, and older customers all show similar spending behaviors.\n",
    " 5. A dense cluster appears around CCAvg 1–3, meaning most people spend moderately on average.\n",
    "\n",
    "⸻\n",
    "\n",
    "📉 Statistical Insight:\n",
    " • The visual and statistical correlation between Age and CCAvg is very weak or non-existent.\n",
    " • This suggests that credit card spending habits are not influenced by age in this dataset\n",
    "\n",
    " 📊 4.Scatter Plot: Age vs Mortgage\n",
    "\n",
    "✅ Observations:\n",
    " 1. Mortgage values range widely from 0 up to around 600.\n",
    " 2. Data points are widely scattered for all age groups — from about 25 to 65 years.\n",
    " 3. There is a horizontal cluster at 0, suggesting many customers have no mortgage at all.\n",
    " 4. Apart from the dense row at zero, there is no obvious trend as age increases.\n",
    " 5. Both younger and older individuals may or may not have mortgages — it’s highly varied.\n",
    "\n",
    "⸻\n",
    "\n",
    "📉 Statistical Insight:\n",
    " • No strong correlation is visually evident between Age and Mortgage.\n",
    " • The mortgage amount does not consistently increase or decrease with age.\n",
    " • The correlation is likely very weak or close to zero, consistent with your earlier correlation matrix.\n",
    "\n",
    " 📊 5.Detailed Analysis – Scatter Plot: Experience vs Income\n",
    "\n",
    "🔍 Key Observations:\n",
    " 1. High Dispersion:\n",
    " • The data points are widely scattered across the plot.\n",
    " • There’s no clear concentration in any specific region.\n",
    " 2. No Clear Trend:\n",
    " • As experience increases (from 0 to ~40 years), income does not consistently increase.\n",
    " • People with both low and high experience levels can have either low or high income.\n",
    " • This implies income is not linearly dependent on experience.\n",
    " 3. Very Weak or No Correlation:\n",
    " • The spread is uniform, with no visible upward or downward slope.\n",
    "\n",
    " Scatter Plot 6: Experience vs Mortgage\n",
    " • X-axis: Experience (in years)\n",
    " • Y-axis: Mortgage (loan amount)\n",
    "\n",
    "Observations:\n",
    " 1. There’s a large cluster of data at Mortgage = 0, meaning many people have no mortgage at all.\n",
    " 2. Mortgage amounts are scattered across all experience levels – people with low and high experience may or may not have mortgages.\n",
    " 3. There’s no clear trend (positive or negative) between Experience and Mortgage.\n",
    "\n",
    "✅ Conclusion:\n",
    "There is no significant relationship between work experience and mortgage amount. The data is fairly spread out with no visible correlation\n",
    "\n",
    "🔹 7. Income vs CCAvg\n",
    " • Observation: There is a positive correlation.\n",
    " • Meaning: As income increases, the average credit card spending (CCAvg) tends to increase.\n",
    " • Pattern: The relationship is not perfectly linear, but the trend is clearly upward.\n",
    "\n",
    "⸻\n",
    "\n",
    "🔹 8. CCAvg vs Mortgage\n",
    " • Observation: No strong correlation is visible.\n",
    " • Meaning: Credit card spending (CCAvg) doesn’t clearly relate to mortgage amount.\n",
    " • Pattern: The data points are widely scattered, showing no trend.\n",
    "\n",
    "⸻\n",
    "\n",
    "🔹 9. Income vs Mortgage\n",
    " • Observation: Moderate positive correlation, especially for lower-income ranges.\n",
    " • Meaning: People with higher income are more likely to have higher mortgages, up to a point.\n",
    " • Pattern: The triangle shape suggests that low income → low mortgage, but high income → wide range of mortgage values."
   ]
  },
  {
   "cell_type": "code",
   "execution_count": null,
   "id": "ec1cf472-d1f4-45cd-a87a-88ea6b8b13ab",
   "metadata": {
    "colab": {
     "base_uri": "https://localhost:8080/",
     "height": 1000
    },
    "id": "ec1cf472-d1f4-45cd-a87a-88ea6b8b13ab",
    "outputId": "375de27b-24f4-4531-d710-081daef6d711"
   },
   "outputs": [],
   "source": [
    "import matplotlib.pyplot as plt\n",
    "import seaborn as sns\n",
    "from itertools import combinations\n",
    "\n",
    "\n",
    "num_features = ['Age', 'Experience', 'Income', 'CCAvg', 'Mortgage']\n",
    "\n",
    "\n",
    "feature_pairs = list(combinations(num_features, 2))\n",
    "\n",
    "plot_colors = sns.color_palette(\"husl\", len(feature_pairs))\n",
    "\n",
    "\n",
    "for idx, (x_feat, y_feat) in enumerate(feature_pairs):\n",
    "    plt.figure(figsize=(6, 4))\n",
    "\n",
    "\n",
    "    sns.scatterplot(\n",
    "        data=df,\n",
    "        x=x_feat,\n",
    "        y=y_feat,\n",
    "        hue='Personal Loan',\n",
    "        palette={0: 'blue', 1: 'red'},\n",
    "        alpha=0.6,\n",
    "        s=40\n",
    "    )\n",
    "\n",
    "    plt.title(f'Scatter Plot: {x_feat} vs {y_feat}', fontsize=14, color=plot_colors[idx])\n",
    "    plt.xlabel(x_feat)\n",
    "    plt.ylabel(y_feat)\n",
    "    plt.grid(True, linestyle='--', alpha=0.5)\n",
    "\n",
    "    legend = plt.legend(\n",
    "        title='Personal Loan',\n",
    "        loc='best',\n",
    "        fontsize=9,\n",
    "        title_fontsize=10,\n",
    "        fancybox=True,\n",
    "        frameon=True,\n",
    "        edgecolor='black',\n",
    "        framealpha=0.9\n",
    "    )\n",
    "\n",
    "    legend.get_frame().set_linewidth(1.5)\n",
    "    legend.get_frame().set_facecolor('#f9f9f9')\n",
    "\n",
    "    plt.tight_layout()\n",
    "    plt.show()"
   ]
  },
  {
   "cell_type": "raw",
   "id": "f00a860f-221b-49f1-b62e-5b5108e5d6fe",
   "metadata": {
    "id": "f00a860f-221b-49f1-b62e-5b5108e5d6fe"
   },
   "source": [
    "📊 Scatter Plot: Age vs Experience (with Personal Loan coloring)\n",
    "\n",
    "Legend:\n",
    " • Blue dots (0) → Customers who did not take a personal loan\n",
    " • Red dots (1) → Customers who did take a personal loan\n",
    "\n",
    "⸻\n",
    "\n",
    "🔍 Analysis:\n",
    " 1. Strong Linear Relationship Between Age and Experience\n",
    " • Most points lie on a straight upward diagonal line, indicating a strong positive correlation between Age and Experience.\n",
    " • This is expected since, generally, older individuals have more work experience.\n",
    " 2. Loan Distribution (Red Dots) is Higher with Age and Experience\n",
    " • As you move to the right (older customers), there is an increase in red dots, suggesting that older and more experienced people are more likely to take personal loans.\n",
    " 3. Very Few Loans Among Younger People\n",
    " • On the left side of the chart (under age ~30), almost all dots are blue, indicating that younger people rarely get approved for or request personal loans.\n",
    "\n",
    "⸻\n",
    "\n",
    "✅ Conclusion:\n",
    " • Age and Experience are both highly correlated and likely strong predictors of whether a person takes a personal loan.\n",
    "\n",
    "2.Age vs Income\n",
    "\n",
    "📊 Income is spread across all ages.\n",
    "🔴 Seen more in higher incomes, not a specific age.\n",
    "\n",
    "✅ Conclusion: Income is more important than age.\n",
    "\n",
    "3.Age vs CCAvg\n",
    "There is no clear pattern between age and credit card usage.\n",
    "That is, at all ages (from 20 to 65 years old), the amount of CCAvg (credit card spending) is almost randomly distributed.\n",
    "2. People with high usage (high CCAvg) are seen at both young and old ages.\n",
    "For example, even people around 25 or 30 years old may have high CCAvg.\n",
    "3. The color red (meaning they have taken out a loan) is more often seen in people with high CCAvg, not necessarily a specific age.\n",
    "\n",
    "🔍 4.Scatter Plot: Age vs Mortgage\n",
    " • X-axis: Age\n",
    " • Y-axis: Mortgage amount\n",
    " • Red dots: Customers who accepted a Personal Loan\n",
    " • Blue dots: Customers who did not accept a Personal Loan\n",
    "\n",
    "⸻\n",
    "\n",
    "✅ Analysis:\n",
    " 1. No strong linear relationship between Age and Mortgage:\n",
    " • Across all ages (from ~25 to 65), people appear with both low and high mortgage values.\n",
    " • So, mortgage amount is not strictly tied to someone’s age.\n",
    " 2. More concentration of mortgage in ages between 30 and 50:\n",
    " • Most of the data points (both red and blue) are concentrated in this age range, meaning that customers in this range tend to hold mortgages more frequently.\n",
    " 3. Red dots (loan takers) are more present at higher mortgage levels:\n",
    " • Customers with higher mortgage values are more likely to have taken a personal loan.\n",
    " • This suggests a possible positive association between having a mortgage and accepting a personal loan.\n",
    "\n",
    "\n",
    " 📊 Scatter Plot: Experience vs Income (with Personal Loan coloring)\n",
    "\n",
    "Legend:\n",
    " • Blue dots (0) → No personal loan\n",
    " • Red dots (1) → Took personal loan\n",
    "\n",
    "⸻\n",
    "\n",
    "🔍 Analysis:\n",
    " 1. No Clear Linear Relationship\n",
    " • The dots are scattered randomly, meaning there is no strong correlation between Experience and Income in this dataset.\n",
    " • People with similar experience can have very different incomes.\n",
    " 2. Red Dots Increase with Higher Income\n",
    " • In the higher-income range (above ~$100K), there are more red dots visible.\n",
    " • This suggests that people with higher income are more likely to take personal loans.\n",
    " 3. Lower Income → Fewer Personal Loans\n",
    " • In the lower part of the income range (under ~$50K), most dots are blue, indicating low loan approval or request in this group.\n",
    " 4. Experience Has Less Impact on Loan Decision\n",
    " • Since red and blue dots are mixed across all experience levels, experience alone doesn’t determine whether someone takes a loan — it’s income that matters more here.\n",
    "\n",
    "⸻\n",
    "\n",
    "✅ Conclusion:\n",
    " • Income is a more useful predictor for personal loan status than experience.\n",
    " • Experience may not add much value in isolation based on this scatter plot.\n",
    "\n",
    " 📊 Scatter Plot: Experience vs Mortgage\n",
    "\n",
    "(Red = Personal Loan = 1, Blue = No Personal Loan = 0)\n",
    "\n",
    "⸻\n",
    "\n",
    "🔍 Analysis:\n",
    " 1. Most Data Clustered at Mortgage = 0\n",
    " • A thick vertical line of both red and blue points appears at Mortgage = 0 across all experience levels.\n",
    " • This shows that a large portion of individuals do not have a mortgage regardless of experience — which is consistent with earlier findings (nearly 70% have Mortgage = 0).\n",
    " • However, blue points dominate here — many of those without a mortgage are not loan takers.\n",
    " 2. Loan Takers Increase with Mortgage\n",
    " • As mortgage values increase, the proportion of red points increases (especially in the 100–300 range).\n",
    " • Suggests that people who already have mortgages are more likely to also take personal loans — possibly due to higher financial responsibilities or access to more credit.\n",
    " 3. Experience Doesn’t Provide Clear Separation\n",
    " • Similar to the previous plot, experience is spread across the board without a strong pattern.\n",
    " • No sharp cutoff where experience predicts loan-taking behavior.\n",
    " • So again, experience alone is not a strong predictor.\n",
    "\n",
    "⸻\n",
    "\n",
    "✅ Conclusion:\n",
    " • Mortgage is a useful feature in predicting personal loan status, especially distinguishing higher mortgage holders.\n",
    " • Experience, on its own, does not significantly contribute to separating loan vs. non-loan cases.\n",
    "\n",
    " 📊 Scatter Plot: Experience vs CCAvg\n",
    "\n",
    "(Red = Personal Loan = 1, Blue = No Personal Loan = 0)\n",
    "\n",
    "⸻\n",
    "\n",
    "🔍 Analysis:\n",
    " 1. Heavy Clustering at Low Credit Card Usage\n",
    " • A very dense cluster of blue points (non-loan-takers) appears at low or zero CCAvg (credit card average spending), across various experience levels.\n",
    " • Indicates that individuals not using credit cards much are also less likely to take personal loans.\n",
    " 2. Loan Takers Tend to Have Higher CCAvg\n",
    " • Red points are more visible as CCAvg increases.\n",
    " • This suggests that those who use credit cards more actively (possibly indicating comfort with debt or higher purchasing power) are more likely to also take out loans.\n",
    " 3. Experience Doesn’t Show Strong Separation Alone\n",
    " • Across all experience levels, both red and blue dots appear.\n",
    " • So experience alone doesn’t clearly distinguish between loan takers and non-takers — it’s not a strong standalone predictor in this plot.\n",
    " 4. Outliers in CCAvg\n",
    " • Some red points at very high CCAvg values (~6+) are evident — likely high spenders and more confident borrowers.\n",
    " • These might be strong candidates for targeted marketing or credit offers.\n",
    "\n",
    "⸻\n",
    "\n",
    "✅ Conclusion:\n",
    " • CCAvg is a strong signal — especially at higher values, it correlates well with Personal Loan acceptance.\n",
    " • Experience, in contrast, seems to have little predictive value on its own, though it may still play a supporting role when combined with income or age.\n",
    "\n",
    "\n",
    "📊 Scatter Plot: Income vs Mortgage\n",
    "\n",
    "(Red = Personal Loan = 1, Blue = No Personal Loan = 0)\n",
    "\n",
    "⸻\n",
    "\n",
    "🔍 Analysis:\n",
    " 1. Mortgage = 0 Still Dominates\n",
    " • Just like before, there’s a dense vertical line at Mortgage = 0, meaning many individuals have no mortgage.\n",
    " • Among them, most are blue → they did not take a personal loan.\n",
    " • However, some red points exist → so not all loan-takers have a mortgage.\n",
    " 2. Loan Takers Cluster with Higher Income and Mortgage\n",
    " • As we move right and up (higher income & higher mortgage), the red points become denser.\n",
    " • That means people with higher income and existing mortgages are more likely to take personal loans.\n",
    " 3. No Personal Loan at High Income Without Mortgage\n",
    " • Interestingly, at high income but mortgage = 0, there are very few or no red dots.\n",
    " • Possibly because those people don’t need personal loans — they have income but no mortgage obligations.\n",
    " 4. Strong Interaction Between Income and Mortgage\n",
    " • This scatter plot clearly shows a relationship: people with both high income and mortgage are much more likely to take loans.\n",
    " • Suggests a feature interaction: Mortgage × Income could be useful as a new variable in your model.\n",
    "\n",
    "⸻\n",
    "\n",
    "✅ Conclusion:\n",
    " • Both Income and Mortgage are strong predictors.\n",
    " • Their combination is even more informative — consider creating an interaction feature.\n",
    " • This plot offers a clear separation between classes compared to others so far.\n",
    "\n",
    "\n",
    " 📊 Scatter Plot: Income vs CCAvg (Credit Card Average Spending)\n",
    "\n",
    "(With Personal Loan status: red = 1, blue = 0)\n",
    "\n",
    "⸻\n",
    "\n",
    "🔍 Analysis:\n",
    " 1. Strong Positive Correlation\n",
    " • There is a clear upward trend: as income increases, the credit card average spending (CCAvg) also increases.\n",
    " • This is expected — people with more income tend to spend more using credit cards.\n",
    " 2. Red Dots Cluster in Upper Ranges\n",
    " • Most red dots (loan takers) appear in the upper-right section, where both income and CCAvg are high.\n",
    " • This suggests that customers with high income and high spending are more likely to take (or be approved for) personal loans.\n",
    " 3. Dense Blue Cluster in Low Range\n",
    " • The bottom-left region (low income and low CCAvg) is filled with blue dots, meaning people in this group mostly didn’t take loans.\n",
    " 4. Outliers\n",
    " • There are a few dots with very high CCAvg (around 10), which might be outliers and should be checked during data cleaning.\n",
    "\n",
    "⸻\n",
    "\n",
    "✅ Conclusion:\n",
    " • Both income and CCAvg are good predictors of personal loan.\n",
    " • High-income, high-spending customers are more likely to be targeted or accepted for loans.\n",
    " • This plot reveals a clear pattern useful for classification modeling.\n",
    "\n",
    " 📊 Scatter Plot: CCAvg vs Mortgage\n",
    "\n",
    "(Red = Personal Loan = 1, Blue = No Personal Loan = 0)\n",
    "\n",
    "⸻\n",
    "\n",
    "\n",
    "🔍 Analysis:\n",
    " 1. Dominant Cluster at (0, 0)\n",
    " • A huge number of blue dots are concentrated at CCAvg = 0 and Mortgage = 0.\n",
    " • This means many users have no average monthly credit card spending and no mortgage — and they did not take personal loans.\n",
    " 2. Loan Takers Have Higher CCAvg and Mortgage\n",
    " • As we move right (higher CCAvg) and up (higher mortgage), red points increase.\n",
    " • Indicates that users with active credit card usage and mortgages are more likely to take a personal loan.\n",
    " 3. Outliers Exist at High CCAvg or Mortgage\n",
    " • Some individuals have very high credit card spending, even when their mortgage is low — and many of these are red, showing high loan demand.\n",
    " • Similarly, a few with high mortgages and low CCAvg also took loans.\n",
    " 4. Sparse Blue Dots in Top Right\n",
    " • In the upper-right region (high CCAvg and mortgage), red dominates → people with higher financial obligations tend to accept personal loans.\n",
    "\n",
    "⸻\n",
    "\n",
    "✅ Conclusion:\n",
    " • CCAvg and Mortgage have strong predictive power.\n",
    " • People with no credit card usage and no mortgage rarely take loans.\n",
    " • A potential interaction feature (CCAvg × Mortgage) may help your model learn this relationship more explicitly"
   ]
  },
  {
   "cell_type": "code",
   "execution_count": null,
   "id": "3b54fac7-01ac-460e-9787-d8aff13a11e3",
   "metadata": {
    "colab": {
     "base_uri": "https://localhost:8080/",
     "height": 542
    },
    "id": "3b54fac7-01ac-460e-9787-d8aff13a11e3",
    "outputId": "1e3ceaba-cb2a-43bf-9e26-0fbf1ca00806"
   },
   "outputs": [],
   "source": [
    "plt = px.scatter(df, x=\"Age\", y=\"Income\",size=\"CCAvg\", color =\"Personal Loan\",size_max=20,color_continuous_scale=\"Plasma\",hover_data=df[['Education']],template = 'plotly_white')\n",
    "plt.show()"
   ]
  },
  {
   "cell_type": "markdown",
   "id": "74947b18-d822-4687-8f53-a7c26a9b76e2",
   "metadata": {
    "id": "74947b18-d822-4687-8f53-a7c26a9b76e2"
   },
   "source": [
    "Customers with higher income, are more likely to receive a loan"
   ]
  },
  {
   "cell_type": "code",
   "execution_count": null,
   "id": "b5e29a1f-1eb8-4d00-abed-b80d80c6feae",
   "metadata": {
    "colab": {
     "base_uri": "https://localhost:8080/",
     "height": 285
    },
    "id": "b5e29a1f-1eb8-4d00-abed-b80d80c6feae",
    "outputId": "53695404-b0e4-465f-cbfa-1494d8dc4f0f"
   },
   "outputs": [],
   "source": [
    "import matplotlib.pyplot as plt\n",
    "plt.figure(figsize = (12,3))\n",
    "plt.scatter(x=df['ZIP Code'],y=df['Personal Loan'],c=\"firebrick\")\n",
    "plt.annotate('maybe noise',xy=(9307,0),xytext=(15000,.4),arrowprops=dict(facecolor=\"red\",shrink=3))\n",
    "plt.grid()\n",
    "plt.xlabel('ZIP Code')\n",
    "plt.ylabel('Personal Loan')\n"
   ]
  },
  {
   "cell_type": "code",
   "execution_count": null,
   "id": "e455450c-10bc-4f3a-8d51-2ef84b78b593",
   "metadata": {
    "colab": {
     "base_uri": "https://localhost:8080/",
     "height": 118
    },
    "id": "e455450c-10bc-4f3a-8d51-2ef84b78b593",
    "outputId": "d560998a-542f-4242-bad0-907aa6f98be6"
   },
   "outputs": [],
   "source": [
    "noise=df[(df['ZIP Code']<20000) & (df['Personal Loan']<.2)]\n",
    "noise\n"
   ]
  },
  {
   "cell_type": "code",
   "execution_count": null,
   "id": "ae123c8f-9f9e-4186-893f-aa3596f84d3e",
   "metadata": {
    "colab": {
     "base_uri": "https://localhost:8080/",
     "height": 287
    },
    "id": "ae123c8f-9f9e-4186-893f-aa3596f84d3e",
    "outputId": "1d21c13e-ca83-4990-90c7-5c052bafbf1f"
   },
   "outputs": [],
   "source": [
    "df.drop(index=[384],inplace=True)"
   ]
  },
  {
   "cell_type": "raw",
   "id": "f52edb14-6831-4599-9a2c-6e7745e77213",
   "metadata": {
    "id": "f52edb14-6831-4599-9a2c-6e7745e77213"
   },
   "source": [
    "• One specific point had a ZIP Code of 9307, which is unusually low, since ZIP Codes in most countries (e.g. the US) are typically 5-digit numbers starting from around 10000.\n",
    " • Additionally, the Personal Loan value for that entry is 0, meaning no loan was taken.\n",
    "\n",
    "Based on these two facts:\n",
    "\n",
    " • ZIP Code < 20000\n",
    " • Personal Loan ≈ 0\n",
    "\n",
    "That point was marked as “maybe noise” because:\n",
    " • The ZIP Code seems invalid or not in the same range as the others.\n",
    " • Its loan status doesn’t contribute useful information.\n",
    "\n",
    "✅ Conclusion:\n",
    "\n",
    "This entry was flagged as potential noise and was removed from the dataset to improve data quality and prevent it from negatively affecting model training or visualization"
   ]
  },
  {
   "cell_type": "code",
   "execution_count": null,
   "id": "52e00788-d98a-46fd-a910-2c0ad7679e2a",
   "metadata": {
    "colab": {
     "base_uri": "https://localhost:8080/",
     "height": 1000
    },
    "id": "52e00788-d98a-46fd-a910-2c0ad7679e2a",
    "outputId": "77e13af9-36cf-4554-eff9-359f76404369"
   },
   "outputs": [],
   "source": [
    "# List of numerical features\n",
    "numerical_cols = ['Age', 'Experience', 'Income', 'CCAvg', 'Mortgage']\n",
    "\n",
    "# Loop through each numerical feature and plot KDE (Density Plot)\n",
    "for col in numerical_cols:\n",
    "    plt.figure(figsize=(8, 4))\n",
    "    sns.kdeplot(\n",
    "        data=df,\n",
    "        x=col,\n",
    "        hue='Personal Loan',\n",
    "        fill=True,\n",
    "        alpha=0.7,          # Less transparency = more bold color\n",
    "        linewidth=2,\n",
    "        clip=(0, df[col].max()) # Thicker line\n",
    "    )\n",
    "    plt.title(f'Density Plot of {col} by Personal Loan Status')\n",
    "    plt.xlabel(col)\n",
    "    plt.ylabel('Density')\n",
    "    plt.tight_layout()\n",
    "    plt.show()"
   ]
  },
  {
   "cell_type": "raw",
   "id": "8ce3fda8-15dd-459f-b9fb-757f03ba0f5b",
   "metadata": {
    "id": "8ce3fda8-15dd-459f-b9fb-757f03ba0f5b"
   },
   "source": [
    "📊 1. Age\n",
    " • People without a personal loan (0) show a relatively uniform age distribution between 30 and 65.\n",
    " • Those with a loan (1) have lower density overall, mostly concentrated between ages 30 and 55.\n",
    " • 🔎 Insight: Age may have some predictive power, but the difference between the two groups is not very strong.\n",
    "\n",
    "⸻\n",
    "\n",
    "📊 2. Experience\n",
    " • Most values range from 0 to 40 years of experience.\n",
    " • Loan receivers have a peak between 10 and 30 years of experience.\n",
    "📊 3. Income\n",
    " • People with a personal loan tend to have higher income, peaking above 100.\n",
    " • Those without loans have income mostly concentrated between 30 and 70.\n",
    " • 🔎 Insight: Income clearly plays a significant role in whether a person is likely to get a loan.\n",
    "\n",
    "⸻\n",
    "\n",
    "📊 4. CCAvg (Credit Card Average Spending)\n",
    " • Most users have very low credit card usage (0–2 range).\n",
    " • Those with a loan show broader usage and higher spending values.\n",
    " • 🔎 Insight: Higher average card usage correlates with personal loan approval — this feature could be predictive.\n",
    "\n",
    "⸻\n",
    "\n",
    "📊 5. Mortgage\n",
    " • Most users — especially those without a loan — have very low or zero mortgage amounts.\n",
    " • Loan receivers show more spread in mortgage amounts (up to ~600), but still low density overall.\n",
    " • 🔎 Insight: This feature may be weakly predictive on its own, but still worth keeping in your model\n",
    "\n",
    " ✅ Overall Results:\n",
    "1. Income:\n",
    "People who borrowed usually had higher incomes.\n",
    "2. Average Credit Card Usage (CCAvg):\n",
    "Credit card usage was higher among borrowers.\n",
    "3. Mortgage:\n",
    "No significant difference between the two groups; dispersion is greater.\n",
    "4. Age and Experience:\n",
    "There is not much difference between the two groups, but borrowers are mostly in the middle age range"
   ]
  },
  {
   "cell_type": "code",
   "execution_count": null,
   "id": "269a9ec2-ca64-4331-9260-682d68c868d9",
   "metadata": {
    "colab": {
     "base_uri": "https://localhost:8080/",
     "height": 829
    },
    "id": "269a9ec2-ca64-4331-9260-682d68c868d9",
    "outputId": "d36a6411-4619-48c6-f183-9515519325c2"
   },
   "outputs": [],
   "source": [
    "palette_magma = sns.color_palette(\"magma\", as_cmap=False, n_colors=2)\n",
    "custom_palette = {0: palette_magma[0], 1: palette_magma[1]}\n",
    "sns.pairplot(data=df, diag_kind='kde', hue='Personal Loan',palette=custom_palette)\n",
    "plt.show()"
   ]
  },
  {
   "cell_type": "markdown",
   "id": "43f8ec67-f5a6-4116-86d9-c39dd533e40e",
   "metadata": {
    "id": "43f8ec67-f5a6-4116-86d9-c39dd533e40e"
   },
   "source": [
    "This chart helps us understand which numerical features are useful for distinguishing between customers who took a loan and those who didn’t. It reveals patterns, relationships, and outliers that are important for building an effective prediction model"
   ]
  },
  {
   "cell_type": "code",
   "execution_count": null,
   "id": "f4cd8181-167e-4b6d-9bff-a58c798f55d9",
   "metadata": {
    "colab": {
     "base_uri": "https://localhost:8080/",
     "height": 656
    },
    "id": "f4cd8181-167e-4b6d-9bff-a58c798f55d9",
    "outputId": "7f2ea944-b6ed-453a-bd2e-13ff0bbf3f97"
   },
   "outputs": [],
   "source": [
    "# Create 2x2 subplots\n",
    "fig, axes = plt.subplots(2, 2, figsize=(16, 12))\n",
    "\n",
    "# Plot 1\n",
    "sns.kdeplot(\n",
    "    data=df, x='Age', y='Income', hue='Personal Loan',fontsize=24,color=\"red\",\n",
    "    fill=True, multiple='fill', alpha=0.8, palette='coolwarm', ax=axes[0, 0]\n",
    ")\n",
    "axes[0, 0].set_title('Age vs Income', fontsize=18,color=\"blue\")\n",
    "axes[0, 0].set_xlabel('Age', fontsize=18,color=\"red\")\n",
    "axes[0, 0].set_ylabel('Income', fontsize=18,color=\"purple\")\n",
    "axes[0, 0].tick_params(axis='both', labelsize=20)\n",
    "\n",
    "# Plot 2\n",
    "sns.kdeplot(\n",
    "    data=df, x='Income', y='CCAvg', hue='Personal Loan',\n",
    "    fill=True, multiple='fill', alpha=0.6, palette='coolwarm', ax=axes[0, 1]\n",
    ")\n",
    "axes[0, 1].set_title('Income vs CCAvg', fontsize=18,color=\"blue\")\n",
    "axes[0, 1].set_xlabel('Income', fontsize=18,color=\"red\")\n",
    "axes[0, 1].set_ylabel('CCAvg', fontsize=18,color=\"purple\")\n",
    "axes[0, 1].tick_params(axis='both', labelsize=20)\n",
    "\n",
    "# Plot 3\n",
    "sns.kdeplot(\n",
    "    data=df, x='Age', y='Experience', hue='Personal Loan',\n",
    "    fill=True, multiple='fill', alpha=0.6, palette='coolwarm', ax=axes[1, 0]\n",
    ")\n",
    "axes[1, 0].set_title('Age vs Experience', fontsize=18,color=\"blue\")\n",
    "axes[1, 0].set_xlabel('Age', fontsize=18,color=\"red\")\n",
    "axes[1, 0].set_ylabel('Experience', fontsize=18,color=\"purple\")\n",
    "axes[1, 0].tick_params(axis='both', labelsize=20)\n",
    "\n",
    "# Plot 4\n",
    "sns.kdeplot(\n",
    "    data=df, x='Mortgage', y='Income', hue='Personal Loan',\n",
    "    fill=True, multiple='fill', alpha=0.6, palette='coolwarm', ax=axes[1, 1]\n",
    ")\n",
    "axes[1, 1].set_title('Mortgage vs Income', fontsize=18,color=\"blue\")\n",
    "axes[1, 1].set_xlabel('Mortgage', fontsize=18,color=\"red\")\n",
    "axes[1, 1].set_ylabel('Income', fontsize=18,color=\"purple\")\n",
    "axes[1, 1].tick_params(axis='both', labelsize=20)\n",
    "\n",
    "# Adjust legend font size\n",
    "for ax in axes.flat:\n",
    "    leg = ax.get_legend()\n",
    "    if leg:\n",
    "\n",
    "        for text in leg.get_texts():\n",
    "            text.set_fontsize(20)\n",
    "\n",
    "\n",
    "plt.tight_layout()\n",
    "plt.show()"
   ]
  },
  {
   "cell_type": "raw",
   "id": "61bdfab4-2266-49d1-8147-375262b69812",
   "metadata": {
    "id": "61bdfab4-2266-49d1-8147-375262b69812",
    "vscode": {
     "languageId": "raw"
    }
   },
   "source": [
    "1. Age vs Income\n",
    "• It is observed that most borrowers (code 1, red area) are older and have higher incomes.\n",
    "• In contrast, people without loans (code 0, blue area) are more dispersed in age and lower incomes.\n",
    "• This means that the probability of getting a loan increases with age and income.\n",
    "\n",
    "⸻\n",
    "\n",
    "2. Income vs CCAvg (average credit card cost)\n",
    "• The color density is higher for borrowers with higher incomes and higher card usage.\n",
    "• People who have not taken out loans often have lower credit card usage and lower incomes.\n",
    "• It shows that the bank tends to lend to people with more active financial behavior (high card usage) and high incomes.\n",
    "\n",
    "⸻\n",
    "\n",
    "\n",
    "3. Age vs Experience\n",
    "• There is an almost perfect linear relationship between age and work experience (as expected).\n",
    "• But again, the difference in color density shows that borrowers tend to have more work experience.\n",
    "• It can be concluded that high experience is also an effective factor in loan approval.\n",
    "\n",
    "⸻\n",
    "\n",
    "4. Mortgage vs Income\n",
    "• People who have both a loan and a mortgage are often in a higher income level.\n",
    "• In contrast, people with lower incomes tend to not have a mortgage and also have received fewer personal loans.\n",
    "• This positive correlation between high income and receiving various loans is evident.\n",
    "\n",
    "⸻\n",
    "\n",
    "Overall summary:\n",
    "• Borrowers tend to:\n",
    "• Be older and have more work experience\n",
    "• Have higher income\n",
    "• Use more credit cards\n",
    "• Are more likely to have a mortgage"
   ]
  },
  {
   "cell_type": "code",
   "execution_count": null,
   "id": "0f1d906b-4ae9-4054-92d6-b25483576990",
   "metadata": {
    "colab": {
     "base_uri": "https://localhost:8080/",
     "height": 449
    },
    "id": "0f1d906b-4ae9-4054-92d6-b25483576990",
    "outputId": "ffa3938e-34a5-476f-d52d-fbbe47bcc124"
   },
   "outputs": [],
   "source": [
    "nums=[\"Age\",\"Experience\",\"Income\",\"CCAvg\",\"Mortgage\",\"ZIP Code\"]\n",
    "fig=plt.figure(figsize=(20,10))\n",
    "for i,col in enumerate(nums):\n",
    "    ax=fig.add_subplot(2,3,i+1)\n",
    "    ax1=sns.distplot(df[col][df['Personal Loan']==0],hist=False, kde=True, label='No Personal Lone',color='purple')\n",
    "    sns.distplot(df[col][df['Personal Loan']==1],hist=False, kde=True , ax=ax1,label='Personal Lone',color='red')\n",
    "    ax.set_xlabel(col, fontsize=18,color=\"red\")\n",
    "    ax.set_ylabel(\"Density\", fontsize=18,color=\"purple\")\n",
    "    ax.legend(fontsize=16)"
   ]
  },
  {
   "cell_type": "raw",
   "id": "24b7e783-fa66-4fb1-93a0-61cc04fc00bd",
   "metadata": {
    "id": "24b7e783-fa66-4fb1-93a0-61cc04fc00bd"
   },
   "source": [
    "� Analyze each graph:\n",
    "\n",
    "1.\n",
    "Age\n",
    "\n",
    "• Both groups have a similar distribution.\n",
    "• There is a slightly higher tendency to borrow in people around 30 to 50 years old.\n",
    "\n",
    "2.\n",
    "Experience\n",
    "\n",
    "• Because the Experience variable is strongly dependent on Age, its shape is similar to Age.\n",
    "• There is no noticeable difference in experience between the two groups.\n",
    "\n",
    "3.\n",
    "Income\n",
    "\n",
    "• People with higher incomes have borrowed more.\n",
    "• The distribution for those who have borrowed (orange/red) is concentrated at higher Income values.\n",
    "\n",
    "4.\n",
    "CCAvg (average credit card balance)\n",
    "\n",
    "• People with higher CCAvg values are more likely to have borrowed.\n",
    "• Those who have not borrowed tend to have lower card balances.\n",
    "\n",
    "5.\n",
    "Mortgage\n",
    "\n",
    "• The distribution is very low density and skewed.\n",
    "• People with high mortgages are more likely to take out personal loans.\n",
    "\n",
    "6.\n",
    "ZIP Code\n",
    "\n",
    "• ZIP Code is a location data; it doesn’t have a specific chart.\n",
    "\n",
    "• But borrowing is probably more common in some areas.\n",
    "\n",
    "✨ Overall Conclusion:\n",
    "\n",
    "• Characteristics such as Income, Average Credit Card Balance (CCAvg), and Mortgage play the largest role in the difference between borrowers and non-borrowers.\n",
    "\n",
    "• Age and experience have little or no impact"
   ]
  },
  {
   "cell_type": "code",
   "execution_count": null,
   "id": "ad0f4037-71f6-44ac-a1ea-7ecab405e50d",
   "metadata": {
    "colab": {
     "base_uri": "https://localhost:8080/",
     "height": 296
    },
    "id": "ad0f4037-71f6-44ac-a1ea-7ecab405e50d",
    "outputId": "3af65da6-2f0e-450e-fff9-2148ef4a34bd"
   },
   "outputs": [],
   "source": [
    "import numpy as np\n",
    "import matplotlib.pyplot as plt\n",
    "from scipy.stats import norm, skewnorm\n",
    "\n",
    "#\n",
    "plt.figure(figsize=(15, 5))\n",
    "\n",
    "# 1.negative skew\n",
    "plt.subplot(1, 3, 1)\n",
    "data_neg = skewnorm.rvs(a=-8, loc=0, scale=1, size=1000)\n",
    "plt.hist(data_neg, bins=30, density=True, alpha=0.6, color='skyblue')\n",
    "xmin, xmax = plt.xlim()\n",
    "x = np.linspace(xmin, xmax, 100)\n",
    "p = norm.pdf(x, np.mean(data_neg), np.std(data_neg))\n",
    "plt.plot(x, p, 'k', linewidth=2)\n",
    "plt.title('Negatively Skewed',fontsize=18,color=\"blue\")\n",
    "plt.xlabel('X',fontsize=14,color=\"red\")\n",
    "plt.ylabel('Frequency',fontsize=14,color=\"purple\")\n",
    "\n",
    "# 2. normal distribution\n",
    "plt.subplot(1, 3, 2)\n",
    "data_norm = np.random.normal(loc=0, scale=1, size=1000)\n",
    "plt.hist(data_norm, bins=30, density=True, alpha=0.6, color='lightgreen')\n",
    "xmin, xmax = plt.xlim()\n",
    "x = np.linspace(xmin, xmax, 100)\n",
    "p = norm.pdf(x, np.mean(data_norm), np.std(data_norm))\n",
    "plt.plot(x, p, 'k', linewidth=2)\n",
    "plt.title('Normal Distribution',fontsize=18,color=\"blue\")\n",
    "plt.xlabel('X',fontsize=14,color=\"red\")\n",
    "plt.ylabel('Frequency',fontsize=14,color=\"purple\")\n",
    "\n",
    "# 3. positive skew\n",
    "plt.subplot(1, 3, 3)\n",
    "data_pos = skewnorm.rvs(a=8, loc=0, scale=1, size=1000)\n",
    "plt.hist(data_pos, bins=30, density=True, alpha=0.6, color='salmon')\n",
    "xmin, xmax = plt.xlim()\n",
    "x = np.linspace(xmin, xmax, 100)\n",
    "p = norm.pdf(x, np.mean(data_pos), np.std(data_pos))\n",
    "plt.plot(x, p, 'k', linewidth=2)\n",
    "plt.title('Positively Skewed',fontsize=18,color=\"blue\")\n",
    "plt.xlabel('X',fontsize=14,color=\"red\")\n",
    "plt.ylabel('Frequency',fontsize=14,color=\"purple\")\n",
    "\n",
    "plt.tight_layout()\n",
    "plt.show()"
   ]
  },
  {
   "cell_type": "code",
   "execution_count": null,
   "id": "88301269-45cf-4d19-b954-3616994b4c0a",
   "metadata": {
    "id": "88301269-45cf-4d19-b954-3616994b4c0a"
   },
   "outputs": [],
   "source": [
    "for col in df.columns:\n",
    "    df[col] = pd.to_numeric(df[col], errors='coerce')\n",
    "\n",
    "    "
   ]
  },
  {
   "cell_type": "code",
   "execution_count": null,
   "id": "66fed5da-5c58-4aec-ad33-0f8d8dfcadcd",
   "metadata": {
    "colab": {
     "base_uri": "https://localhost:8080/",
     "height": 523
    },
    "id": "66fed5da-5c58-4aec-ad33-0f8d8dfcadcd",
    "outputId": "f77b4d32-37d8-4568-ee64-e9c7b3c362c6"
   },
   "outputs": [],
   "source": [
    "# measure of skewness\n",
    "df.skew(axis = 0, skipna = True)"
   ]
  },
  {
   "cell_type": "raw",
   "id": "83d46545-1b70-4bda-b8fa-949d937d8e94",
   "metadata": {
    "id": "83d46545-1b70-4bda-b8fa-949d937d8e94"
   },
   "source": [
    "✅ 1. Age = -0.029\n",
    " • 🔹 Very close to 0\n",
    " • ➤ The distribution is nearly normal (symmetric)\n",
    " • 📊 No significant skewness\n",
    "\n",
    "⸻\n",
    "\n",
    "✅ 2. Experience = -0.009\n",
    " • 🔹 Also very close to 0\n",
    " • ➤ Approximately normal distribution\n",
    "\n",
    "⸻\n",
    "\n",
    "✅ 3. Income = 0.841\n",
    " • 🔸 Positive skewness (right-skewed)\n",
    " • ➤ Most people have low to moderate income, fewer have very high income\n",
    " • 📊 Tail is longer on the right\n",
    "\n",
    "⸻\n",
    "\n",
    "✅ 4. ZIP Code = -0.296\n",
    " • 🔹 Slight negative skewness\n",
    " • ➤ Minor and can usually be ignored\n",
    "\n",
    "⸻\n",
    "\n",
    "✅ 5. Family = 0.156\n",
    " • 🔹 Mild positive skewness\n",
    " • ➤ More people have smaller families (1–2), fewer have large ones\n",
    "\n",
    "⸻\n",
    "\n",
    "✅ 6. CCAvg = 1.598\n",
    " • 🔸 Strong positive skewness\n",
    " • ➤ Most people spend low amounts on credit cards; a few spend a lot\n",
    " • 📊 Right tail is extended\n",
    "\n",
    "⸻\n",
    "\n",
    "✅ 7. Education = 0.227\n",
    " • 🔹 Mild positive skewness\n",
    " • ➤ More people have lower levels of education; fewer have high degrees\n",
    "\n",
    "⸻\n",
    "\n",
    "✅ 8. Mortgage = 2.103\n",
    " • 🔸 High positive skewness\n",
    " • ➤ Most people have no or small mortgages; few have large ones\n",
    "\n",
    "⸻\n",
    "\n",
    "✅ 9. Personal Loan = 2.743\n",
    " • 🔸 Very high positive skewness\n",
    " • ➤ Majority did not take personal loans (0); only few did (1)\n",
    " • 📊 Highly imbalanced binary variable\n",
    "\n",
    "⸻\n",
    "\n",
    "✅ 10. Securities Account = 2.588\n",
    " • 🔸 Strong positive skewness\n",
    " • ➤ Most customers do not hold a securities account\n",
    "\n",
    "⸻\n",
    "\n",
    "✅ 11. CD Account = 3.691\n",
    " • 🔸 Extremely positive skewness\n",
    " • ➤ Almost everyone doesn’t have a CD account\n",
    "\n",
    "⸻\n",
    "\n",
    "✅ 12. Online = -0.394\n",
    " • 🔸 Negative skewness (left-skewed)\n",
    " • ➤ Most customers use online banking; fewer do not\n",
    " • 📊 Tail is longer on the left\n",
    "\n",
    "⸻\n",
    "\n",
    "✅ 13. CreditCard = 0.905\n",
    " • 🔸 Positive skewness\n",
    " • ➤ Many don’t have a credit card; fewer do\n",
    "\n",
    "⸻\n",
    "\n",
    "Summary Table:\n",
    "\n",
    "Skewness Type Features\n",
    "✅ Normal Age, Experience\n",
    "➕ Positive Skew Income, Family, CCAvg, Education, Mortgage, Personal Loan, Securities Account, CD Account, CreditCard\n",
    "➖ Negative Skew Online\n",
    "⚠ Slight Left Skew ZIP Code"
   ]
  },
  {
   "cell_type": "code",
   "execution_count": null,
   "id": "c829cbaa-b4b0-466f-8875-f6e0808626b7",
   "metadata": {
    "colab": {
     "base_uri": "https://localhost:8080/",
     "height": 581
    },
    "id": "c829cbaa-b4b0-466f-8875-f6e0808626b7",
    "outputId": "f9510a1d-265f-4b7b-a150-24613290d292"
   },
   "outputs": [],
   "source": [
    "# Features to plot\n",
    "features = ['Age', 'Experience']\n",
    "custom_palette={0:\"royalblue\",1:\"orange\"}\n",
    "\n",
    "for col in features:\n",
    "    plt.figure(figsize=(30, 10), dpi=100)\n",
    "\n",
    "    # Countplot with hue for Personal Loan\n",
    "    sns.countplot(x=col, data=df, hue='Personal Loan', palette=custom_palette)\n",
    "\n",
    "    # Axis settings\n",
    "    plt.xlabel(col, fontsize=34)\n",
    "    plt.ylabel(f'Count of {col}', fontsize=34)\n",
    "    plt.xticks(rotation=90, fontsize=34)\n",
    "    plt.yticks(fontsize=24)\n",
    "\n",
    "    plt.grid(True)\n",
    "    plt.title(f'Distribution of {col} by Personal Loan', fontsize=34,color=\"red\")\n",
    "    plt.legend(title='Personal Loan', fontsize=22, title_fontsize=22)\n",
    "    plt.tight_layout()\n",
    "    plt.show()"
   ]
  },
  {
   "cell_type": "raw",
   "id": "fd61fd12-d14b-411e-847d-cc87d4d415c7",
   "metadata": {
    "id": "fd61fd12-d14b-411e-847d-cc87d4d415c7"
   },
   "source": [
    "📊 1. Distribution of Age by Personal Loan\n",
    "\n",
    "🔹 X-axis: Age\n",
    "\n",
    "Customer ages range from approximately 23 to 67 years.\n",
    "\n",
    "🔹 Y-axis: Count of customers\n",
    "\n",
    "🔹 Colors:\n",
    " • Blue (royalblue) = Customers who did NOT take a personal loan.\n",
    " • Orange = Customers who DID take a personal loan.\n",
    "\n",
    "⸻\n",
    "\n",
    "✅ Detailed Insights:\n",
    " • The highest frequency of customers falls between ages 35 to 60.\n",
    " • In this same age range (35–60), we also see the highest number of personal loan takers (orange bars).\n",
    " • Customers younger than 30 or older than 65 are less frequent, and their loan uptake is very low.\n",
    "\n",
    "📌 Key Age Range for Personal Loans:\n",
    "Customers between 35 and 60 years old are most likely to take personal loans.\n",
    "This group is likely in their peak earning years and financially stable.\n",
    "\n",
    "⸻\n",
    "\n",
    "📊 2. Distribution of Experience by Personal Loan\n",
    "\n",
    "🔹 X-axis: Work Experience (in years)\n",
    "\n",
    "Ranges from about 0 to 42 years.\n",
    "\n",
    "🔹 Y-axis: Count of customers\n",
    "\n",
    "🔹 Colors:\n",
    " • Blue = No loan\n",
    " • Orange = Took a personal loan\n",
    "\n",
    "⸻\n",
    "\n",
    "✅ Detailed Insights:\n",
    " • Customers with 10 to 35 years of work experience dominate both in number and in loan-taking behavior.\n",
    " • Customers with less than 5 years or more than 38 years of experience are much less likely to take personal loans.\n",
    "\n",
    "📌 Key Experience Range for Personal Loans:\n",
    "10 to 35 years of work experience = highest likelihood of loan acceptance.\n",
    "\n",
    "⸻\n",
    "\n",
    "🧠 Overall Summary:\n",
    "\n",
    "Feature High Loan-Taking Range\n",
    "Age 35 to 60 years\n",
    "Experience 10 to 35 years"
   ]
  },
  {
   "cell_type": "code",
   "execution_count": null,
   "id": "3ec0de42-8cd0-4b54-a08f-251456df7c34",
   "metadata": {
    "colab": {
     "base_uri": "https://localhost:8080/",
     "height": 300
    },
    "id": "3ec0de42-8cd0-4b54-a08f-251456df7c34",
    "outputId": "05d6c672-4b21-4707-8f54-49bb1d4ac4e0"
   },
   "outputs": [],
   "source": [
    "\n",
    "df['Income_bin'] = pd.cut(df['Income'], bins=20)\n",
    "\n",
    "plt.figure(figsize=(30, 10), dpi=100)\n",
    "sns.countplot(x='Income_bin', data=df, hue='Personal Loan', palette={0: 'royalblue', 1: 'orange'})\n",
    "\n",
    "plt.xlabel('Income Range', fontsize=34)\n",
    "plt.ylabel('Count', fontsize=34)\n",
    "plt.xticks(rotation=45, fontsize=34)\n",
    "plt.yticks(fontsize=34)\n",
    "plt.title('Distribution of Income by Personal Loan (Binned)', fontsize=38,color=\"orange\")\n",
    "plt.legend(title='Personal Loan', fontsize=20, title_fontsize=20)\n",
    "plt.grid(True)\n",
    "plt.tight_layout()\n",
    "plt.show()"
   ]
  },
  {
   "cell_type": "markdown",
   "id": "730daa0f-c75d-474d-80db-5241b2c2749d",
   "metadata": {
    "id": "730daa0f-c75d-474d-80db-5241b2c2749d"
   },
   "source": [
    "This chart helps banks or loan marketers target their offers better:\n",
    " • They might focus on customers earning $90K–$150K since those people are more likely to accept a personal loan"
   ]
  },
  {
   "cell_type": "code",
   "execution_count": null,
   "id": "f0c87294-4a88-4974-bc81-8392b854a445",
   "metadata": {
    "colab": {
     "base_uri": "https://localhost:8080/",
     "height": 771
    },
    "id": "f0c87294-4a88-4974-bc81-8392b854a445",
    "outputId": "7b757d00-e41f-415c-99c0-7e467583ae33"
   },
   "outputs": [],
   "source": [
    "columns1 = ['Age', 'Experience', 'Income','Family', 'CCAvg',\n",
    "           'Education', 'Mortgage', 'Securities Account',\n",
    "           'CD Account', 'Online', 'CreditCard']\n",
    "df_mean = df.groupby('Personal Loan')[columns1].mean()\n",
    "df_mean.plot(kind='barh', stacked=True, figsize=(12, 10), cmap=\"gist_heat\",fontsize=24)\n",
    "\n",
    "plt.xlabel('Average',fontsize=24,color=\"orange\")\n",
    "plt.ylabel(\"personal loan\",color=\"red\",fontsize=24)\n",
    "plt.title('Average of each Feature VS Personal Loan',fontsize=34,color=\"red\")\n",
    "plt.legend(loc='lower right',fontsize=14)\n",
    "plt.show()\n"
   ]
  },
  {
   "cell_type": "markdown",
   "id": "66732237-9a84-4ca5-be00-9039e559b0b6",
   "metadata": {
    "id": "66732237-9a84-4ca5-be00-9039e559b0b6"
   },
   "source": [
    "1. Income:\n",
    "The income of those who borrowed is significantly higher. This means that the bank usually lends to those who have more.\n",
    "2. Credit Card Average Spending (CCAvg):\n",
    "This number was also for those who borrowed. So, spending more on credit cards probably indicates active financial behavior that the bank likes.\n",
    "3. CD Account:\n",
    "Those who had this account borrowed much more. This means that the bank probably considered this account as a guarantee or an important privilege.\n",
    "4. Mortgage:\n",
    "Those who had a mortgage also had the highest level of mortgages in the group of borrowers. This means that having other loans (such as a mortgage) did not prevent them from getting a personal loan. It may even have helped!\n",
    "5. Education:\n",
    "Higher education is also more common in the group of borrowers. This means that more educated people have a better chance of getting a loan"
   ]
  },
  {
   "cell_type": "raw",
   "id": "ce9a8dc3-246e-48a3-8527-271a7088223c",
   "metadata": {
    "id": "ce9a8dc3-246e-48a3-8527-271a7088223c"
   },
   "source": [
    "Those who took out loans, on average:\n",
    "• Had higher income\n",
    "• Spent more on credit cards\n",
    "• Had long-term savings accounts\n",
    "• Were more educated\n",
    "• And often had a mortgage\n",
    "\n",
    "So it can be concluded that stronger financial status and more active financial behaviors play a more important role in getting a loan than factors such as age, experience or number of family members"
   ]
  },
  {
   "cell_type": "code",
   "execution_count": null,
   "id": "2690d2e2-760b-428b-8e4f-b14b2ffac2e6",
   "metadata": {
    "colab": {
     "base_uri": "https://localhost:8080/",
     "height": 1000
    },
    "id": "2690d2e2-760b-428b-8e4f-b14b2ffac2e6",
    "outputId": "3399f9c6-dedd-4b7e-ea89-e72d6c168c46"
   },
   "outputs": [],
   "source": [
    "columns = ['Age', 'Experience', 'Income','Family', 'CCAvg',\n",
    "           'Education', 'Mortgage', 'Securities Account',\n",
    "           'CD Account', 'Online', 'CreditCard']\n",
    "palette =\"gist_heat\"\n",
    "for column in columns:\n",
    "    plt.figure(figsize=(15,2))\n",
    "\n",
    "    sns.violinplot(x=df[column], color=\"skyblue\")\n",
    "    plt.title(column,color=\"blue\",fontsize=24)\n",
    "    plt.xticks(fontsize=14,color=\"purple\")\n",
    "    plt.xlabel(column,fontsize=16,color=\"purple\")\n",
    "    plt.show()"
   ]
  },
  {
   "cell_type": "raw",
   "id": "f6139533-3e6a-4ae0-aae2-d238be295d3d",
   "metadata": {
    "id": "f6139533-3e6a-4ae0-aae2-d238be295d3d"
   },
   "source": [
    "\n",
    "✅ 1. Age:\n",
    "\n",
    "Most customers are in the 40 to 50 years old range.\n",
    "There are fewer individuals in the very young (under 30) and older (above 60) age groups.\n",
    "\n",
    "⸻\n",
    "\n",
    "✅ 2. Experience:\n",
    "\n",
    "The distribution is very similar to age.\n",
    "The majority have 15 to 30 years of work experience.\n",
    "Very low or very high experience levels are rare.\n",
    "\n",
    "⸻\n",
    "\n",
    "✅ 3. Income:\n",
    "\n",
    "Most customers earn between $50K and $150K annually.\n",
    "Very high incomes (above $200K) are rare.\n",
    "\n",
    "⸻\n",
    "\n",
    "✅ 4. Family (Household Size):\n",
    "\n",
    "There are four main groups (family sizes from 1 to 4).\n",
    "Households with 2 or 3 members are the most common.\n",
    "\n",
    "⸻\n",
    "\n",
    "✅ 5. CCAvg (Average Monthly Credit Card Spend):\n",
    "\n",
    "Most people spend between $1K and $3K per month on their credit cards.\n",
    "Spending above $5K is uncommon.\n",
    "\n",
    "⸻\n",
    "\n",
    "✅ 6. Education Level:\n",
    "\n",
    "There are three education levels.\n",
    "Customers with the highest education level (code 3) are well-represented.\n",
    "Level 1 (lower education) is also common.\n",
    "\n",
    "⸻\n",
    "\n",
    "✅ 7. Mortgage:\n",
    "\n",
    "Most customers either have no mortgage or a small mortgage.\n",
    "Only a few have large mortgage values.\n",
    "\n",
    "⸻\n",
    "\n",
    "✅ 8. Securities Account:\n",
    "\n",
    "The majority of customers do not have a securities account.\n",
    "This shows that most are not actively investing.\n",
    "\n",
    "⸻\n",
    "\n",
    "✅ 9. CD Account:\n",
    "\n",
    "Again, most customers do not have a Certificate of Deposit (CD) account.\n",
    "This suggests low usage of long-term deposit products.\n",
    "\n",
    "⸻\n",
    "\n",
    "✅ 10. Online Banking Usage:\n",
    "\n",
    "About half the customers use online banking services.\n",
    "There’s room to grow and promote digital banking adoption.\n",
    "\n",
    "⸻\n",
    "\n",
    "✅ 11. Credit Card Ownership:\n",
    "\n",
    "Most customers do own a credit card.\n",
    "This indicates successful credit card distribution, though spending behavior (linked to CCAvg) needs deeper analysis."
   ]
  },
  {
   "cell_type": "markdown",
   "id": "233dc586-339a-4444-a25b-080b7704e817",
   "metadata": {
    "id": "233dc586-339a-4444-a25b-080b7704e817"
   },
   "source": [
    "Overall, customers with higher income, more education, and more interaction with various banking services had a higher chance of getting a loan."
   ]
  },
  {
   "cell_type": "code",
   "execution_count": null,
   "id": "96f8a69f-2f98-4be8-9af8-a3c9eb614b0b",
   "metadata": {
    "colab": {
     "base_uri": "https://localhost:8080/",
     "height": 584
    },
    "id": "96f8a69f-2f98-4be8-9af8-a3c9eb614b0b",
    "outputId": "a8124eaa-241c-4cb8-9d47-4980735fbf09"
   },
   "outputs": [],
   "source": [
    "n = df.groupby('Personal Loan')[['Age', 'Experience', 'Income','Family', 'CCAvg',\n",
    "           'Education', 'Mortgage', 'Securities Account',\n",
    "           'CD Account', 'Online', 'CreditCard']].mean()\n",
    "\n",
    "\n",
    "colors = ['#1f77b4', '#ff7f0e', '#2ca02c', '#d62728', '#9467bd',\n",
    "          '#8c564b', '#e377c2', '#7f7f7f', '#bcbd22', '#17becf', '#fcbf49']\n",
    "\n",
    "\n",
    "ax = n.plot(kind='bar', figsize=(15, 10), color=colors, width=1.0)\n",
    "\n",
    "plt.title(\"Average of Features for Personal Loan Groups\", fontsize=24,color=\"orange\")\n",
    "plt.xlabel(\"Personal Loan (0 = No, 1 = Yes)\", fontsize=24,color=\"purple\")\n",
    "plt.ylabel(\"Feature Averages\", fontsize=18,color=\"red\")\n",
    "plt.xticks(fontsize=18, rotation=0, color='black')\n",
    "plt.yticks(fontsize=18, rotation=0, color='black')\n",
    "\n",
    "\n",
    "for i, container in enumerate(ax.containers):\n",
    "    for bar in container:\n",
    "        height = bar.get_height()\n",
    "        if height > 0:\n",
    "            ax.annotate(\n",
    "                n.columns[i],\n",
    "                xy=(bar.get_x() + bar.get_width()/2, height),\n",
    "                xytext=(0,5),\n",
    "                textcoords=\"offset points\",\n",
    "                ha='center', va='bottom',\n",
    "                fontsize=20,\n",
    "                color=colors[i],\n",
    "                rotation=90\n",
    "            )\n",
    "\n",
    "plt.legend(loc='upper right', fontsize=14)\n",
    "max_height = max([bar.get_height() for container in ax.containers for bar in container])\n",
    "\n",
    "ax.set_ylim(0, max_height * 1.2)\n",
    "\n",
    "plt.tight_layout()\n",
    "plt.show()"
   ]
  },
  {
   "cell_type": "raw",
   "id": "3397412c-9d44-40a0-afd0-71f63bd8dbec",
   "metadata": {
    "id": "3397412c-9d44-40a0-afd0-71f63bd8dbec"
   },
   "source": [
    "The characteristics that have the greatest impact on getting a personal loan are:\n",
    "1. High income\n",
    "2. Average credit card usage (CCAvg)\n",
    "3. Previous mortgage\n",
    "4. Higher education\n",
    "\n",
    "In contrast, characteristics such as age, experience, and use of specific accounts (such as CD Account or Online) did not have much impact"
   ]
  },
  {
   "cell_type": "code",
   "execution_count": null,
   "id": "68e966d7-b9d7-442f-97d2-59ad39e692c6",
   "metadata": {
    "colab": {
     "base_uri": "https://localhost:8080/",
     "height": 1000
    },
    "id": "68e966d7-b9d7-442f-97d2-59ad39e692c6",
    "outputId": "d5b6f037-ad75-429c-c47d-4a0154d6f9a7"
   },
   "outputs": [],
   "source": [
    "import plotly.express as px\n",
    "\n",
    "\n",
    "categorical_cols = ['Education', 'Family', 'Online', 'CreditCard', 'CD Account', 'Securities Account']\n",
    "\n",
    "for col in categorical_cols:\n",
    "    fig = px.pie(df,\n",
    "                 names=col,\n",
    "                 title=f\"<b style='color:crimson; font-size:20px;'>Distribution of {col}</b>\",\n",
    "                 hole=0.2,\n",
    "                 width=600, height=500)\n",
    "\n",
    "    fig.update_traces(textinfo='percent+label', textfont_size=16)\n",
    "    fig.update_layout(title_x=0.5)\n",
    "    fig.show()"
   ]
  },
  {
   "cell_type": "code",
   "execution_count": null,
   "id": "1e8f26ce",
   "metadata": {},
   "outputs": [],
   "source": [
    "import plotly.express as px\n",
    "\n",
    "# better label\n",
    "df[\"Income_Label\"] = df[\"Income\"].apply(lambda x: f\"Income: {x}\")\n",
    "df[\"Family_Label\"] = df[\"Family\"].apply(lambda x: f\"Family: {x}\")\n",
    "\n",
    "fig = px.sunburst(\n",
    "    df[df[\"Personal Loan\"] == 1],  # just have personal loan\n",
    "    path=[\"Income_Label\", \"Family_Label\"],   \n",
    "    values=[1]*len(df[df[\"Personal Loan\"] == 1]),  \n",
    "    title=\"Subburst of Approved Personal Loans by Income and Family Size\",\n",
    "    color=\"Income\",  \n",
    "    hover_data={\"Income\": True, \"Family\": True},\n",
    "    width=1000,\n",
    "    height=600\n",
    ")\n",
    "\n",
    "fig.update_layout(\n",
    "    title_font=dict(size=22, color=\"darkblue\"),\n",
    "    margin=dict(t=50, l=25, r=25, b=25)\n",
    ")\n",
    "\n",
    "fig.show()"
   ]
  },
  {
   "cell_type": "markdown",
   "id": "e43beb1e-30d4-4a09-bc63-2205b1803167",
   "metadata": {},
   "source": [
    "This pie chart shows the income groups in which borrowers are located and how many people in each income groups\n",
    "and what size families they  are from.it gives you a very clear understanding of your customers loan behavior patterns."
   ]
  },
  {
   "cell_type": "code",
   "execution_count": null,
   "id": "3476e9a7",
   "metadata": {},
   "outputs": [],
   "source": [
    "print(type(df))"
   ]
  },
  {
   "cell_type": "code",
   "execution_count": null,
   "id": "ddda42f4-2d6e-4518-b258-5e634b4c1891",
   "metadata": {},
   "outputs": [],
   "source": [
    "print(df.head())\n",
    "print(df.columns)"
   ]
  },
  {
   "cell_type": "code",
   "execution_count": null,
   "id": "2b73a33a-4006-4bd7-8d74-84dcd894239f",
   "metadata": {
    "colab": {
     "base_uri": "https://localhost:8080/"
    },
    "id": "2b73a33a-4006-4bd7-8d74-84dcd894239f",
    "outputId": "58aae89c-5cdc-4cec-a20d-cd2bd02420eb"
   },
   "outputs": [],
   "source": [
    "print (\"credit card spending of customers who haven't received a loan:\")\n",
    "df[df['Personal Loan'] == 0]['CCAvg'].median()*100"
   ]
  },
  {
   "cell_type": "code",
   "execution_count": null,
   "id": "f7b6a2bc-f620-4f96-8e5e-3ecba8595db7",
   "metadata": {
    "colab": {
     "base_uri": "https://localhost:8080/"
    },
    "id": "f7b6a2bc-f620-4f96-8e5e-3ecba8595db7",
    "outputId": "e8e61152-67cd-4108-da83-8ac235c3f13f"
   },
   "outputs": [],
   "source": [
    "print (\"credit card spending of customers who have received a loan:\")\n",
    "df[df['Personal Loan'] == 1]['CCAvg'].median()*100\n"
   ]
  },
  {
   "cell_type": "raw",
   "id": "f84e7632-6a11-42e7-82ac-1da6cc5e47af",
   "metadata": {
    "id": "f84e7632-6a11-42e7-82ac-1da6cc5e47af"
   },
   "source": [
    "\n",
    "People with higher credit card spending (median $380)\n",
    "are more likely to take out a personal loan, while those with lower spending (median $140) are less likely to take out a loan"
   ]
  },
  {
   "cell_type": "code",
   "execution_count": null,
   "id": "95e11e3f-3e0f-4d0f-ba05-ee90765f225c",
   "metadata": {
    "colab": {
     "base_uri": "https://localhost:8080/",
     "height": 1000
    },
    "id": "95e11e3f-3e0f-4d0f-ba05-ee90765f225c",
    "outputId": "38207a86-90fc-465e-c00c-fcb0a6597161"
   },
   "outputs": [],
   "source": [
    "import seaborn as sns\n",
    "import matplotlib.pyplot as plt\n",
    "\n",
    "\n",
    "df_c = ['Age', 'Experience', 'Income', 'ZIP Code', 'Mortgage']\n",
    "\n",
    "\n",
    "sns.set_theme(style=\"white\", palette=\"pastel\")\n",
    "\n",
    "for i in df_c:\n",
    "    plt.figure(figsize=(8, 6))\n",
    "\n",
    "    g = sns.JointGrid(data=df, x=i, y=\"Personal Loan\", space=0)\n",
    "\n",
    "\n",
    "    g.plot_joint(\n",
    "        sns.kdeplot,\n",
    "        fill=True,\n",
    "        thresh=0.05,\n",
    "        levels=30,\n",
    "        cmap=\"coolwarm\"\n",
    "    )\n",
    "\n",
    "\n",
    "    g.plot_marginals(\n",
    "        sns.histplot,\n",
    "        color=\"steelblue\",\n",
    "        alpha=0.8,\n",
    "        bins=25\n",
    "    )\n",
    "\n",
    "    g.fig.suptitle(f\"Relationship Between {i} and Personal Loan\", fontsize=14)\n",
    "    g.fig.tight_layout()\n",
    "    g.fig.subplots_adjust(top=0.95)\n",
    "    plt.show()"
   ]
  },
  {
   "cell_type": "raw",
   "id": "9cc34a9d-5c2b-49f6-9ed0-a94726107d49",
   "metadata": {
    "id": "9cc34a9d-5c2b-49f6-9ed0-a94726107d49"
   },
   "source": [
    "🔹 1. Age vs. Personal Loan\n",
    "\n",
    "Analysis:\n",
    "The majority of customers fall within the age range of 40 to 65. Among them, most have not received a personal loan, as indicated by the red density in the lower section of the chart (Personal Loan = 0).\n",
    "The distribution in the upper section (Personal Loan = 1) is more scattered and sparse.\n",
    "\n",
    "Insight:\n",
    "Age alone does not appear to be a strong predictor of personal loan approval. However, middle-aged individuals are the dominant group in the dataset, and most have not taken a loan.\n",
    "\n",
    "⸻\n",
    "\n",
    "🔹 2. Mortgage vs. Personal Loan\n",
    "\n",
    "Analysis:\n",
    "A dense concentration of customers with mortgage loans is observed in the group who did not take a personal loan (Personal Loan = 0). The red zone clearly shows a stronger density here.\n",
    "The customers who have both a mortgage and a personal loan are fewer and scattered.\n",
    "\n",
    "Insight:\n",
    "Having a mortgage does not necessarily increase the likelihood of getting a personal loan. In fact, it may suggest that many mortgage holders are either not eligible for or do not pursue personal loans.\n",
    "\n",
    "⸻\n",
    "\n",
    "🔹 3. ZIP Code vs. Personal Loan\n",
    "\n",
    "Analysis:\n",
    "The geographic distribution (ZIP Code) of customers is fairly even, with most density located in the lower half of the chart (Personal Loan = 0).\n",
    "The upper section, representing those who took a loan, shows very sparse density.\n",
    "\n",
    "Insight:\n",
    "ZIP Code (i.e., location) has no strong or clear relationship with loan approval in this dataset. It may not be a significant predictor.\n",
    "\n",
    "⸻\n",
    "\n",
    "🔹 4. Income vs. Personal Loan\n",
    "\n",
    "Analysis:\n",
    "This is one of the most telling charts. Customers with low to mid-level income mostly did not receive a personal loan (high density in the red lower region).\n",
    "In contrast, those who did receive a loan (Personal Loan = 1) have clearly higher income levels.\n",
    "\n",
    "Insight:\n",
    "Income level is a strong predictor for personal loan approval. Higher-income customers are much more likely to be approved for loans.\n",
    "\n",
    "⸻\n",
    "\n",
    "🔹 5. Experience vs. Personal Loan\n",
    "\n",
    "Analysis:\n",
    "Most customers are clustered between 10 to 30 years of work experience, again in the lower section (Personal Loan = 0).\n",
    "Loan receivers with varying levels of experience appear in the upper part, but with lower density.\n",
    "\n",
    "Insight:\n",
    "Work experience does not show a strong direct relationship with loan approval. However, those with very low experience (< 5 years) seem less likely to receive a loan"
   ]
  },
  {
   "cell_type": "raw",
   "id": "4160b70e-a887-4dd8-8600-135b3bbc69ef",
   "metadata": {
    "id": "4160b70e-a887-4dd8-8600-135b3bbc69ef"
   },
   "source": [
    "✅ Customers who:\n",
    "\n",
    "| Don't have a credit card (CreditCard=0) |\n",
    "• When offline: Only 9% have borrowed.\n",
    "• When online: About 9.9% have borrowed.\n",
    "\n",
    "➡️ Online activity slightly increases the probability of getting a loan.\n",
    "\n",
    "⸻\n",
    "\n",
    "✅ Customers who:\n",
    "\n",
    "| Have a credit card (CreditCard=1) |\n",
    "• When offline: 10% have borrowed (the highest value in the table).\n",
    "• When online: Only 9.3% have borrowed.\n",
    "\n",
    "➡️ In contrast to the above case, for those who have a card, being online slightly reduces the probability of getting a loan.\n",
    "⸻\n",
    "\n",
    "🧠 Overall conclusion:\n",
    "• The impact of having a credit card and online banking on obtaining a personal loan is very weak (between 9% and 10%).\n",
    "• The highest probability of obtaining a loan is for customers who have a credit card but are not online"
   ]
  },
  {
   "cell_type": "code",
   "execution_count": null,
   "id": "eDQiAxukcfzl",
   "metadata": {
    "colab": {
     "base_uri": "https://localhost:8080/",
     "height": 617
    },
    "id": "eDQiAxukcfzl",
    "outputId": "a3886a62-8b6a-4d63-f71e-8e569112f2b3"
   },
   "outputs": [],
   "source": [
    "df.dtypes"
   ]
  },
  {
   "cell_type": "code",
   "execution_count": null,
   "id": "d53aca39-44b4-4551-bbdf-7fe009083b90",
   "metadata": {
    "id": "d53aca39-44b4-4551-bbdf-7fe009083b90"
   },
   "outputs": [],
   "source": [
    "#A MORE in-depth analysis(ZIP CODE)"
   ]
  },
  {
   "cell_type": "code",
   "execution_count": null,
   "id": "a47520e0-e904-425b-8fb5-7f445398a05b",
   "metadata": {
    "id": "a47520e0-e904-425b-8fb5-7f445398a05b"
   },
   "outputs": [],
   "source": [
    "list_zipcode=list(df['ZIP Code'])\n",
    "\n"
   ]
  },
  {
   "cell_type": "code",
   "execution_count": null,
   "id": "5aa6641a-eba4-4dd3-88b0-c0d2c30cab9a",
   "metadata": {
    "id": "5aa6641a-eba4-4dd3-88b0-c0d2c30cab9a"
   },
   "outputs": [],
   "source": [
    "df.drop(columns=[\"age_group\",\"Income_bin\",\"Income_Label\",\"Family_Label\"],inplace=True)"
   ]
  },
  {
   "cell_type": "code",
   "execution_count": null,
   "id": "e6c27c93-a153-4d7e-94e4-6716c6051162",
   "metadata": {
    "colab": {
     "base_uri": "https://localhost:8080/",
     "height": 244
    },
    "id": "e6c27c93-a153-4d7e-94e4-6716c6051162",
    "outputId": "c78be028-bf05-4220-dffd-19ca4f4aa1dd"
   },
   "outputs": [],
   "source": [
    "df.head()"
   ]
  },
  {
   "cell_type": "code",
   "execution_count": null,
   "id": "f687c0c2-f24b-4f5a-963a-b705f7b8ec57",
   "metadata": {
    "id": "f687c0c2-f24b-4f5a-963a-b705f7b8ec57"
   },
   "outputs": [],
   "source": [
    "import pgeocode\n",
    "\n",
    "#American zipcode Database\n",
    "nomi = pgeocode.Nominatim('us')\n",
    "\n",
    "\n",
    "df['Latitude'] = df['ZIP Code'].apply(lambda x: nomi.query_postal_code(x).latitude)\n",
    "df['Longitude'] = df['ZIP Code'].apply(lambda x: nomi.query_postal_code(x).longitude)\n",
    "df['Place'] = df['ZIP Code'].apply(lambda x: nomi.query_postal_code(x).place_name)\n"
   ]
  },
  {
   "cell_type": "code",
   "execution_count": null,
   "id": "5efa144d-30a1-4a86-9319-34e75cdd1a34",
   "metadata": {
    "colab": {
     "base_uri": "https://localhost:8080/",
     "height": 492
    },
    "id": "5efa144d-30a1-4a86-9319-34e75cdd1a34",
    "outputId": "17164237-c686-4311-9581-54485a721fc1"
   },
   "outputs": [],
   "source": [
    "df.isna().sum()"
   ]
  },
  {
   "cell_type": "code",
   "execution_count": null,
   "id": "5297e720-0912-426b-bfb5-a22fffdfa20f",
   "metadata": {
    "id": "5297e720-0912-426b-bfb5-a22fffdfa20f"
   },
   "outputs": [],
   "source": [
    "df[['Latitude', 'Longitude', 'Personal Loan']].corr()"
   ]
  },
  {
   "cell_type": "markdown",
   "id": "7be4d0af-dac6-4358-b8ec-9714c2455b36",
   "metadata": {},
   "source": [
    "Geographic location does not have a significant impact on loan acceptance in this data"
   ]
  },
  {
   "cell_type": "code",
   "execution_count": null,
   "id": "296a62fc-8373-4494-a3b2-9202edc15086",
   "metadata": {},
   "outputs": [],
   "source": [
    "from scipy.stats import chi2_contingency\n",
    "import pandas as pd\n",
    "\n",
    "# (Contingency Table)\n",
    "contingency = pd.crosstab(df['Place'], df['Personal Loan'])\n",
    "\n",
    " \n",
    "chi2, p, dof, expected = chi2_contingency(contingency)\n",
    "\n",
    "\n",
    "print(f\"Chi2 = {chi2:.2f}, p-value = {p:.4f}\")"
   ]
  },
  {
   "cell_type": "raw",
   "id": "48f08cae-9c14-4cc7-a628-5755be959585",
   "metadata": {},
   "source": [
    "• The p-value = 0.8611 means it is much larger than 0.05 ⇒ meaning:\n",
    "❌ There is no statistically significant relationship between place of residence and the probability of receiving a loan"
   ]
  },
  {
   "cell_type": "code",
   "execution_count": null,
   "id": "813d3d45-0ea7-45f5-8b19-3eb81fc493d4",
   "metadata": {
    "id": "813d3d45-0ea7-45f5-8b19-3eb81fc493d4"
   },
   "outputs": [],
   "source": [
    "df.groupby('Place')['Personal Loan'].mean().sort_values(ascending=False)"
   ]
  },
  {
   "cell_type": "markdown",
   "id": "646f58c9-6029-4436-9939-ed8ed965a5cc",
   "metadata": {},
   "source": [
    "The Bella Vista area has the highest loan acceptance rate"
   ]
  },
  {
   "cell_type": "code",
   "execution_count": null,
   "id": "ad5ebc56-1229-44e8-891c-5e37e5a8550f",
   "metadata": {},
   "outputs": [],
   "source": [
    "df[df['Place']=='notfound']['ZIP Code'].value_counts()"
   ]
  },
  {
   "cell_type": "code",
   "execution_count": null,
   "id": "0d2c96f8-764a-49b7-b9e7-e4b1bad91912",
   "metadata": {},
   "outputs": [],
   "source": [
    "df['Place'].value_counts()"
   ]
  },
  {
   "cell_type": "markdown",
   "id": "fb407cf5-5a58-4cc6-9793-4807e553dc73",
   "metadata": {},
   "source": [
    "The largest data is from Los Angeles, which has 375 people"
   ]
  },
  {
   "cell_type": "code",
   "execution_count": null,
   "id": "074f2679-ac4d-4738-abe1-31c0cc8c9ef5",
   "metadata": {},
   "outputs": [],
   "source": [
    "df=df.astype({'Latitude':float,'Longitude':float})"
   ]
  },
  {
   "cell_type": "code",
   "execution_count": null,
   "id": "5382a428-ba1c-4ae3-a99d-0de819cacd87",
   "metadata": {},
   "outputs": [],
   "source": [
    "df[df['Latitude'].isna()]['ZIP Code'].unique()"
   ]
  },
  {
   "cell_type": "markdown",
   "id": "9c4065c5-b46a-4b20-981e-f32acbe4adf6",
   "metadata": {},
   "source": [
    "This means we have 4 zip codes that have incomplete location information."
   ]
  },
  {
   "cell_type": "code",
   "execution_count": null,
   "id": "4ae20052-2ab3-49bd-bdb4-af057c1591a0",
   "metadata": {},
   "outputs": [],
   "source": [
    "import matplotlib.pyplot as plt\n",
    "import seaborn as sns\n",
    "\n",
    "\n",
    "top_places = df['Place'].value_counts().nlargest(10).index\n",
    "\n",
    "\n",
    "filtered_df = df[df['Place'].isin(top_places)]\n",
    "\n",
    "\n",
    "plt.figure(figsize=(14, 6))\n",
    "sns.countplot(x='Place', hue='Personal Loan', data=filtered_df, palette='cool')\n",
    "\n",
    "\n",
    "plt.title(\"Top 10 Places by Personal Loan Approval\", fontsize=18,color=\"red\")\n",
    "plt.xlabel(\"Place\", fontsize=16)\n",
    "plt.ylabel(\"Count\", fontsize=14)\n",
    "plt.xticks(rotation=45, fontsize=14,color=\"purple\")\n",
    "plt.yticks(fontsize=12)\n",
    "plt.legend(title=\"Personal Loan\", loc='upper right')\n",
    "plt.tight_layout()\n",
    "\n",
    "plt.show()"
   ]
  },
  {
   "cell_type": "code",
   "execution_count": null,
   "id": "a3b8c177-3b9c-47c1-8147-0c23c9a22883",
   "metadata": {},
   "outputs": [],
   "source": [
    "# Group by ZIP Code to calculate:\n",
    "# 1. Average income of residents\n",
    "# 2. Loan acceptance rate (percentage of people who got a loan)\n",
    "zip_summary = df.groupby('ZIP Code').agg(\n",
    "    Avg_Income=('Income', 'mean'),          # Average income\n",
    "    Loan_Rate=('Personal Loan', 'mean')     # Loan rate (1=loan taken)\n",
    ").reset_index()\n",
    "\n",
    "# Convert loan rate to percentage\n",
    "zip_summary['Loan_Rate'] = zip_summary['Loan_Rate'] * 100\n",
    "\n",
    "# Sort by average income in descending order\n",
    "zip_summary = zip_summary.sort_values(by='Avg_Income', ascending=False)\n",
    "\n",
    "# Display the top ZIP Codes\n",
    "import pandas as pd\n",
    "pd.set_option('display.float_format', '{:.2f}'.format)\n",
    "print(zip_summary.head(10))"
   ]
  },
  {
   "cell_type": "raw",
   "id": "87720805-d2f5-46df-8ef7-6841c10cda1a",
   "metadata": {},
   "source": [
    "High income does not necessarily mean high borrowing.\n",
    "• Some areas with high income have a lower desire or need for borrowing.\n",
    "• In contrast, in some areas, a high percentage of people use borrowing despite high income"
   ]
  },
  {
   "cell_type": "code",
   "execution_count": null,
   "id": "fe3c8321-7d96-4299-bea2-9930f1078015",
   "metadata": {},
   "outputs": [],
   "source": [
    "import pandas as pd\n",
    "import matplotlib.pyplot as plt\n",
    "import seaborn as sns\n",
    "\n",
    "\n",
    "zip_summary = pd.DataFrame({\n",
    "    'ZIP Code': ['91326', '91614', '91024', '96008', '91801'],\n",
    "    'Avg_Income': [142.00, 140.25, 140.00, 139.00, 135.33],\n",
    "    'Loan_Rate': [0.00, 25.00, 0.00, 66.67, 0.00]\n",
    "})\n",
    "\n",
    "\n",
    "plt.figure(figsize=(12, 6))\n",
    "sns.scatterplot(\n",
    "    data=zip_summary,\n",
    "    x='Avg_Income',\n",
    "    y='Loan_Rate',\n",
    "    hue='ZIP Code',\n",
    "    palette='Set2',\n",
    "    s=200,\n",
    "    edgecolor='black'\n",
    ")\n",
    "\n",
    "\n",
    "for i in range(zip_summary.shape[0]):\n",
    "    plt.text(\n",
    "        x=zip_summary['Avg_Income'][i] + 0.3,\n",
    "        y=zip_summary['Loan_Rate'][i] + 0.5,\n",
    "        s=zip_summary['ZIP Code'][i],\n",
    "        fontsize=10\n",
    "    )\n",
    "\n",
    "plt.title('Loan Rate vs. Average Income by ZIP Code', fontsize=16, weight='bold')\n",
    "plt.xlabel('Average Income (in $1000s)', fontsize=16,color=\"purple\")\n",
    "plt.ylabel('Loan Acceptance Rate (%)', fontsize=16,color=\"red\")\n",
    "plt.grid(True)\n",
    "plt.tight_layout()\n",
    "plt.show()"
   ]
  },
  {
   "cell_type": "code",
   "execution_count": null,
   "id": "7fc96146-5b19-4355-960f-1da1519c7d1d",
   "metadata": {},
   "outputs": [],
   "source": [
    "import pandas as pd\n",
    "import plotly.express as px\n",
    "\n",
    "\n",
    "data = {\n",
    "    'Prefix': list(range(10)),\n",
    "    'States': [\n",
    "        'MA, NY, NJ', 'PA, DE', 'VA, NC, SC', 'GA, AL, MS', 'MI, OH',\n",
    "        'IA, MN', 'IL, IN', 'TX, OK', 'CO, UT', 'CA, WA'\n",
    "    ],\n",
    "    'Loan_Chance': ['Very High', 'Medium', 'Medium', 'Low', 'Medium',\n",
    "                    'Medium', 'High', 'High', 'High', 'Very High'],\n",
    "    'Reason': [\n",
    "        'High income, strong credit', \n",
    "        'Mixed rural/urban', \n",
    "        'Mixed strength, variability',\n",
    "        'High poverty, weaker credit',\n",
    "        'Urban better, Detroit poor',\n",
    "        'Lower income, fewer banks',\n",
    "        'Chicago strong, rural weak',\n",
    "        'Growing metros, good access',\n",
    "        'Good income, active housing',\n",
    "        'Wealthy, strong credit, competitive'\n",
    "    ]\n",
    "}\n",
    "\n",
    "df_states = pd.DataFrame(data)\n",
    "\n",
    "\n",
    "fig = px.bar(\n",
    "    df_states,\n",
    "    x='Prefix',\n",
    "    y=df_states['Loan_Chance'].map({'Low': 0, 'Medium': 1, 'High': 2, 'Very High': 3}),\n",
    "    color='Loan_Chance',\n",
    "    text='States',\n",
    "    hover_data=['Reason'],\n",
    "    labels={'y': 'Loan Chance Score'},\n",
    "    title='Estimated Loan Acceptance Potential by ZIP Prefix (US)'\n",
    ")\n",
    "\n",
    "fig.update_traces(textposition='outside')\n",
    "fig.update_layout(\n",
    "    yaxis=dict(\n",
    "        tickmode='array',\n",
    "        tickvals=[0, 1, 2, 3],\n",
    "        ticktext=['Low', 'Medium', 'High', 'Very High']\n",
    "    ),\n",
    "    xaxis_title='ZIP Code Prefix (First Digit)',\n",
    "    yaxis_title='Loan Chance',\n",
    "    legend_title='Loan Level',\n",
    "    height=600\n",
    ")\n",
    "\n",
    "fig.show()"
   ]
  },
  {
   "cell_type": "code",
   "execution_count": null,
   "id": "3c486917-6cfb-4549-ab5c-0beaf6be41a3",
   "metadata": {},
   "outputs": [],
   "source": [
    "import pandas as pd\n",
    "import plotly.express as px\n",
    "\n",
    "data = {\n",
    "    'Prefix': [0, 1, 2, 3, 4, 5, 6, 7, 8, 9],\n",
    "    'States': [\n",
    "        'MA, NY, NJ', 'PA, DE', 'VA, NC, SC', 'GA, AL, MS', 'MI, OH',\n",
    "        'IA, MN', 'IL, IN', 'TX, OK', 'CO, UT', 'CA, WA'\n",
    "    ],\n",
    "    'Loan_Chance': [\n",
    "        'Very High', 'Medium', 'Medium', 'Low', 'Medium',\n",
    "        'Medium', 'High', 'High', 'High', 'Very High'\n",
    "    ],\n",
    "    'Reason': [\n",
    "        'High income, strong credit',\n",
    "        'Mixed income, some rural',\n",
    "        'Diverse, some low-income',\n",
    "        'High poverty, weak credit',\n",
    "        'Urban/rural mix, Detroit weak',\n",
    "        'Medium-low income, less banks',\n",
    "        'Chicago strong, rural not much',\n",
    "        'Big cities growing, good access',\n",
    "        'Good income, active housing',\n",
    "        'Wealthy, strong credit, active'\n",
    "    ]\n",
    "}\n",
    "\n",
    "df_states = pd.DataFrame(data)\n",
    "\n",
    "\n",
    "fig = px.bar(\n",
    "    df_states,\n",
    "    x='Prefix',\n",
    "    y='Loan_Chance',\n",
    "    color='Loan_Chance',\n",
    "    text='States',\n",
    "    hover_data=['States', 'Reason'],\n",
    "    title='Loan Chance by ZIP Code Prefix and State',\n",
    "    labels={'Loan_Chance': 'Loan Chance Level'},\n",
    "    color_discrete_sequence=px.colors.qualitative.Prism\n",
    ")\n",
    "\n",
    "fig.update_traces(textposition='outside')\n",
    "fig.update_layout(\n",
    "    title_font=dict(size=24, color='darkblue'),\n",
    "    xaxis_title='ZIP Code Prefix',\n",
    "    yaxis_title='Loan Chance',\n",
    "    margin=dict(t=80, l=40, r=40, b=80),\n",
    "    height=600\n",
    ")\n",
    "\n",
    "fig.show()"
   ]
  },
  {
   "cell_type": "raw",
   "id": "19873fd6-82db-414a-807f-e5e26b5196f4",
   "metadata": {},
   "source": [
    "📈 States with ZIP codes between 0 and 9 (like New York, California) have the highest chance of getting a loan.\n",
    "• ⚖️ States with middle numbers (like 4 and 5) are in the middle range.\n",
    "• 🔻 States with a 3 (like Alabama and Mississippi) have the lowest chance of getting a loan; usually due to higher poverty and poorer credit"
   ]
  },
  {
   "cell_type": "code",
   "execution_count": null,
   "id": "6a189478-e4b7-45cb-9acd-5e03e11d50ca",
   "metadata": {
    "colab": {
     "base_uri": "https://localhost:8080/"
    },
    "id": "6a189478-e4b7-45cb-9acd-5e03e11d50ca",
    "outputId": "a62f8e21-8ca3-4f6e-e849-846b374cfed7"
   },
   "outputs": [],
   "source": [
    "df.columns"
   ]
  },
  {
   "cell_type": "code",
   "execution_count": null,
   "id": "8031b177-af4e-46bb-b17c-2eeb1a6489a5",
   "metadata": {},
   "outputs": [],
   "source": [
    "df = df.drop(['Latitude',\"Place\",\"Longitude\"],axis=1)"
   ]
  },
  {
   "cell_type": "code",
   "execution_count": null,
   "id": "e1769185-066b-4923-8d1d-6b418fc60714",
   "metadata": {
    "id": "e1769185-066b-4923-8d1d-6b418fc60714"
   },
   "outputs": [],
   "source": [
    "df.dtypes\n"
   ]
  },
  {
   "cell_type": "code",
   "execution_count": null,
   "id": "79b379da-1b61-4cb2-a414-2f520e666518",
   "metadata": {
    "colab": {
     "base_uri": "https://localhost:8080/",
     "height": 112
    },
    "id": "79b379da-1b61-4cb2-a414-2f520e666518",
    "outputId": "6029804f-a41a-4d00-c7ef-0d80f8f5a4d0"
   },
   "outputs": [],
   "source": [
    "df[['ZIP Code', 'Personal Loan']].corr()"
   ]
  },
  {
   "cell_type": "markdown",
   "id": "2f9de613",
   "metadata": {},
   "source": [
    " <div style=\"background-color:rgba(0,217,255,0.1); padding:20px; border-radius:12px; margin: 20px 0;\">\n",
    "    <h3 style=\"color:#00d9ff;\"> <code style=color:red>Before performing loan approval forecasting, we can consider several typical customer profiles that might qualify for a loan:</code></h3>\n",
    "    <p>• Customers with moderate credit card spending and younger to mid-age, usually paired with limited work experience<br>\n",
    " • Applicants with a large mortgage and relatively young age, often having low experience<br>\n",
    " • Individuals with high income levels, but young and with short employment history.<br>\n",
    " • Some candidates may combine high income and low experience, regardless of age.<br>\n",
    " • Borrowers showing high credit card usage, low experience, and strong income levels.<br>\n",
    " • Profiles including high CCAvg, young age, and good income potential.<br>\n",
    " • Applicants with a significant mortgage, low age, and average income.<br>\n",
    " • Those with moderate mortgage and income, and mid-range credit card spending.<br>\n",
    " • Clients who have high mortgage, minimal experience, and moderate income.<br>\n",
    " • Lastly, customers with large mortgages, low experience, and low-to-moderate credit card spending.</p>\n",
    "  </div>\n",
    "\n",
    "\n"
   ]
  },
  {
   "cell_type": "markdown",
   "id": "Nk0DJWuWvEHc",
   "metadata": {
    "id": "Nk0DJWuWvEHc"
   },
   "source": [
    "\n",
    "\n",
    "<div style=\"\n",
    "    background: linear-gradient(135deg,rgb(0, 0, 0),rgb(5, 19, 3),rgba(21, 105, 6, 0.83));\n",
    "    width: 30%;\n",
    "    margin: 40px auto;\n",
    "    border-radius: 25px;\n",
    "    text-align: center;\n",
    "    box-shadow: 0px 0px 10px rgb(64, 255, 0);\n",
    "    color: #e3f2fd;\n",
    "    font-size: 24px;\n",
    "    padding: 25px 35px;\n",
    "    font-family: 'Poppins', 'Segoe UI', Tahoma, Geneva, Verdana, sans-serif;\n",
    "    font-weight: 600;\n",
    "    letter-spacing: 1px;\n",
    "    transition: all 0.3s ease;\n",
    "\">\n",
    "    Classification Models (Logistic, K-NN and Naïve Bayes)\n",
    "</div>\n",
    "\n",
    "\n",
    "\n",
    "\n"
   ]
  },
  {
   "cell_type": "code",
   "execution_count": null,
   "id": "n0YVMEetvJp3",
   "metadata": {
    "colab": {
     "base_uri": "https://localhost:8080/"
    },
    "id": "n0YVMEetvJp3",
    "outputId": "2742d7d2-666d-4e4c-c35d-460f76d78180"
   },
   "outputs": [],
   "source": [
    "df.shape\n"
   ]
  },
  {
   "cell_type": "code",
   "execution_count": null,
   "id": "4TqQyGT7vz-6",
   "metadata": {
    "colab": {
     "base_uri": "https://localhost:8080/"
    },
    "id": "4TqQyGT7vz-6",
    "outputId": "cc65448c-d085-46cb-d374-2e0f2b7ac954"
   },
   "outputs": [],
   "source": [
    "df.info()"
   ]
  },
  {
   "cell_type": "markdown",
   "id": "vgpSYD-6wEtl",
   "metadata": {
    "id": "vgpSYD-6wEtl"
   },
   "source": [
    "Removing a column that has no effect on the final prediction"
   ]
  },
  {
   "cell_type": "code",
   "execution_count": null,
   "id": "H80OUxXKwIis",
   "metadata": {
    "colab": {
     "base_uri": "https://localhost:8080/"
    },
    "id": "H80OUxXKwIis",
    "outputId": "9c545f45-cc9f-4f7e-9b29-acb69ccc0b5d"
   },
   "outputs": [],
   "source": [
    "df = df.drop(['ZIP Code'],axis=1)\n",
    "\n"
   ]
  },
  {
   "cell_type": "markdown",
   "id": "178XO1ugwUVK",
   "metadata": {
    "id": "178XO1ugwUVK"
   },
   "source": [
    "<div style=\"\n",
    "text-align:center;\n",
    "width :fit-content;\n",
    "  display: inline-block;\n",
    "  padding: 10px 20px;\n",
    "  background: linear-gradient(135deg, #667eea, #764ba2);\n",
    "  color: white;\n",
    "  font-family: 'Segoe UI', sans-serif;\n",
    "  font-size: 25px;\n",
    "  font-weight: bold;\n",
    "  border-radius: 12px;\n",
    "  box-shadow: 0 4px 12px rgba(0, 0, 0, 0.2);\n",
    "  letter-spacing: 1px;\n",
    "\">\n",
    "NORMALIZATION\n",
    "</div>\n",
    "\n"
   ]
  },
  {
   "cell_type": "code",
   "execution_count": null,
   "id": "DoT9KXVzwPlZ",
   "metadata": {
    "id": "DoT9KXVzwPlZ"
   },
   "outputs": [],
   "source": [
    "def Normalization(df,lst,rng) :\n",
    "    scaler = preprocessing.MinMaxScaler(feature_range = rng)\n",
    "    df[lst] = scaler.fit_transform(df[lst])\n",
    "    return df"
   ]
  },
  {
   "cell_type": "markdown",
   "id": "xxG22IUQwxM7",
   "metadata": {
    "id": "xxG22IUQwxM7"
   },
   "source": [
    "<div style=\"\n",
    "    background: linear-gradient(135deg,rgb(0, 0, 0),rgb(5, 19, 3),rgba(21, 105, 6, 0.83));\n",
    "    width: 50%;\n",
    "    margin: 40px auto;\n",
    "    border-radius: 25px;\n",
    "    text-align: center;\n",
    "    box-shadow: 0px 0px 10px rgb(64, 255, 0);\n",
    "    color: #e3f2fd;\n",
    "    font-size: 28px;\n",
    "    padding: 25px 35px;\n",
    "    font-family: 'Poppins', 'Segoe UI', Tahoma, Geneva, Verdana, sans-serif;\n",
    "    font-weight: 600;\n",
    "    letter-spacing: 1px;\n",
    "    transition: all 0.3s ease;\n",
    "\">\n",
    "    logistic Regresion Model\n",
    "</div>\n"
   ]
  },
  {
   "cell_type": "code",
   "execution_count": null,
   "id": "R6SW0HcWw2Fm",
   "metadata": {
    "id": "R6SW0HcWw2Fm"
   },
   "outputs": [],
   "source": [
    "X = pd.DataFrame (df , columns = [\"Age\" , \"Experience\" , \"Income\" ,\"Family\" , \"CCAvg\" , \"Education\" ,\n",
    "                                    \"Mortgage\" , \"Securities Account\" , \"CD Account\" , \"Online\" , \"CreditCard\"])\n",
    "\n",
    "y = df [\"Personal Loan\"].values.reshape (-1 , 1)"
   ]
  },
  {
   "cell_type": "code",
   "execution_count": null,
   "id": "F7r059zMxMAj",
   "metadata": {
    "colab": {
     "base_uri": "https://localhost:8080/",
     "height": 178
    },
    "id": "F7r059zMxMAj",
    "outputId": "79a08964-cea2-4a12-96b1-93eef072f8e1"
   },
   "outputs": [],
   "source": [
    "df [\"Personal Loan\"].value_counts ()"
   ]
  },
  {
   "cell_type": "code",
   "execution_count": null,
   "id": "Ol_vghcTxXZk",
   "metadata": {
    "id": "Ol_vghcTxXZk"
   },
   "outputs": [],
   "source": [
    "# training will be based on 70% of data and we split data to test_size=0.3 & train_size=0.7\n",
    "X_train , X_test , y_train , y_test = train_test_split (X , y.ravel() , test_size = 0.3 , random_state = 0)\n"
   ]
  },
  {
   "cell_type": "code",
   "execution_count": null,
   "id": "IcXk0JchxaZy",
   "metadata": {
    "colab": {
     "base_uri": "https://localhost:8080/"
    },
    "id": "IcXk0JchxaZy",
    "outputId": "fe9a8bc0-9283-4e6e-ef9a-3eb0472c02bb"
   },
   "outputs": [],
   "source": [
    "print ('there are {} samples in train set and {} samples in test set.'.format (X_train.shape [0] , X_test.shape [0]))"
   ]
  },
  {
   "cell_type": "code",
   "execution_count": null,
   "id": "3a4877db",
   "metadata": {},
   "outputs": [],
   "source": [
    "import numpy as np\n",
    "import pandas as pd\n",
    "from collections import Counter\n",
    "\n",
    "class_counts = Counter(y_train)\n",
    "print(class_counts)\n",
    "\n",
    "counts = Counter(y_train)\n",
    "total = len(y_train)  \n",
    "\n",
    "\n",
    "weights = {cls: total / count for cls, count in counts.items()}\n",
    "\n",
    "print(weights)\n"
   ]
  },
  {
   "cell_type": "code",
   "execution_count": null,
   "id": "xOc8bv6CyC3p",
   "metadata": {
    "colab": {
     "base_uri": "https://localhost:8080/"
    },
    "id": "xOc8bv6CyC3p",
    "outputId": "012e42ec-db65-4c16-efc0-4130ce5a1f86"
   },
   "outputs": [],
   "source": [
    "from sklearn.model_selection import GridSearchCV\n",
    "# defining the model & parameters\n",
    "LR = LogisticRegression (max_iter = 5000 )\n",
    "solvers = ['newton-cg' , 'lbfgs' , 'liblinear']\n",
    "penalty = [\"none\" , \"l1\" , \"l2\" , \"elasticnet\"]\n",
    "c_values = [100 , 10 , 1.0 , 0.1 , 0.01]\n",
    "grid = dict (solver = solvers , penalty = penalty ,C = c_values) # defining grid search\n",
    "grid_search = GridSearchCV (estimator = LR , param_grid= grid,n_jobs = -1, cv = 5, scoring = 'accuracy', error_score = 0)\n",
    "grid_result = grid_search.fit (X_train , y_train)\n",
    "\n",
    "# Summarizing results\n",
    "print(\"The best score is: %f by using %s\" % (grid_result.best_score_, grid_result.best_params_))"
   ]
  },
  {
   "cell_type": "code",
   "execution_count": null,
   "id": "rIzbqqPX1qFm",
   "metadata": {
    "id": "rIzbqqPX1qFm"
   },
   "outputs": [],
   "source": [
    "# logistic regression\n",
    "logreg = LogisticRegression (C = 100, penalty = 'l2' , solver = 'liblinear')\n",
    "logreg.fit (X_train , y_train) # fiting the model\n",
    "y_pred = logreg.predict (X_test) # predicting\n",
    "y_predicted_proba = logreg.predict_proba (X_test)"
   ]
  },
  {
   "cell_type": "code",
   "execution_count": null,
   "id": "360a9ee6",
   "metadata": {},
   "outputs": [],
   "source": [
    "print(\"Accuracy\", metrics.accuracy_score(y_test, y_pred))"
   ]
  },
  {
   "cell_type": "code",
   "execution_count": null,
   "id": "5e0787bc",
   "metadata": {},
   "outputs": [],
   "source": [
    "logreg.classes_"
   ]
  },
  {
   "cell_type": "code",
   "execution_count": null,
   "id": "c684a944",
   "metadata": {},
   "outputs": [],
   "source": [
    "logreg.intercept_"
   ]
  },
  {
   "cell_type": "code",
   "execution_count": null,
   "id": "8070e9bf",
   "metadata": {},
   "outputs": [],
   "source": [
    "\n",
    "\n",
    "logreg.coef_"
   ]
  },
  {
   "cell_type": "code",
   "execution_count": null,
   "id": "4021556b",
   "metadata": {},
   "outputs": [],
   "source": [
    "features = X.columns.tolist()\n",
    "coefficients = logreg.coef_[0]\n",
    "\n",
    "coef_df = pd.DataFrame({\n",
    "    \"Feature\": features,\n",
    "    \"Coefficient\": coefficients\n",
    "})\n",
    "\n",
    "coef_df.sort_values(by=\"Coefficient\", ascending=False, inplace=True)\n",
    "display(coef_df)"
   ]
  },
  {
   "cell_type": "code",
   "execution_count": null,
   "id": "462luLN0zf7J",
   "metadata": {
    "colab": {
     "base_uri": "https://localhost:8080/"
    },
    "id": "462luLN0zf7J",
    "outputId": "6446336a-9957-4939-8c6d-59c7b66609a2"
   },
   "outputs": [],
   "source": [
    "print (\"Accuracy: \" , metrics.accuracy_score (y_test , y_pred))\n",
    "print (\"Score: \" , logreg.score (X , y))\n",
    "print (\"F1 Score: \", f1_score (y_test , y_pred , average = \"macro\"))\n",
    "print (\"Precision Score: \", precision_score (y_test , y_pred , average = \"macro\"))\n",
    "print (\"Recall Score: \", recall_score (y_test , y_pred , average = \"macro\"))\n",
    "print (\"Mean Absolute Error: \" , metrics.mean_absolute_error (y_test , y_pred))\n",
    "print (\"Mean Squared Error: \" , metrics.mean_squared_error (y_test , y_pred))\n",
    "print (\"Root Mean Squared Error: \" , np.sqrt (metrics.mean_squared_error (y_test , y_pred)))\n",
    "print (classification_report (y_test , y_pred))"
   ]
  },
  {
   "cell_type": "markdown",
   "id": "MGbQc6gL3mE4",
   "metadata": {
    "id": "MGbQc6gL3mE4"
   },
   "source": [
    "🎯 Final Conclusion\n",
    "\n",
    "Class 0 (those who did not borrow) is predicted very well\n",
    "• But class 1 (those who borrowed) has a lower accuracy and learning model (f1 = 0.68)\n",
    "MY Logistic Regression model performs well and has high overall accuracy, but it performs poorly in identifying real borrowers (Class 1).\n",
    "\n",
    "For projects like lending where Class 1 is more important (financial risk), you should increase the Recall and F1 Score of Class 1."
   ]
  },
  {
   "cell_type": "code",
   "execution_count": null,
   "id": "cMUYCFKQ3ocU",
   "metadata": {
    "colab": {
     "base_uri": "https://localhost:8080/"
    },
    "id": "cMUYCFKQ3ocU",
    "outputId": "4189c12e-c984-46f7-abd7-10c00522ec65"
   },
   "outputs": [],
   "source": [
    "confusion_matrix (y_test , y_pred)"
   ]
  },
  {
   "cell_type": "markdown",
   "id": "SeRgJeZa63m0",
   "metadata": {
    "id": "SeRgJeZa63m0"
   },
   "source": [
    "🔍 Analysis:\n",
    " • True Negatives (1335): Excellent — model is great at identifying people who won’t take a loan.\n",
    " • True Positives (87): Decent — model correctly found 87 loan takers.\n",
    " • False Negatives (60): Bad — 60 people actually took loans, but the model failed to detect them.\n",
    "⛔ Risky for banks, because missed real loan clients.\n",
    " • False Positives (18): Model incorrectly predicted loan for 18 people. Not great, but manageable"
   ]
  },
  {
   "cell_type": "code",
   "execution_count": null,
   "id": "aES75iBO65Rt",
   "metadata": {
    "colab": {
     "base_uri": "https://localhost:8080/",
     "height": 511
    },
    "id": "aES75iBO65Rt",
    "outputId": "6244d08e-de85-44a3-a3a5-794ef4578975"
   },
   "outputs": [],
   "source": [
    "# confusion matrix heatmap\n",
    "plt.figure(figsize=(15, 8))\n",
    "sns.set(font_scale=1.2)\n",
    "sns.heatmap(confusion_matrix(y_test , y_pred) , annot=True, fmt=\"d\", cmap=\"coolwarm\", cbar=False,\n",
    "            xticklabels=['Predict 0s', 'Predict 1s'], yticklabels=['Actual 0s', 'Actual 1s'])\n",
    "plt.title('Confusion Matrix')\n",
    "plt.xlabel('Predicted')\n",
    "plt.ylabel('Actual')\n",
    "plt.show()"
   ]
  },
  {
   "cell_type": "markdown",
   "id": "U1hW8Kpx7wlt",
   "metadata": {
    "id": "U1hW8Kpx7wlt"
   },
   "source": [
    "TN = 1335: Model is very good at predicting non-loan customers.\n",
    " • TP = 87: Model successfully detected 87 real loan customers.\n",
    " • FP = 18: Only 18 false alarms (predicted loan, but they didn’t).\n",
    " • FN = 60: Missed 60 actual loan customers ❗ (this can be risky for a bank)"
   ]
  },
  {
   "cell_type": "code",
   "execution_count": null,
   "id": "FQ3LhXZ6AI2W",
   "metadata": {
    "colab": {
     "base_uri": "https://localhost:8080/"
    },
    "id": "FQ3LhXZ6AI2W",
    "outputId": "1f93891d-ddd4-4a88-f09d-28e8bb55d0ad"
   },
   "outputs": [],
   "source": [
    "!pip install scikit-plot"
   ]
  },
  {
   "cell_type": "code",
   "execution_count": null,
   "id": "7edc8e69-2094-49b5-a8c4-894a3607dd38",
   "metadata": {},
   "outputs": [],
   "source": [
    "from sklearn.metrics import roc_curve, auc\n",
    "import matplotlib.pyplot as plt\n",
    "\n",
    "\n",
    "y_scores = y_predicted_proba[:, 1]\n",
    "\n",
    "\n",
    "fpr, tpr, thresholds = roc_curve(y_test, y_scores)\n",
    "roc_auc = auc(fpr, tpr)\n",
    "\n",
    "\n",
    "plt.figure(figsize=(10, 6))\n",
    "plt.plot(fpr, tpr, color='blue', lw=2, label=f'ROC Curve (AUC = {roc_auc:.2f})')\n",
    "plt.plot([0, 1], [0, 1], color='gray', linestyle='--')  # خط قرمز فرضی\n",
    "plt.xlabel('False Positive Rate')\n",
    "plt.ylabel('True Positive Rate')\n",
    "plt.title('ROC Curve')\n",
    "plt.legend(loc='lower right')\n",
    "plt.grid(True)\n",
    "plt.show()"
   ]
  },
  {
   "cell_type": "code",
   "execution_count": null,
   "id": "daddd710",
   "metadata": {},
   "outputs": [],
   "source": [
    "\n",
    "from sklearn.metrics import roc_curve, auc\n",
    "import matplotlib.pyplot as plt\n",
    "y_pred_proba=logreg.predict_proba(X_test)\n",
    "\n",
    "#classe 0\n",
    "fpr0, tpr0, _ = roc_curve(1 - y_test, 1 - y_pred_proba[:, 1])\n",
    "roc_auc0 = auc(fpr0, tpr0)\n",
    "\n",
    "# class1\n",
    "fpr1, tpr1, _ = roc_curve(y_test, y_pred_proba[:, 1])\n",
    "roc_auc1 = auc(fpr1, tpr1)\n",
    "\n",
    "plt.figure(figsize=(10, 6))\n",
    "\n",
    "# classe1 line\n",
    "plt.plot(fpr1, tpr1, label='Class 1 (AUC = %0.2f)' % roc_auc1, color='blue')\n",
    "\n",
    "# class0 line\n",
    "plt.plot(fpr0, tpr0, label='Class 0 (AUC = %0.2f)' % roc_auc0, color='red', linestyle='--')\n",
    "\n",
    "\n",
    "plt.plot([0, 1], [0, 1], 'k--', label='Random Guess')\n",
    "\n",
    "plt.xlabel('False Positive Rate')\n",
    "plt.ylabel('True Positive Rate')\n",
    "plt.title('ROC Curves for Class 0 and Class 1')\n",
    "plt.legend(loc='lower right')\n",
    "plt.grid(True)\n",
    "plt.show()"
   ]
  },
  {
   "cell_type": "markdown",
   "id": "dc606195",
   "metadata": {},
   "source": [
    "The graph has two ROC curves:\n",
    "• Blue (Class 1): Indicates the model's ability to correctly identify Class 1 (those who have taken out a loan).\n",
    "• Red dotted (Class 0): Indicates the model's ability to correctly identify Class 0 (those who have not taken out a loan).\n",
    "• Gray diagonal line: Random Guess mode with AUC = 0.5.\n",
    "\n",
    "⸻\n",
    "\n",
    "🧠 Detailed analysis:\n",
    "\n",
    "✅ AUC for Class 1 (blue): 0.96\n",
    "\n",
    "This means that the model correctly identifies 96% of the time whether a person has actually taken out a loan or not.\n",
    "\n",
    "✅ AUC for Class 0 (red): 0.96\n",
    "\n",
    "This means that the model correctly identifies 96% of the time whether a person has not taken out a loan.\n",
    "\n",
    "This is very good because the model has balanced performance — it performs well not only on the positive class, but also on the negative class"
   ]
  },
  {
   "cell_type": "code",
   "execution_count": null,
   "id": "349a33ef-c1e7-4554-9709-dd173263deef",
   "metadata": {},
   "outputs": [],
   "source": [
    "import numpy as np\n",
    "import matplotlib.pyplot as plt\n",
    "\n",
    "y_scores = y_predicted_proba[:, 1]\n",
    "\n",
    "\n",
    "mask_pos = y_test == 1\n",
    "mask_neg = y_test == 0\n",
    "\n",
    "\n",
    "scores_pos = y_scores[mask_pos]\n",
    "scores_neg = y_scores[mask_neg]\n",
    "\n",
    "\n",
    "thresholds = np.linspace(0, 1, 500)\n",
    "\n",
    "\n",
    "cum_pos = [np.mean(scores_pos <= t) for t in thresholds]\n",
    "cum_neg = [np.mean(scores_neg <= t) for t in thresholds]\n",
    "\n",
    "\n",
    "diffs = np.abs(np.array(cum_pos) - np.array(cum_neg))\n",
    "ks_stat = np.max(diffs)\n",
    "ks_idx = np.argmax(diffs)\n",
    "ks_threshold = thresholds[ks_idx]\n",
    "\n",
    "\n",
    "plt.figure(figsize=(12, 6))\n",
    "plt.plot(thresholds, cum_neg, label='Class 0', color='navy')\n",
    "plt.plot(thresholds, cum_pos, label='Class 1', color='brown')\n",
    "plt.axvline(ks_threshold, color='black', linestyle='--',\n",
    "            label=f'KS Statistic: {ks_stat:.3f} at {ks_threshold:.3f}')\n",
    "plt.title('KS Statistic Plot')\n",
    "plt.xlabel('Threshold')\n",
    "plt.ylabel('Percentage below threshold')\n",
    "plt.legend(loc='best')\n",
    "plt.grid(True)\n",
    "plt.tight_layout()\n",
    "plt.show()"
   ]
  },
  {
   "cell_type": "markdown",
   "id": "7ff4ffd6",
   "metadata": {},
   "source": [
    "� Conclusion:\n",
    "\n",
    "• This graph confirms that your model has a high ability to discriminate between classes 0 and 1.\n",
    "• The value of KS = 0.802 shows that the model performance is excellent.\n",
    "• You can use threshold = 0.09 as the optimal decision threshold"
   ]
  },
  {
   "cell_type": "markdown",
   "id": "e1f5b554",
   "metadata": {},
   "source": [
    "<div style=\"background-color:#1e1e2f; color:#f1f1f1; padding: 20px; border-radius: 16px; box-shadow: 0 0 20px rgba(0,0,0,0.6); font-family: 'Segoe UI', sans-serif; line-height: 1.7;\">\n",
    "\n",
    "  <h4 style=\"color:#00d9ff; text-align:center; border-bottom:2px solid #00d9ff; padding-bottom:10px;\"> \n",
    "we must predict the target from following information:¶<br>ID: 5071<br>\n",
    "Age: 42<br>\n",
    "Experience: 16<br>\n",
    "Income: 30<br>\n",
    "ZIPCode: 92037 (REMOVED COLUMN!!!)<br>\n",
    "Family: 3<br>\n",
    "CCAvg: 1/2<br>\n",
    "Education: Advanced or 3<br>\n",
    "Mortgage: 0<br>\n",
    "Personal Loan: ?<br>\n",
    "Securities Account: 1<br>\n",
    "CD Account: 0<br>\n",
    "Online: 1<br>\n",
    "CreditCard: 1<br>\n",
    "Prediction Of Logistic Regression Model\n",
    "</h4>\n"
   ]
  },
  {
   "cell_type": "code",
   "execution_count": null,
   "id": "SWgdd5wKCeyg",
   "metadata": {
    "id": "SWgdd5wKCeyg"
   },
   "outputs": [],
   "source": [
    "df1 = df.copy ()\n",
    "df2 = pd.DataFrame ({\"Age\" : [42] , \"Experience\" : [16] , \"Income\" : [30] ,\"Family\" : [3] ,\n",
    "                    \"CCAvg\" : [1.2] , \"Education\" : [3] , \"Mortgage\" : [0] ,\"Personal Loan\" : [1] ,\n",
    "                     \"Securities Account\" : [0] , \"CD Account\" : [0] , \"Online\" : [1] , \"CreditCard\" : [1]})\n",
    "df2\n"
   ]
  },
  {
   "cell_type": "code",
   "execution_count": null,
   "id": "275bef0e-78f2-4a9f-b7fa-20857bcd63bd",
   "metadata": {},
   "outputs": [],
   "source": [
    "import pandas as pd\n",
    "data2 = pd.concat([df1, df2])\n"
   ]
  },
  {
   "cell_type": "code",
   "execution_count": null,
   "id": "8952ab2f-1365-4f11-be01-3a74f7246f05",
   "metadata": {},
   "outputs": [],
   "source": [
    "data2.shape"
   ]
  },
  {
   "cell_type": "code",
   "execution_count": null,
   "id": "e25f7778-557c-4957-9e73-8dbda2d7a1b1",
   "metadata": {},
   "outputs": [],
   "source": [
    "X_train2 = data2 [[\"Age\" , \"Experience\" , \"Income\" ,\"Family\" , \"CCAvg\" , \"Education\" ,\n",
    "                                    \"Mortgage\" , \"Securities Account\" , \"CD Account\" , \"Online\" , \"CreditCard\"]][:4999]\n",
    "y_train2= data2 [\"Personal Loan\"][:4999].values.reshape (-1 , 1)"
   ]
  },
  {
   "cell_type": "code",
   "execution_count": null,
   "id": "7351627f-00e5-478f-be61-4844ac0d353c",
   "metadata": {},
   "outputs": [],
   "source": [
    "X_test2 = data2 [[\"Age\" , \"Experience\" , \"Income\" ,\"Family\" , \"CCAvg\" , \"Education\" ,\n",
    "                                    \"Mortgage\" , \"Securities Account\" , \"CD Account\" , \"Online\" , \"CreditCard\"]][4999:]"
   ]
  },
  {
   "cell_type": "code",
   "execution_count": null,
   "id": "def5d9f5-850a-4fc6-bd7d-7c7ffabfa27c",
   "metadata": {},
   "outputs": [],
   "source": [
    "X_test2"
   ]
  },
  {
   "cell_type": "code",
   "execution_count": null,
   "id": "e9e4204e-9144-4977-8b24-8a67abd3c43d",
   "metadata": {},
   "outputs": [],
   "source": [
    "logreg2 = LogisticRegression (C = 100 , penalty = 'l2' , solver = 'liblinear') # Defining model and parameters\n",
    "logreg2.fit (X_train2 , y_train2)        # fit the model       \n",
    "y_prediction = logreg2.predict(X_test2) \n",
    "\n",
    "if y_prediction == 0:\n",
    "  print (\"y_prediction is:\" , y_prediction)\n",
    "  print (\"\\33[41m Customer is not eligible to receive a bank loan.\")\n",
    "else:\n",
    "  print (\"y_prediction is:\" , y_prediction)\n",
    "  print (\"\\33[41m Customer is eligible to receive a bank loan.\")"
   ]
  },
  {
   "cell_type": "markdown",
   "id": "092d95e1",
   "metadata": {},
   "source": [
    "\n",
    "<div style=\"\n",
    "    background: linear-gradient(135deg,rgb(0, 0, 0),rgb(5, 19, 3),rgba(21, 105, 6, 0.83));\n",
    "    width: 50%;\n",
    "    margin: 40px auto;\n",
    "    border-radius: 25px;\n",
    "    text-align: center;\n",
    "    box-shadow: 0px 0px 10px rgb(64, 255, 0);\n",
    "    color: #e3f2fd;\n",
    "    font-size: 28px;\n",
    "    padding: 25px 35px;\n",
    "    font-family: 'Poppins', 'Segoe UI', Tahoma, Geneva, Verdana, sans-serif;\n",
    "    font-weight: 600;\n",
    "    letter-spacing: 1px;\n",
    "    transition: all 0.3s ease;\n",
    "\">\n",
    "    Naive Bayes Model\n",
    "</div>\n"
   ]
  },
  {
   "cell_type": "code",
   "execution_count": null,
   "id": "c18427cb",
   "metadata": {},
   "outputs": [],
   "source": [
    "# naive Bayes have 4 algorithms, we must examine all 4 of them\n",
    "def NaiveBayes(X,y,test_size,model,stratify):\n",
    "    X_train,X_test,y_train,y_test = train_test_split(X,y,test_size=0.3,random_state=0,stratify=stratify)\n",
    "    Model = model()\n",
    "    Model.fit(X_train,y_train.ravel())\n",
    "    print('Accuracy of Model:' , np.round(metrics.accuracy_score(y_test,Model.predict(X_test)),3))\n",
    "    Evaluation(Model,X,y,X_train,y_train,X_test,y_test)"
   ]
  },
  {
   "cell_type": "code",
   "execution_count": null,
   "id": "cc2048a3",
   "metadata": {},
   "outputs": [],
   "source": [
    "def Evaluation(Model,X,y,X_train,y_train,X_test,y_test) :\n",
    "    cv_score = (cross_val_score(Model, X_train, y_train.ravel(), cv = StratifiedKFold(10), scoring='accuracy')).mean()\n",
    "    print('Train Score : ',np.round(Model.score(X_train,y_train),2))\n",
    "    print('Recall Score : ',np.round(recall_score(y_test,Model.predict(X_test)),2))\n",
    "    print('F1 Score : ',np.round(f1_score(y_test,Model.predict(X_test)),2))\n",
    "    print('Average Cross Validation Score : ',np.round(cv_score,2))\n",
    "    print('jaccard Score : ',np.round(jaccard_score(y_test,Model.predict(X_test)),2))\n",
    "    print('Precision Score : ',np.round(precision_score(y_test,Model.predict(X_test)),2))\n",
    "    print('Confusion Matrix Results:')\n",
    "    print(confusion_matrix(y_test,Model.predict(X_test)))\n",
    "    plt.figure(figsize=(15, 8))\n",
    "    sns.set(font_scale=1.2)\n",
    "    sns.heatmap(confusion_matrix(y_test,Model.predict(X_test)) , annot=True, fmt=\"d\", cmap=\"RdGy\", cbar=False, xticklabels=['Predict 0s', 'Predict 1s'], yticklabels=['Actual 0s', 'Actual 1s'])\n",
    "    plt.title('Confusion Matrix')\n",
    "    plt.xlabel('Predicted')\n",
    "    plt.ylabel('Actual')\n",
    "    plt.show()"
   ]
  },
  {
   "cell_type": "code",
   "execution_count": null,
   "id": "158c23ad",
   "metadata": {},
   "outputs": [],
   "source": [
    "df_Norm = df.copy()\n",
    "features = ['Age','Experience','Income','Family',\n",
    "           'CCAvg','Education','Mortgage','Securities Account','CD Account','Online'\n",
    "           ,'CreditCard']\n",
    "df_Norm = Normalization(df_Norm,features,(1,5))\n",
    "x = df_Norm.drop('Personal Loan',axis=1)\n",
    "y = df_Norm['Personal Loan'].values.reshape(-1,1)\n",
    "print('Result of Gaussian Model : ')\n",
    "NaiveBayes(x,y,0.1,GaussianNB,y)\n",
    "print('Result of Bernoulli Model : ')\n",
    "NaiveBayes(x,y,0.1,BernoulliNB,y)\n",
    "print('Result of Complement Model : ')\n",
    "NaiveBayes(x,y,0.1,ComplementNB,y)\n",
    "print('Result of Multinomial Model : ')\n",
    "NaiveBayes(x,y,0.1,MultinomialNB,y)"
   ]
  },
  {
   "cell_type": "markdown",
   "id": "09aa31dd",
   "metadata": {},
   "source": [
    "✅ Multinomial Naive Bayes performs best here because:\n",
    " • It made the fewest total errors.\n",
    " • It had zero false positives, which means no loans were mistakenly given to ineligible customers.\n",
    " • While recall (TP rate) is low, it prioritizes precision and risk minimization."
   ]
  },
  {
   "cell_type": "markdown",
   "id": "7bc8935d",
   "metadata": {},
   "source": [
    "True Negatives (TN) = 1356\n",
    "→ Correctly predicted people who didn’t get a loan.\n",
    " • False Positives (FP) = 0\n",
    "→ Nobody was wrongly predicted to have received a loan when they didn’t.\n",
    " • False Negatives (FN) = 138\n",
    "→ 138 people who actually got a loan were incorrectly predicted as not having received one.\n",
    " • True Positives (TP) = 6\n",
    "→ Only 6 people who actually got loans were correctly predicted"
   ]
  },
  {
   "cell_type": "markdown",
   "id": "5c9dfbe5",
   "metadata": {},
   "source": [
    "\n",
    "<div style=\"\n",
    "text-align:center;\n",
    "width :fit-content;\n",
    "  display: inline-block;\n",
    "  padding: 10px 20px;\n",
    "  background: linear-gradient(135deg, #667eea, #764ba2);\n",
    "  color: white;\n",
    "  font-family: 'Segoe UI', sans-serif;\n",
    "  font-size: 25px;\n",
    "  font-weight: bold;\n",
    "  border-radius: 12px;\n",
    "  box-shadow: 0 4px 12px rgba(0, 0, 0, 0.2);\n",
    "  letter-spacing: 1px;\n",
    "\">\n",
    "Prediction Of Naive Bayes Mode\n",
    "</div>\n",
    "\n"
   ]
  },
  {
   "cell_type": "code",
   "execution_count": null,
   "id": "4f242d15",
   "metadata": {},
   "outputs": [],
   "source": [
    "x_train2 = data2 [[\"Age\" , \"Experience\" , \"Income\" ,\"Family\" , \"CCAvg\" , \"Education\" ,\n",
    "                                    \"Mortgage\" , \"Securities Account\" , \"CD Account\" , \"Online\" , \"CreditCard\"]][:4999]\n",
    "y_train2= data2 [\"Personal Loan\"][:4999].values.reshape (-1 , 1)\n",
    "\n",
    "x_test2 = data2 [[\"Age\" , \"Experience\" , \"Income\" ,\"Family\" , \"CCAvg\" , \"Education\" ,\n",
    "                                    \"Mortgage\" , \"Securities Account\" , \"CD Account\" , \"Online\" , \"CreditCard\"]][4999:]\n",
    "x_test2\n",
    "\n",
    "model = MultinomialNB()\n",
    "model.fit(x_train2, y_train2.ravel())\n",
    "model.fit (x_train2 , y_train2) # fit the model       \n",
    "y_prediction = model.predict(x_test2) \n",
    "\n",
    "if y_prediction == 0:\n",
    "  print (\"y_prediction is:\" , y_prediction)\n",
    "  print (\"\\33[41m Customer is not eligible to receive a bank loan.\")\n",
    "else:\n",
    "  print (\"y_prediction is:\" , y_prediction)\n",
    "  print (\"\\33[41m Customer is eligible to receive a bank loan.\")\n",
    "  "
   ]
  },
  {
   "cell_type": "markdown",
   "id": "30fb15ae",
   "metadata": {},
   "source": [
    "<div style=\"\n",
    "    background: linear-gradient(135deg,rgb(0, 0, 0),rgb(5, 19, 3),rgba(21, 105, 6, 0.83));\n",
    "    width: 30%;\n",
    "    margin: 40px auto;\n",
    "    border-radius: 25px;\n",
    "    text-align: center;\n",
    "    box-shadow: 0px 0px 10px rgb(64, 255, 0);\n",
    "    color: #e3f2fd;\n",
    "    font-size: 24px;\n",
    "    padding: 25px 35px;\n",
    "    font-family: 'Poppins', 'Segoe UI', Tahoma, Geneva, Verdana, sans-serif;\n",
    "    font-weight: 600;\n",
    "    letter-spacing: 1px;\n",
    "    transition: all 0.3s ease;\n",
    "\">\n",
    "    KNN Model\n",
    "</div>\n"
   ]
  },
  {
   "cell_type": "code",
   "execution_count": null,
   "id": "fd91c5f2",
   "metadata": {},
   "outputs": [],
   "source": [
    "def KNN(x,y,test_size,k,stratify) :\n",
    "    TrainScore = []\n",
    "    TestScore = []\n",
    "    BestK = 0\n",
    "    BestScore = 0\n",
    "# test size=0.3\n",
    "    x_train,x_test,y_train,y_test = train_test_split(x,y,test_size=0.3,random_state=0,stratify=stratify)\n",
    "    for i in range (1,k+1) :\n",
    "        Model = KNeighborsClassifier(i)\n",
    "        Model.fit(x_train,y_train.ravel())\n",
    "        TrainScore.append(np.round(Model.score(x_train,y_train),3))\n",
    "        TestScore.append(np.round(Model.score(x_test,y_test),3))\n",
    "    BestK = TestScore.index(max(TestScore))+1\n",
    "    BestScore = max(TestScore)\n",
    "    Model = KNeighborsClassifier(BestK)\n",
    "    Model.fit(x_train,y_train.ravel())\n",
    "    print(\"Model Accuracy for K = %d is: \"%k , np.round(TestScore,3))\n",
    "    print('The best result is coming from k = %d with accuracy of = %s .'%(BestK,BestScore))\n",
    "    Evaluation(Model,x,y,x_train,y_train,x_test,y_test)\n",
    "    plt.plot(range(1,k+1),TrainScore,color='darkred',label='Train Accuracy')\n",
    "    plt.plot(range(1,k+1),TestScore,color='red',label='Test Accuracy')\n",
    "    plt.xlabel('k')\n",
    "    plt.ylabel('Accuracy')\n",
    "    plt.legend()\n",
    "    plt.show()"
   ]
  },
  {
   "cell_type": "markdown",
   "id": "f218f434",
   "metadata": {},
   "source": [
    "<div style=\"\n",
    "    background: linear-gradient(135deg,#fc00ff, #00dbde);\n",
    "    width: 67%;\n",
    "    margin: 40px auto;\n",
    "    border-radius: 25px;\n",
    "    text-align: center;\n",
    "    box-shadow: 0 8px 20px rgba(0, 0, 0, 0.4);\n",
    "    color: #e3f2fd;\n",
    "    font-size: 28px;\n",
    "    padding: 25px 35px;\n",
    "    font-family: 'Poppins', 'Segoe UI', Tahoma, Geneva, Verdana, sans-serif;\n",
    "    font-weight: 600;\n",
    "    letter-spacing: 1px;\n",
    "    border: 2px solidrgb(246, 100, 100);\n",
    "    transition: all 0.3s ease;\n",
    "\">\n",
    "  This function helps you:<br>\n",
    " • Try multiple values of k<br>\n",
    " • Choose the best one based on test performance<br>\n",
    " • Evaluate the model<br>\n",
    " • Visualize model accuracy vs. k<br>\n",
    "</div>\n"
   ]
  },
  {
   "cell_type": "code",
   "execution_count": null,
   "id": "ae8c9856",
   "metadata": {},
   "outputs": [],
   "source": [
    "print('KNN Model Result:')\n",
    "KNN(x,y,0.3,50,stratify=None)"
   ]
  },
  {
   "cell_type": "markdown",
   "id": "8f53a34f",
   "metadata": {},
   "source": [
    "The best performance of the KNN model was recorded for the value of k = 12"
   ]
  },
  {
   "cell_type": "markdown",
   "id": "2c436029",
   "metadata": {},
   "source": [
    "<span style=\"background-color: #1e1e2e; color: #ff0077ff; padding: 6px 14px; border-radius: 20px; font-weight: 600; font-size: 15px; font-family: 'Segoe UI', sans-serif; box-shadow: 0 0 8px rgba(0,255,213,0.4); display: inline-block;\">\n",
    " The KNN model performs best with k = 1, achieving 97% accuracy\n",
    "</span>\n",
    "\n"
   ]
  },
  {
   "cell_type": "markdown",
   "id": "f6e7cf47",
   "metadata": {},
   "source": [
    "<span style=\"background-color: #1e1e2e; color: #ff0022ff; padding: 6px 14px; border-radius: 20px; font-weight: 600; font-size: 15px; font-family: 'Segoe UI', sans-serif; box-shadow: 0 0 8px rgba(0,255,213,0.4); display: inline-block;\">\n",
    " The KNN model achieved the highest accuracy with a score of 0.97, making it the best-performing model<br>. Logistic Regression follows with an accuracy of 0.952, outperforming the Naive Bayes model. For KNN, the training accuracy is 1.0 when k = 1, but it decreases as the value of k increases. The test accuracy varies between 0.956 and 0.972, with the best score of 0.97 occurring at k = 12.\n",
    "</span>\n",
    "\n"
   ]
  },
  {
   "cell_type": "code",
   "execution_count": null,
   "id": "b4383a5d",
   "metadata": {},
   "outputs": [],
   "source": [
    "df_norm = df.copy()\n",
    "features2 = ['Age','Experience','Income','Family',\n",
    "           'CCAvg','Education','Mortgage','Securities Account','CD Account','Online'\n",
    "           ,'CreditCard']\n",
    "df_norm = Normalization(df_norm,features2,(1,5))\n",
    "x = df_norm.drop('Personal Loan',axis=1)\n",
    "y = df_norm['Personal Loan'].values.reshape(-1,1)\n",
    "x_train,x_test,y_train,y_test = train_test_split(x,y,test_size=0.3,random_state=0,stratify=y)\n",
    "print(classification_report(y_test , y_pred))\n",
    "k = 1\n",
    "Model = KNeighborsClassifier(k)\n",
    "Model.fit(x_train,y_train.ravel())\n",
    "y_pred = Model.predict(x_test)\n",
    "\n",
    "plt.figure(figsize=(15, 8))\n",
    "sns.set(font_scale=1.2)\n",
    "sns.heatmap(confusion_matrix(y_test , y_pred) , annot=True, fmt=\"d\", cmap=\"viridis\", cbar=False,\n",
    "            xticklabels=['Predict 0s', 'Predict 1s'], yticklabels=['Actual 0s', 'Actual 1s'])\n",
    "plt.title('Confusion Matrix')\n",
    "plt.xlabel('Predicted')\n",
    "plt.ylabel('Actual')\n",
    "plt.show()"
   ]
  },
  {
   "cell_type": "markdown",
   "id": "9a134590",
   "metadata": {},
   "source": [
    "<span style=\"background-color: #1e1e2e; color: #ff8800ff; padding: 6px 14px; border-radius: 20px; font-weight: 600; font-size: 15px; font-family: 'Segoe UI', sans-serif; box-shadow: 0 0 8px rgba(0,255,213,0.4); display: inline-block;\">\n",
    "35 customers did recevied a loan and it was predicted that they did not recevied a loan\n",
    "</span>\n",
    "\n"
   ]
  },
  {
   "cell_type": "markdown",
   "id": "afc19706",
   "metadata": {},
   "source": [
    "<div style=\"background-color:#1e1e2f; color:#f1f1f1; padding: 30px; border-radius: 16px; box-shadow: 0 0 20px rgba(0,0,0,0.6);font-family: 'Segoe UI',sans-serif; line-height: 1.7;\">\n",
    "\n",
    " \n",
    "  <h4 style=\"color:#00d9ff; text-align:center; border-bottom:2px solid #00d9ff; padding-bottom:10px;\">\n",
    "  1346 customers did not recevied a loan and it was predicted that they did not received a loan<br>\n",
    "  109 customers did recevied a loan and it was predicted that they recevied a loan<br>\n",
    "  10 customers did not recevied a loan and it was predicted that they recevied a loan<br>\n",
    "   </h4>"
   ]
  },
  {
   "cell_type": "markdown",
   "id": "99ade36a",
   "metadata": {},
   "source": [
    "<div style=\"\n",
    "    background: linear-gradient(135deg,rgb(0, 0, 0),rgb(5, 19, 3),rgba(21, 105, 6, 0.83));\n",
    "    width: 30%;\n",
    "    margin: 40px auto;\n",
    "    border-radius: 25px;\n",
    "    text-align: center;\n",
    "    box-shadow: 0px 0px 10px rgb(64, 255, 0);\n",
    "    color: #e3f2fd;\n",
    "    font-size: 24px;\n",
    "    padding: 25px 35px;\n",
    "    font-family: 'Poppins', 'Segoe UI', Tahoma, Geneva, Verdana, sans-serif;\n",
    "    font-weight: 600;\n",
    "    letter-spacing: 1px;\n",
    "    transition: all 0.3s ease;\n",
    "\">\n",
    "    Prediction Of KNN Model\n",
    "</div>\n"
   ]
  },
  {
   "cell_type": "code",
   "execution_count": null,
   "id": "5a8e8970",
   "metadata": {},
   "outputs": [],
   "source": [
    "X_train2 = data2 [[\"Age\" , \"Experience\" , \"Income\" ,\"Family\" , \"CCAvg\" , \"Education\" ,\n",
    "                                    \"Mortgage\" , \"Securities Account\" , \"CD Account\" , \"Online\" , \"CreditCard\"]][:4999].values\n",
    "y_train2= data2 [\"Personal Loan\"][:4999].values.reshape (-1 , 1)\n",
    "X_test2 = data2 [[\"Age\" , \"Experience\" , \"Income\" ,\"Family\" , \"CCAvg\" , \"Education\" ,\n",
    "                                    \"Mortgage\" , \"Securities Account\" , \"CD Account\" , \"Online\" , \"CreditCard\"]][4999:]\n",
    "KNN2 = KNeighborsClassifier (n_neighbors = 7)\n",
    "KNN2.fit (X_train2 , y_train2.ravel ())\n",
    "y_prediction = KNN2.predict(X_test2) \n",
    "y_prediction\n",
    "if y_prediction == 0:\n",
    "  print (\"y_prediction is:\" , y_prediction)\n",
    "  print (\"\\33[41m The customer is not eligible for the bank loan\")\n",
    "else:\n",
    "  print (\"y_prediction is:\" , y_prediction)\n",
    "  print (\"\\33[41m The customer is eligible for the bank loan\")"
   ]
  },
  {
   "cell_type": "code",
   "execution_count": null,
   "id": "1281b7ca",
   "metadata": {},
   "outputs": [],
   "source": [
    "df_train = pd.DataFrame(x_train,columns=[\"Age\" , \"Experience\" , \"Income\" ,\"Family\" , \"CCAvg\" , \"Education\" ,\"Mortgage\" , \"Securities Account\" , \"CD Account\" , \"Online\" , \"CreditCard\"])\n",
    "df_train.insert(11,'Personal Loan',y_train)\n",
    "df_test = pd.DataFrame(x_test,columns=['Age','Experience','Income','Family','CCAvg','Education','Mortgage',\n",
    "                                         'Securities Account','CD Account','Online','CreditCard'])\n",
    "df_test.insert(11,'Personal Loan',y_test)\n",
    "df_pred = pd.DataFrame(x_test,columns=['Age','Experience','Income','Family','CCAvg','Education','Mortgage',\n",
    "                                         'Securities Account','CD Account','Online','CreditCard'])\n",
    "df_pred.insert(11,'Personal Loan',y_pred)"
   ]
  },
  {
   "cell_type": "markdown",
   "id": "b4aaf44c",
   "metadata": {},
   "source": [
    "🎯 What is the overall purpose of these codes?\n",
    "1. Display the output of the model for a specific data (whether the customer is eligible or not).\n",
    "2. Prepare three DataFrames:\n",
    "• df_train: data + training labels\n",
    "• df_test: data + test labels\n",
    "• df_pred: data + predicted labels\n",
    "3. These DataFrames can be used for:\n",
    "• Further analysis,\n",
    "• Display in a table,\n",
    "• Compare predictions with reality"
   ]
  },
  {
   "cell_type": "markdown",
   "id": "9c88f66a",
   "metadata": {},
   "source": [
    "\n",
    "<div style=\"\n",
    "  text-align:center;\n",
    "  width :fit-content;\n",
    "  display: inline-block;\n",
    "  padding: 10px 20px;\n",
    "  background: linear-gradient(135deg, #667eea, #764ba2);\n",
    "  color: white;\n",
    "  font-family: 'Segoe UI', sans-serif;\n",
    "  font-size: 25px;\n",
    "  font-weight: bold;\n",
    "  border-radius: 12px;\n",
    "  box-shadow: 0 4px 12px rgba(0, 0, 0, 0.2);\n",
    "  letter-spacing: 1px;\n",
    "\">\n",
    "Improve Logistic Regression\n",
    "</div>"
   ]
  },
  {
   "cell_type": "code",
   "execution_count": null,
   "id": "3e854189",
   "metadata": {},
   "outputs": [],
   "source": [
    "df[\"log_Income\"]=np.log1p(df[\"Income\"])\n",
    "df[\"log_CCAvg\"]=np.log1p(df[\"CCAvg\"])\n",
    "df[\"Income2\"]=df[\"Income\"]**2\n",
    "df[\"age*in\"]=df[\"Income\"]*df[\"Age\"]"
   ]
  },
  {
   "cell_type": "code",
   "execution_count": null,
   "id": "b924bc99",
   "metadata": {},
   "outputs": [],
   "source": [
    "X = pd.DataFrame (df , columns = [\"Age\" , \"Experience\" , \"Income\" ,\"Family\" , \"CCAvg\" , \"Education\" ,\n",
    "                                    \"Mortgage\" , \"Securities Account\" , \"CD Account\" , \"Online\" , \"CreditCard\",\"log_CCAvg\",\n",
    "\"Income2\",\n",
    "\"age*in\",\n",
    "\"log_Income\"])\n",
    "\n",
    "y = df [\"Personal Loan\"].values.reshape (-1 , 1)\n",
    "def Normalization(df,lst,rng) :\n",
    "    scaler = preprocessing.MinMaxScaler(feature_range = rng)\n",
    "    df[lst] = scaler.fit_transform(df[lst])\n",
    "    return df\n",
    "weights = {0: 3, 1: 7.0}\n",
    "\n",
    "# training will be based on 70% of data and we split data to test_size=0.3 & train_size=0.7\n",
    "X_train , X_test , y_train , y_test = train_test_split (X , y.ravel() , test_size = 0.3 , random_state = 0)\n",
    "\n",
    "from sklearn.model_selection import GridSearchCV\n",
    "# defining the model & parameters\n",
    "LR = LogisticRegression (max_iter = 5000,class_weight=weights )\n",
    "solvers = ['newton-cg' , 'lbfgs' , 'liblinear']\n",
    "penalty = [\"none\" , \"l1\" , \"l2\" , \"elasticnet\"]\n",
    "c_values = [100 , 10 , 1.0 , 0.1 , 0.01]\n",
    "grid = dict (solver = solvers , penalty = penalty ,C = c_values) # defining grid search\n",
    "grid_search = GridSearchCV (estimator = LR , param_grid= grid,n_jobs = -1, cv = 5, scoring = 'accuracy', error_score = 0)\n",
    "grid_result = grid_search.fit (X_train , y_train)\n",
    "\n",
    "# Summarizing results\n",
    "print(\"The best score is: %f by using %s\" % (grid_result.best_score_, grid_result.best_params_))\n",
    "\n"
   ]
  },
  {
   "cell_type": "code",
   "execution_count": null,
   "id": "ae781d9b",
   "metadata": {},
   "outputs": [],
   "source": [
    "# logistic regression\n",
    "logreg = LogisticRegression (C = 0.1 , penalty = 'l2' , solver = 'newton-cg',class_weight=weights )\n",
    "logreg.fit (X_train , y_train) # fiting the model\n",
    "y_pred = logreg.predict (X_test) # predicting\n",
    "y_predicted_proba = logreg.predict_proba (X_test)\n",
    "\n",
    "\n",
    "print(\"Accuracy\", metrics.accuracy_score(y_test, y_pred))\n",
    "\n",
    "\n",
    "\n",
    "print (\"Accuracy: \" , metrics.accuracy_score (y_test , y_pred))\n",
    "print (\"Score: \" , logreg.score (X , y))\n",
    "print (\"F1 Score: \", f1_score (y_test , y_pred , average = \"macro\"))\n",
    "print (\"Precision Score: \", precision_score (y_test , y_pred , average = \"macro\"))\n",
    "print (\"Recall Score: \", recall_score (y_test , y_pred , average = \"macro\"))\n",
    "print (\"Mean Absolute Error: \" , metrics.mean_absolute_error (y_test , y_pred))\n",
    "print (\"Mean Squared Error: \" , metrics.mean_squared_error (y_test , y_pred))\n",
    "print (\"Root Mean Squared Error: \" , np.sqrt (metrics.mean_squared_error (y_test , y_pred)))\n",
    "print (classification_report (y_test , y_pred))"
   ]
  },
  {
   "cell_type": "code",
   "execution_count": null,
   "id": "a6eb94f8",
   "metadata": {},
   "outputs": [],
   "source": [
    "# confusion matrix heatmap\n",
    "plt.figure(figsize=(15, 8))\n",
    "sns.set(font_scale=1.2)\n",
    "sns.heatmap(confusion_matrix(y_test , y_pred) , annot=True, fmt=\"d\", cmap=\"coolwarm\", cbar=False,\n",
    "            xticklabels=['Predict 0s', 'Predict 1s'], yticklabels=['Actual 0s', 'Actual 1s'])\n",
    "plt.title('Confusion Matrix')\n",
    "plt.xlabel('Predicted')\n",
    "plt.ylabel('Actual')\n",
    "plt.show()"
   ]
  },
  {
   "cell_type": "markdown",
   "id": "551c2f33",
   "metadata": {},
   "source": [
    "<div style=\"\n",
    "text-align:center;\n",
    "width :fit-content;\n",
    "  display: inline-block;\n",
    "  padding: 10px 20px;\n",
    "  background: linear-gradient(135deg, #667eea, #764ba2);\n",
    "  color: white;\n",
    "  font-family: 'Segoe UI', sans-serif;\n",
    "  font-size: 25px;\n",
    "  font-weight: bold;\n",
    "  border-radius: 12px;\n",
    "  box-shadow: 0 4px 12px rgba(0, 0, 0, 0.2);\n",
    "  letter-spacing: 1px;\n",
    "\">\n",
    "Improve naive Bayes\n",
    "</div>\n"
   ]
  },
  {
   "cell_type": "code",
   "execution_count": null,
   "id": "194853ca",
   "metadata": {},
   "outputs": [],
   "source": [
    "from sklearn.metrics import (\n",
    "    accuracy_score, precision_score, recall_score, f1_score,\n",
    "    balanced_accuracy_score, confusion_matrix, classification_report,\n",
    "    roc_auc_score, log_loss, jaccard_score\n",
    ")"
   ]
  },
  {
   "cell_type": "code",
   "execution_count": null,
   "id": "fd091b4b",
   "metadata": {},
   "outputs": [],
   "source": [
    "from sklearn.utils.class_weight import compute_sample_weight\n",
    "def NaiveBayes(X,y,test_size,model,stratify):\n",
    "    X_train,X_test,y_train,y_test = train_test_split(X,y,test_size=0.3,random_state=0,stratify=stratify)\n",
    "    Model = model()\n",
    "    sample_weights = compute_sample_weight(class_weight={0: 0.3, 1: 0.7}, y=y_train)\n",
    "    Model.fit(X_train,y_train.ravel(),sample_weight=sample_weights)\n",
    "    print('Accuracy of Model:' , np.round(metrics.accuracy_score(y_test,Model.predict(X_test)),3))\n",
    "    Evaluation(Model,X,y,X_train,y_train,X_test,y_test)\n"
   ]
  },
  {
   "cell_type": "code",
   "execution_count": null,
   "id": "f1b709c9",
   "metadata": {},
   "outputs": [],
   "source": [
    "def Evaluation(Model,X,y,X_train,y_train,X_test,y_test) :\n",
    "    cv_score = (cross_val_score(Model, X_train, y_train.ravel(), cv = StratifiedKFold(10), scoring='accuracy')).mean()\n",
    "    print('Train Score : ',np.round(Model.score(X_train,y_train),2))\n",
    "    print('Recall Score : ',np.round(recall_score(y_test,Model.predict(X_test)),2))\n",
    "    print('F1 Score : ',np.round(f1_score(y_test,Model.predict(X_test)),2))\n",
    "    print('Average Cross Validation Score : ',np.round(cv_score,2))\n",
    "    print('jaccard Score : ',np.round(jaccard_score(y_test,Model.predict(X_test)),2))\n",
    "    print('Precision Score : ',np.round(precision_score(y_test,Model.predict(X_test)),2))\n",
    "    print('Confusion Matrix Results:')\n",
    "    print(confusion_matrix(y_test,Model.predict(X_test)))\n",
    "    plt.figure(figsize=(15, 8))\n",
    "    sns.set(font_scale=1.2)\n",
    "    sns.heatmap(confusion_matrix(y_test,Model.predict(X_test)) , annot=True, fmt=\"d\", cmap=\"RdGy\", cbar=False, xticklabels=['Predict 0s', 'Predict 1s'], yticklabels=['Actual 0s', 'Actual 1s'])\n",
    "    plt.title('Confusion Matrix')\n",
    "    plt.xlabel('Predicted')\n",
    "    plt.ylabel('Actual')\n",
    "    plt.show()"
   ]
  },
  {
   "cell_type": "code",
   "execution_count": null,
   "id": "7e287f89",
   "metadata": {},
   "outputs": [],
   "source": [
    "df_Norm = df.copy()\n",
    "\n",
    "\n",
    "df_Norm = Normalization(df_Norm,features,(1,5))\n",
    "X = df_Norm.drop('Personal Loan',axis=1)\n",
    "y = df_Norm['Personal Loan'].values.reshape(-1,1)\n",
    "\n",
    "\n",
    "\n",
    "print('Result of Gaussian Model : ')\n",
    "NaiveBayes(X,y,0.1,GaussianNB,y)\n",
    "print('Result of Bernoulli Model : ')\n",
    "NaiveBayes(X,y,0.1,BernoulliNB,y)\n",
    "print('Result of Complement Model : ')\n",
    "NaiveBayes(X,y,0.1,ComplementNB,y)\n",
    "print('Result of Multinomial Model : ')\n",
    "NaiveBayes(X,y,0.1,MultinomialNB,y)"
   ]
  },
  {
   "cell_type": "markdown",
   "id": "835e46b8",
   "metadata": {},
   "source": [
    "<div style=\"\n",
    "text-align:center;\n",
    "width :fit-content;\n",
    "  display: inline-block;\n",
    "  padding: 10px 20px;\n",
    "  background: linear-gradient(135deg, #667eea, #764ba2);\n",
    "  color: white;\n",
    "  font-family: 'Segoe UI', sans-serif;\n",
    "  font-size: 25px;\n",
    "  font-weight: bold;\n",
    "  border-radius: 12px;\n",
    "  box-shadow: 0 4px 12px rgba(0, 0, 0, 0.2);\n",
    "  letter-spacing: 1px;\n",
    "\">\n",
    "Improve KNN\n",
    "</div>\n"
   ]
  },
  {
   "cell_type": "code",
   "execution_count": null,
   "id": "f38671e9",
   "metadata": {},
   "outputs": [],
   "source": [
    "X = pd.DataFrame (df , columns = [\"Age\" , \"Experience\" , \"Income\" ,\"Family\" , \"CCAvg\" , \"Education\" ,\n",
    "                                    \"Mortgage\" , \"Securities Account\" , \"CD Account\" , \"Online\" , \"CreditCard\",\"log_CCAvg\",\n",
    "\"Income2\",\n",
    "\"age*in\",\n",
    "\"log_Income\"])\n",
    "\n",
    "y = df [\"Personal Loan\"].values.reshape (-1 , 1)"
   ]
  },
  {
   "cell_type": "code",
   "execution_count": null,
   "id": "00c0844a",
   "metadata": {},
   "outputs": [],
   "source": [
    "def KNN(X,y,test_size,k,stratify) :\n",
    "    TrainScore = []\n",
    "    TestScore = []\n",
    "    BestK = 0\n",
    "    BestScore = 0\n",
    "# test size=0.3\n",
    "    X_train,X_test,y_train,y_test = train_test_split(X,y,test_size=0.3,random_state=0,stratify=stratify)\n",
    "    #Try diffrent values of K:\n",
    "    for i in range (1,k+1) :\n",
    "        Model = KNeighborsClassifier(i)\n",
    "        Model.fit(X_train,y_train.ravel())\n",
    "        TrainScore.append(np.round(Model.score(X_train,y_train),3))\n",
    "        TestScore.append(np.round(Model.score(X_test,y_test),3))\n",
    "        #Find the best K:\n",
    "    BestK = TestScore.index(max(TestScore))+1\n",
    "    BestScore = max(TestScore)\n",
    "    #Train final model with best K:\n",
    "    Model = KNeighborsClassifier(BestK)\n",
    "    Model.fit(X_train,y_train.ravel())\n",
    "    print(\"Model Accuracy for K = %d is: \"%k , np.round(TestScore,3))\n",
    "    print('The best result is coming from k = %d with accuracy of = %s .'%(BestK,BestScore))\n",
    "    #Evaluate the model:\n",
    "    Evaluation(Model,X,y,X_train,y_train,X_test,y_test)\n",
    "    #plot accuracy for all K values:\n",
    "    plt.plot(range(1,k+1),TrainScore,color='darkred',label='Train Accuracy')\n",
    "    plt.plot(range(1,k+1),TestScore,color='red',label='Test Accuracy')\n",
    "    plt.xlabel('k')\n",
    "    plt.ylabel('Accuracy')\n",
    "    plt.legend()\n",
    "    plt.show()"
   ]
  },
  {
   "cell_type": "code",
   "execution_count": null,
   "id": "390275ef",
   "metadata": {},
   "outputs": [],
   "source": [
    "print('KNN Model Result:')\n",
    "KNN(X,y,0.3,50,stratify=None)\n"
   ]
  },
  {
   "cell_type": "code",
   "execution_count": null,
   "id": "6b186baf",
   "metadata": {},
   "outputs": [],
   "source": [
    "df_norm = df.copy()\n",
    "features2= [\"Age\" , \"Experience\" , \"Income\" ,\"Family\" , \"CCAvg\" , \"Education\" ,\n",
    "                                    \"Mortgage\" , \"Securities Account\" , \"CD Account\" , \"Online\" , \"CreditCard\",\"log_CCAvg\",\n",
    "\"Income2\",\n",
    "\"age*in\",\n",
    "\"log_Income\"]\n",
    "df_norm = Normalization(df_norm,features2,(1,5))\n",
    "X = df_norm.drop('Personal Loan',axis=1)\n",
    "y = df_norm['Personal Loan'].values.reshape(-1,1)\n",
    "X_train,X_test,y_train,y_test = train_test_split(X,y,test_size=0.3,random_state=0,stratify=y)\n",
    "print(classification_report(y_test , y_pred))\n",
    "k = 1\n",
    "Model = KNeighborsClassifier(k)\n",
    "\n",
    "Model.fit(X_train,y_train.ravel())\n",
    "y_pred = Model.predict(X_test)\n",
    "\n",
    "plt.figure(figsize=(15, 8))\n",
    "sns.set(font_scale=1.2)\n",
    "sns.heatmap(confusion_matrix(y_test , y_pred) , annot=True, fmt=\"d\", cmap=\"viridis\", cbar=False,\n",
    "            xticklabels=['Predict 0s', 'Predict 1s'], yticklabels=['Actual 0s', 'Actual 1s'])\n",
    "plt.title('Confusion Matrix')\n",
    "plt.xlabel('Predicted')\n",
    "plt.ylabel('Actual')\n",
    "plt.show()"
   ]
  },
  {
   "cell_type": "code",
   "execution_count": null,
   "id": "a2c777c5",
   "metadata": {},
   "outputs": [],
   "source": [
    "df.columns"
   ]
  },
  {
   "cell_type": "markdown",
   "id": "f436a579",
   "metadata": {},
   "source": [
    "<div style=\"\n",
    "text-align:center;\n",
    "width :fit-content;\n",
    "  display: inline-block;\n",
    "  padding: 10px 20px;\n",
    "  background: linear-gradient(135deg, #667eea, #764ba2);\n",
    "  color: white;\n",
    "  font-family: 'Segoe UI', sans-serif;\n",
    "  font-size: 25px;\n",
    "  font-weight: bold;\n",
    "  border-radius: 12px;\n",
    "  box-shadow: 0 4px 12px rgba(0, 0, 0, 0.2);\n",
    "  letter-spacing: 1px;\n",
    "\">\n",
    "Ploting Actual Data VS Predicted Data\n",
    "</div>\n"
   ]
  },
  {
   "cell_type": "code",
   "execution_count": null,
   "id": "4063030e",
   "metadata": {},
   "outputs": [],
   "source": [
    "import pandas as pd\n",
    "import matplotlib.pyplot as plt\n",
    "\n",
    "\n",
    "df_train = pd.DataFrame(X_train, columns=[\"Age\", \"Experience\", \"Income\", \"Family\", \"CCAvg\", \"Education\", \"Mortgage\", \"Securities Account\", \"CD Account\", \"Online\", \"CreditCard\",\"log_CCAvg\",\n",
    "\"Income2\",\n",
    "\"age*in\",\n",
    "\"log_Income\"])\n",
    "df_train['Personal Loan'] = y_train\n",
    "\n",
    "df_test = pd.DataFrame(X_test, columns=[\"Age\", \"Experience\", \"Income\", \"Family\", \"CCAvg\", \"Education\", \"Mortgage\", \"Securities Account\", \"CD Account\", \"Online\", \"CreditCard\",\"log_CCAvg\",\n",
    "\"Income2\",\n",
    "\"age*in\",\n",
    "\"log_Income\"])\n",
    "\n",
    "df_test['Personal Loan (Actual)'] = y_test\n",
    "\n",
    "\n",
    "df_pred = df_test.copy()\n",
    "df_pred['Personal Loan (Predicted)'] = y_pred\n",
    "\n",
    "\n",
    "print(\"🔹 Train Data:\")\n",
    "display(df_train.head())\n",
    "\n",
    "print(\"🔹 Test Data with Actual Labels:\")\n",
    "display(df_test.head())\n",
    "\n",
    "print(\"🔹 Test Data with Predicted Labels:\")\n",
    "display(df_pred.head())\n",
    "\n",
    "plt.figure(figsize=(10, 4))\n",
    "plt.plot(y_test[:50], label='Actual', marker='o')\n",
    "plt.plot(y_pred[:50], label='Predicted', marker='x')\n",
    "plt.title('Actual vs Predicted (First 50 Samples)')\n",
    "plt.xlabel('Sample Index')\n",
    "plt.ylabel('Loan Approval (0/1)')\n",
    "plt.legend()\n",
    "plt.grid(True)\n",
    "plt.tight_layout()\n",
    "plt.show()"
   ]
  },
  {
   "cell_type": "code",
   "execution_count": null,
   "id": "4e70b021",
   "metadata": {},
   "outputs": [],
   "source": [
    "import matplotlib.pyplot as plt\n",
    "import seaborn as sns\n",
    "\n",
    "df_test['Personal Loan'] = y_test\n",
    "df_pred['Personal Loan'] = y_pred\n",
    "\n",
    "rows = 5\n",
    "cols = 2\n",
    "colors = [['skyblue','navy'], ['lightgreen','green'], ['gold','darkorange'], ['orchid','purple'], ['tomato','firebrick']]\n",
    "\n",
    "features = ['Income', 'Experience', 'Mortgage', 'Education', 'CCAvg'\n",
    "]\n",
    "\n",
    "\n",
    "for j, feature in enumerate(features):\n",
    "    plt.figure(figsize=(14, 12))\n",
    "\n",
    "    # Actual\n",
    "    plt.subplot(rows, cols, j*2 + 1)\n",
    "    sns.scatterplot(data=df_test, x=feature, y='Income', hue='Personal Loan', palette=colors[j])\n",
    "    plt.title('Actual Data')\n",
    "\n",
    "    if j == 2:\n",
    "        plt.legend([],[], frameon=False)\n",
    "\n",
    "    # Predicted\n",
    "    plt.subplot(rows, cols, j*2 + 2)\n",
    "    sns.scatterplot(data=df_pred, x=feature, y='Income', hue='Personal Loan', palette=colors[j])\n",
    "    plt.title('Predicted Data')\n",
    "\n",
    "    if j == 2:\n",
    "        plt.legend([],[], frameon=False)\n",
    "\n",
    "    plt.tight_layout()\n",
    "    plt.show()"
   ]
  },
  {
   "cell_type": "markdown",
   "id": "ea257f8f",
   "metadata": {},
   "source": [
    "<div style=\"\n",
    "    background: linear-gradient(135deg,rgb(0, 0, 0),rgb(5, 19, 3),rgba(105, 6, 92, 0.83));\n",
    "    width: 30%;\n",
    "    margin: 40px auto;\n",
    "    border-radius: 25px;\n",
    "    text-align: center;\n",
    "    box-shadow: 0px 0px 10px rgba(255, 0, 212, 1);\n",
    "    color: #e3f2fd;\n",
    "    font-size: 24px;\n",
    "    padding: 25px 75px;\n",
    "    font-family: 'Poppins', 'Segoe UI', Tahoma, Geneva, Verdana, sans-serif;\n",
    "    font-weight: 600;\n",
    "    letter-spacing: 1px;\n",
    "    transition: all 0.3s ease;\n",
    "\">\n",
    "    This code is for comparing actual data and predicted by the machine learning model on a few important features like income, experience, etc\n",
    "</div>"
   ]
  },
  {
   "cell_type": "markdown",
   "id": "d96fced3",
   "metadata": {},
   "source": [
    "<div style=\"\n",
    "  text-align:center;\n",
    "  width :fit-content;\n",
    "  display: inline-block;\n",
    "  padding: 10px 20px;\n",
    "  background: linear-gradient(135deg, #667eea, #764ba2);\n",
    "  color: white;\n",
    "  font-family: 'Segoe UI', sans-serif;\n",
    "  font-size: 25px;\n",
    "  font-weight: bold;\n",
    "  border-radius: 12px;\n",
    "  box-shadow: 0 4px 12px rgba(0, 0, 0, 0.2);\n",
    "  letter-spacing: 1px;\n",
    "\">\n",
    "Some data were predicted incorrectly\n",
    "</div>"
   ]
  },
  {
   "cell_type": "markdown",
   "id": "8194db5b",
   "metadata": {},
   "source": [
    "<div style=\"\n",
    "    background: linear-gradient(135deg,rgb(39, 15, 15),rgba(219, 52, 105, 1),rgb(100, 44, 44));\n",
    "    width: 67%;\n",
    "    margin: 40px auto;\n",
    "    border-radius: 25px;\n",
    "    text-align: center;\n",
    "    box-shadow: 0 8px 20px rgba(0, 0, 0, 0.4);\n",
    "    color: #e3f2fd;\n",
    "    font-size: 28px;\n",
    "    padding: 25px 35px;\n",
    "    font-family: 'Poppins', 'Segoe UI', Tahoma, Geneva, Verdana, sans-serif;\n",
    "    font-weight: 600;\n",
    "    letter-spacing: 1px;\n",
    "    border: 2px solidrgb(246, 100, 100);\n",
    "    transition: all 0.3s ease;\n",
    "\">\n",
    "    calculate precision, recall, f1-score after improve models\n",
    "</div>\n"
   ]
  },
  {
   "cell_type": "markdown",
   "id": "241f645f",
   "metadata": {},
   "source": [
    "<div style=\"\n",
    "    background: linear-gradient(135deg,rgb(39, 15, 15),rgba(63, 52, 219, 1),rgb(100, 44, 44));\n",
    "    width: 80%;\n",
    "    margin: 40px auto;\n",
    "    border-radius: 25px;\n",
    "    text-align: center;\n",
    "    box-shadow: 0 8px 20px rgba(0, 0, 0, 0.4);\n",
    "    color: #e3f2fd;\n",
    "    font-size: 28px;\n",
    "    padding: 25px 35px;\n",
    "    font-family: 'Poppins', 'Segoe UI', Tahoma, Geneva, Verdana, sans-serif;\n",
    "    font-weight: 600;\n",
    "    letter-spacing: 1px;\n",
    "    border: 2px solidrgb(246, 100, 100);\n",
    "    transition: all 0.3s ease;\n",
    "\">\n",
    "    ✅ 1. Logistic Regression<br>\n",
    "\n",
    "Class 0:<br>\n",
    " • Precision: 98%<br>\n",
    " • Recall: 98%<br>\n",
    " • F1-Score: 98%<br>\n",
    "\n",
    "Class 1:<br>\n",
    " • Precision: 82%<br>\n",
    " • Recall: 81%<br>\n",
    " • F1-Score: 82%<br>\n",
    "\n",
    "⸻\n",
    "\n",
    "✅ 2. K-Nearest Neighbors (KNN)<br>\n",
    "\n",
    "Class 0:<br>\n",
    " • Precision: 97%<br>\n",
    " • Recall: 1.00<br>\n",
    " • F1-Score: 98%<br>\n",
    "\n",
    "Class 1:<br>\n",
    " • Precision: 98%<br>\n",
    " • Recall: 72%<br>\n",
    " • F1-Score: 83%<br>\n",
    "\n",
    "\n",
    "</div>\n"
   ]
  },
  {
   "cell_type": "markdown",
   "id": "edc451e3",
   "metadata": {},
   "source": []
  },
  {
   "cell_type": "code",
   "execution_count": null,
   "id": "bc6fcde8",
   "metadata": {},
   "outputs": [],
   "source": []
  }
 ],
 "metadata": {
  "colab": {
   "provenance": []
  },
  "kernelspec": {
   "display_name": "Python 3 (Normal)",
   "language": "python",
   "name": "python3"
  },
  "language_info": {
   "codemirror_mode": {
    "name": "ipython",
    "version": 3
   },
   "file_extension": ".py",
   "mimetype": "text/x-python",
   "name": "python",
   "nbconvert_exporter": "python",
   "pygments_lexer": "ipython3",
   "version": "3.9.1"
  }
 },
 "nbformat": 4,
 "nbformat_minor": 5
}
